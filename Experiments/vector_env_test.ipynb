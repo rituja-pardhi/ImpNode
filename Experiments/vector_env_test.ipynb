{
 "cells": [
  {
   "cell_type": "code",
   "execution_count": 1,
   "outputs": [],
   "source": [
    "%load_ext autoreload\n",
    "%autoreload 2"
   ],
   "metadata": {
    "collapsed": false,
    "ExecuteTime": {
     "end_time": "2023-11-30T10:23:48.584506700Z",
     "start_time": "2023-11-30T10:23:48.512490700Z"
    }
   }
  },
  {
   "cell_type": "code",
   "execution_count": 2,
   "outputs": [],
   "source": [
    "from envs.GraphEnv.impnode import ImpnodeEnv\n",
    "from envs.sync_vector_env import GraphSyncVectorEnv\n",
    "from envs.async_vector_env import GraphAsyncVectorEnv\n",
    "from envs.async_vector_env2 import GraphAsyncVectorEnv2\n",
    "import  numpy as np\n",
    "import time"
   ],
   "metadata": {
    "collapsed": false,
    "ExecuteTime": {
     "end_time": "2023-11-30T10:23:49.591944800Z",
     "start_time": "2023-11-30T10:23:48.584506700Z"
    }
   }
  },
  {
   "cell_type": "code",
   "execution_count": 3,
   "outputs": [],
   "source": [
    "def make_env_fn(seed):\n",
    "    env = ImpnodeEnv(ba_nodes = 10, ba_edges = 6, max_removed_nodes = 5, seed = seed)\n",
    "    return env\n",
    "\n",
    "num_envs = 10\n",
    "num_episodes = 1"
   ],
   "metadata": {
    "collapsed": false,
    "ExecuteTime": {
     "end_time": "2023-11-30T10:23:49.707568900Z",
     "start_time": "2023-11-30T10:23:49.596943300Z"
    }
   }
  },
  {
   "cell_type": "code",
   "execution_count": 4,
   "outputs": [],
   "source": [
    "%load_ext line_profiler"
   ],
   "metadata": {
    "collapsed": false,
    "ExecuteTime": {
     "end_time": "2023-11-30T10:23:49.818138Z",
     "start_time": "2023-11-30T10:23:49.706564600Z"
    }
   }
  },
  {
   "cell_type": "code",
   "execution_count": 4,
   "outputs": [],
   "source": [],
   "metadata": {
    "collapsed": false,
    "ExecuteTime": {
     "end_time": "2023-11-30T10:23:49.833332Z",
     "start_time": "2023-11-30T10:23:49.819142800Z"
    }
   }
  },
  {
   "cell_type": "code",
   "execution_count": 5,
   "metadata": {
    "collapsed": true,
    "ExecuteTime": {
     "end_time": "2023-11-30T10:23:49.923344100Z",
     "start_time": "2023-11-30T10:23:49.836325200Z"
    }
   },
   "outputs": [],
   "source": [
    "def sync_func(num_envs, num_episodes):\n",
    "    sync_envs = GraphSyncVectorEnv([make_env_fn(i) for i in range(num_envs)])\n",
    "    for i in range(num_envs):\n",
    "        sync_envs.action_space(i).seed(i)\n",
    "\n",
    "    for i in range(num_episodes):\n",
    "        terminated = False\n",
    "        num_nodes = [sync_envs.num_nodes(i) for i in range(num_envs)]\n",
    "        masks = [np.ones(nodes, dtype=np.int8) for nodes in num_nodes]\n",
    "        while not terminated:\n",
    "            actions = [sync_envs.action_space(i).sample(mask=masks[i]) for i in range(num_envs)]\n",
    "            for j in range(num_envs):\n",
    "                masks[j][actions[j]] = 0\n",
    "            start = time.time()\n",
    "            observation, reward, terminated, truncated, info = sync_envs.step(actions)\n",
    "            end = time.time()\n",
    "            print(end-start)\n",
    "            terminated = sum(terminated)\n",
    "        sync_envs.reset()\n"
   ]
  },
  {
   "cell_type": "code",
   "execution_count": 6,
   "outputs": [
    {
     "name": "stdout",
     "output_type": "stream",
     "text": [
      "1.0938084125518799\n",
      "1.0901577472686768\n",
      "1.0885083675384521\n",
      "1.0909719467163086\n",
      "1.0932607650756836\n"
     ]
    }
   ],
   "source": [
    "sync_func(num_envs, num_episodes)"
   ],
   "metadata": {
    "collapsed": false,
    "ExecuteTime": {
     "end_time": "2023-11-30T10:23:55.532435Z",
     "start_time": "2023-11-30T10:23:49.925346100Z"
    }
   }
  },
  {
   "cell_type": "code",
   "execution_count": 7,
   "outputs": [],
   "source": [
    "def async_func(num_envs, num_episodes):\n",
    "    async_envs = GraphAsyncVectorEnv([make_env_fn(i) for i in range(num_envs)])\n",
    "    for i in range(num_envs):\n",
    "        async_envs.action_space(i).seed(i)\n",
    "    if __name__ == '__main__':\n",
    "        for i in range(num_episodes):\n",
    "            terminated = False\n",
    "            num_nodes = [async_envs.num_nodes(i) for i in range(num_envs)]\n",
    "            masks = [np.ones(nodes, dtype=np.int8) for nodes in num_nodes]\n",
    "            while not terminated:\n",
    "                actions = [async_envs.action_space(i).sample(mask=masks[i]) for i in range(num_envs)]\n",
    "                for j in range(num_envs):\n",
    "                    masks[j][actions[j]] = 0\n",
    "                start = time.time()\n",
    "                observation, reward, terminated, truncated, info = async_envs.step(actions)\n",
    "                end = time.time()\n",
    "                print(end-start)\n",
    "                terminated = sum(terminated)\n",
    "            async_envs.reset()\n"
   ],
   "metadata": {
    "collapsed": false,
    "ExecuteTime": {
     "end_time": "2023-11-30T10:23:55.627294800Z",
     "start_time": "2023-11-30T10:23:55.537435200Z"
    }
   }
  },
  {
   "cell_type": "code",
   "execution_count": 8,
   "outputs": [
    {
     "name": "stdout",
     "output_type": "stream",
     "text": [
      "0.2327280044555664\n",
      "0.2301652431488037\n",
      "0.23233675956726074\n",
      "0.23167824745178223\n",
      "0.21840667724609375\n"
     ]
    }
   ],
   "source": [
    "async_func(num_envs, num_episodes)"
   ],
   "metadata": {
    "collapsed": false,
    "ExecuteTime": {
     "end_time": "2023-11-30T10:23:56.933730900Z",
     "start_time": "2023-11-30T10:23:55.629293600Z"
    }
   }
  },
  {
   "cell_type": "code",
   "execution_count": null,
   "outputs": [],
   "source": [],
   "metadata": {
    "collapsed": false
   }
  }
 ],
 "metadata": {
  "kernelspec": {
   "display_name": "Python 3",
   "language": "python",
   "name": "python3"
  },
  "language_info": {
   "codemirror_mode": {
    "name": "ipython",
    "version": 2
   },
   "file_extension": ".py",
   "mimetype": "text/x-python",
   "name": "python",
   "nbconvert_exporter": "python",
   "pygments_lexer": "ipython2",
   "version": "2.7.6"
  }
 },
 "nbformat": 4,
 "nbformat_minor": 0
}
