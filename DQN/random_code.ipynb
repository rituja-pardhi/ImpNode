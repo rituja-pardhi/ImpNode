{
 "cells": [
  {
   "cell_type": "code",
   "execution_count": 1,
   "metadata": {
    "collapsed": true,
    "ExecuteTime": {
     "end_time": "2024-03-28T10:04:12.119964900Z",
     "start_time": "2024-03-28T10:04:10.892293900Z"
    }
   },
   "outputs": [],
   "source": [
    "import torch\n",
    "import networkx as nx\n",
    "from pathlib import Path\n",
    "%load_ext autoreload\n",
    "%autoreload 2"
   ]
  },
  {
   "cell_type": "markdown",
   "source": [
    "# Cross Product"
   ],
   "metadata": {
    "collapsed": false
   }
  },
  {
   "cell_type": "code",
   "outputs": [
    {
     "name": "stdout",
     "output_type": "stream",
     "text": [
      "torch.Size([16, 4, 4, 1])\n",
      "torch.Size([16, 4, 4])\n"
     ]
    }
   ],
   "source": [
    "a = 1\n",
    "b = 16\n",
    "c = 4\n",
    "d = 4\n",
    "e = 1\n",
    "t1 = torch.randn ((a, b, c))\n",
    "t2 = torch.randn ((a, d, e))\n",
    "tt = torch.einsum ('ijk,ilm -> jkl', t1, t2)\n",
    "print(tt.shape)\n",
    "#torch.Size([2, 5, 3, 4])\n",
    "tt = torch.squeeze(tt,3)\n",
    "print(tt.shape)"
   ],
   "metadata": {
    "collapsed": false,
    "ExecuteTime": {
     "end_time": "2024-03-20T10:10:31.047759200Z",
     "start_time": "2024-03-20T10:10:31.022723900Z"
    }
   },
   "execution_count": 45
  },
  {
   "cell_type": "code",
   "outputs": [],
   "source": [
    "t1 = torch.randn ((100, 64))\n",
    "t2 = torch.randn ((1, 64))"
   ],
   "metadata": {
    "collapsed": false,
    "ExecuteTime": {
     "end_time": "2024-03-28T10:04:19.148975300Z",
     "start_time": "2024-03-28T10:04:19.057650800Z"
    }
   },
   "execution_count": 2
  },
  {
   "cell_type": "code",
   "outputs": [
    {
     "ename": "RuntimeError",
     "evalue": "outer: Expected 1-D argument self, but got 2-D",
     "output_type": "error",
     "traceback": [
      "\u001B[1;31m---------------------------------------------------------------------------\u001B[0m",
      "\u001B[1;31mRuntimeError\u001B[0m                              Traceback (most recent call last)",
      "Cell \u001B[1;32mIn[3], line 1\u001B[0m\n\u001B[1;32m----> 1\u001B[0m outer_product \u001B[38;5;241m=\u001B[39m \u001B[43mtorch\u001B[49m\u001B[38;5;241;43m.\u001B[39;49m\u001B[43mger\u001B[49m\u001B[43m(\u001B[49m\u001B[43mt1\u001B[49m\u001B[43m,\u001B[49m\u001B[43m \u001B[49m\u001B[43mt2\u001B[49m\u001B[43m)\u001B[49m\n\u001B[0;32m      2\u001B[0m outer_product\n",
      "\u001B[1;31mRuntimeError\u001B[0m: outer: Expected 1-D argument self, but got 2-D"
     ]
    }
   ],
   "source": [
    "outer_product = torch.ger(t1, t2)\n",
    "outer_product"
   ],
   "metadata": {
    "collapsed": false,
    "ExecuteTime": {
     "end_time": "2024-03-28T10:04:38.889681700Z",
     "start_time": "2024-03-28T10:04:37.635379900Z"
    }
   },
   "execution_count": 3
  },
  {
   "cell_type": "code",
   "outputs": [
    {
     "name": "stdout",
     "output_type": "stream",
     "text": [
      "Concatenated tensor:\n",
      "tensor([[1, 2, 3],\n",
      "        [4, 5, 6]])\n"
     ]
    }
   ],
   "source": [
    "import torch\n",
    "\n",
    "# Define two input 1D tensors\n",
    "a = torch.tensor([1, 2, 3])\n",
    "b = torch.tensor([4, 5, 6])\n",
    "\n",
    "# Add singleton dimension to each tensor\n",
    "a = a.unsqueeze(0)  # Shape: (1, 3)\n",
    "b = b.unsqueeze(0)  # Shape: (1, 3)\n",
    "\n",
    "# Concatenate tensors along the first dimension\n",
    "concatenated = torch.cat((a, b), dim=0)\n",
    "\n",
    "print(\"Concatenated tensor:\")\n",
    "print(concatenated)\n"
   ],
   "metadata": {
    "collapsed": false,
    "ExecuteTime": {
     "end_time": "2024-03-28T10:33:37.683725400Z",
     "start_time": "2024-03-28T10:33:37.600249900Z"
    }
   },
   "execution_count": 6
  },
  {
   "cell_type": "code",
   "outputs": [
    {
     "name": "stdout",
     "output_type": "stream",
     "text": [
      "Outer product of tensors a and b:\n",
      "torch.Size([2, 3, 2])\n"
     ]
    }
   ],
   "source": [
    "import torch\n",
    "\n",
    "# Define two input 2D tensors\n",
    "a = torch.tensor([[1, 2, 3],\n",
    "                  [4, 5, 6]])\n",
    "b = torch.tensor([[7, 8],\n",
    "                  [9, 10],\n",
    "                  [11, 12]])\n",
    "\n",
    "# Reshape tensors to ensure proper broadcasting\n",
    "a_reshaped = a.unsqueeze(-1)  # Shape: (2, 3, 1)\n",
    "b_reshaped = b.unsqueeze(0)    # Shape: (1, 3, 2)\n",
    "\n",
    "# Compute the outer product\n",
    "outer_product = a_reshaped * b_reshaped\n",
    "\n",
    "print(\"Outer product of tensors a and b:\")\n",
    "print(outer_product.shape)"
   ],
   "metadata": {
    "collapsed": false,
    "ExecuteTime": {
     "end_time": "2024-03-28T10:05:55.446380400Z",
     "start_time": "2024-03-28T10:05:55.367716500Z"
    }
   },
   "execution_count": 5
  },
  {
   "cell_type": "markdown",
   "source": [
    "# power grid gml  file creation"
   ],
   "metadata": {
    "collapsed": false
   }
  },
  {
   "cell_type": "code",
   "outputs": [],
   "source": [
    "G = nx.read_adjlist(\"data/out.opsahl-powergrid\")"
   ],
   "metadata": {
    "collapsed": false
   },
   "execution_count": 78
  },
  {
   "cell_type": "code",
   "outputs": [],
   "source": [
    "current_path = Path.cwd()\n",
    "subdir = 'data'\n",
    "file_name = f\"power-grid.gml\"\n",
    "file_path = current_path/subdir/file_name"
   ],
   "metadata": {
    "collapsed": false
   },
   "execution_count": 79
  },
  {
   "cell_type": "code",
   "outputs": [],
   "source": [
    "degree = nx.degree_centrality(G)"
   ],
   "metadata": {
    "collapsed": false
   },
   "execution_count": 80
  },
  {
   "cell_type": "code",
   "outputs": [],
   "source": [
    "nx.set_node_attributes(G, degree, 'weight')"
   ],
   "metadata": {
    "collapsed": false
   },
   "execution_count": 81
  },
  {
   "cell_type": "code",
   "outputs": [],
   "source": [
    "nx.write_gml(G, file_path)"
   ],
   "metadata": {
    "collapsed": false
   },
   "execution_count": 82
  },
  {
   "cell_type": "code",
   "outputs": [],
   "source": [],
   "metadata": {
    "collapsed": false
   }
  },
  {
   "cell_type": "code",
   "outputs": [
    {
     "name": "stdout",
     "output_type": "stream",
     "text": [
      "torch.Size([10, 5, 1])\n",
      "torch.Size([1, 5, 1])\n"
     ]
    },
    {
     "ename": "RuntimeError",
     "evalue": "Expected size for first two dimensions of batch2 tensor to be: [10, 1] but got: [10, 5].",
     "output_type": "error",
     "traceback": [
      "\u001B[1;31m---------------------------------------------------------------------------\u001B[0m",
      "\u001B[1;31mRuntimeError\u001B[0m                              Traceback (most recent call last)",
      "Cell \u001B[1;32mIn[33], line 14\u001B[0m\n\u001B[0;32m     11\u001B[0m \u001B[38;5;28mprint\u001B[39m(vector2\u001B[38;5;241m.\u001B[39mshape)\n\u001B[0;32m     13\u001B[0m \u001B[38;5;66;03m# Perform outer product\u001B[39;00m\n\u001B[1;32m---> 14\u001B[0m outer_product \u001B[38;5;241m=\u001B[39m \u001B[43mtorch\u001B[49m\u001B[38;5;241;43m.\u001B[39;49m\u001B[43mmatmul\u001B[49m\u001B[43m(\u001B[49m\u001B[43mvector1\u001B[49m\u001B[43m,\u001B[49m\u001B[43m \u001B[49m\u001B[43mvector2\u001B[49m\u001B[43m)\u001B[49m\n\u001B[0;32m     15\u001B[0m \u001B[38;5;28mprint\u001B[39m(vector1\u001B[38;5;241m.\u001B[39mshape)\n\u001B[0;32m     16\u001B[0m \u001B[38;5;28mprint\u001B[39m(vector2\u001B[38;5;241m.\u001B[39mshape)\n",
      "\u001B[1;31mRuntimeError\u001B[0m: Expected size for first two dimensions of batch2 tensor to be: [10, 1] but got: [10, 5]."
     ]
    }
   ],
   "source": [
    "import torch\n",
    "\n",
    "# Define dimensions\n",
    "n = 10\n",
    "e = 5\n",
    "\n",
    "# Create input tensors\n",
    "vector1 = torch.randn(n, e).unsqueeze(2) # Shape: (n, e)\n",
    "vector2 = torch.randn(e, 1).T.unsqueeze(0)   # Shape: (e, 1)\n",
    "\n",
    "vector1 = vector1\n",
    "vector2 = vector2\n",
    "# Perform outer product\n",
    "outer_product = torch.matmul(vector1, vector2)\n",
    "print(vector1.shape)\n",
    "print(vector2.d)\n",
    "print(\"Output shape:\", outer_product.shape)  # Output shape will be (n, e, e)\n"
   ],
   "metadata": {
    "collapsed": false,
    "ExecuteTime": {
     "end_time": "2024-04-01T13:19:44.841907300Z",
     "start_time": "2024-04-01T13:19:44.809398500Z"
    }
   },
   "execution_count": 33
  },
  {
   "cell_type": "code",
   "outputs": [
    {
     "name": "stdout",
     "output_type": "stream",
     "text": [
      "Output shape: torch.Size([10, 5])\n"
     ]
    }
   ],
   "source": [
    "import torch\n",
    "import torch.nn as nn\n",
    "\n",
    "class MLP(nn.Module):\n",
    "    def __init__(self, input_dim, output_dim):\n",
    "        super(MLP, self).__init__()\n",
    "        self.fc1 = nn.Linear(input_dim, output_dim)\n",
    "\n",
    "    def forward(self, x):\n",
    "        x = torch.flatten(x, start_dim=1)\n",
    "        x = self.fc1(x)                     # Pass through second linear layer (no activation)\n",
    "        return x\n",
    "\n",
    "# Define dimensions\n",
    "n = 10\n",
    "e = 5\n",
    "\n",
    "# Create input tensor of shape (n, e, e)\n",
    "input_tensor = torch.randn(n, e, e)\n",
    "\n",
    "# Pass through MLP\n",
    "mlp = MLP(input_dim=e*e, output_dim=e*1)\n",
    "output_tensor = mlp(input_tensor)\n",
    "\n",
    "print(\"Output shape:\", output_tensor.shape)  # Output shape will be (n, e, 1)\n"
   ],
   "metadata": {
    "collapsed": false,
    "ExecuteTime": {
     "end_time": "2024-04-01T10:14:51.649985700Z",
     "start_time": "2024-04-01T10:14:51.627970100Z"
    }
   },
   "execution_count": 3
  },
  {
   "cell_type": "code",
   "outputs": [],
   "source": [
    "vector1 = torch.randn(3).unsqueeze(0)\n",
    "vector2 = torch.randn(3).unsqueeze(0)"
   ],
   "metadata": {
    "collapsed": false,
    "ExecuteTime": {
     "end_time": "2024-04-01T12:38:31.496707200Z",
     "start_time": "2024-04-01T12:38:31.470198Z"
    }
   },
   "execution_count": 17
  },
  {
   "cell_type": "code",
   "outputs": [
    {
     "data": {
      "text/plain": "tensor([[ 0.9136, -1.5978, -0.1895],\n        [-1.2544,  0.2930,  0.3909]])"
     },
     "execution_count": 18,
     "metadata": {},
     "output_type": "execute_result"
    }
   ],
   "source": [
    "vector3 = torch.cat((vector1, vector2),0)\n",
    "vector3"
   ],
   "metadata": {
    "collapsed": false,
    "ExecuteTime": {
     "end_time": "2024-04-01T12:38:34.277473700Z",
     "start_time": "2024-04-01T12:38:34.256961400Z"
    }
   },
   "execution_count": 18
  },
  {
   "cell_type": "code",
   "outputs": [],
   "source": [],
   "metadata": {
    "collapsed": false
   }
  }
 ],
 "metadata": {
  "kernelspec": {
   "display_name": "Python 3",
   "language": "python",
   "name": "python3"
  },
  "language_info": {
   "codemirror_mode": {
    "name": "ipython",
    "version": 2
   },
   "file_extension": ".py",
   "mimetype": "text/x-python",
   "name": "python",
   "nbconvert_exporter": "python",
   "pygments_lexer": "ipython2",
   "version": "2.7.6"
  }
 },
 "nbformat": 4,
 "nbformat_minor": 0
}
