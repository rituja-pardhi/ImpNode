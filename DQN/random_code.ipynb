{
 "cells": [
  {
   "cell_type": "code",
   "execution_count": 2,
   "metadata": {
    "collapsed": true,
    "ExecuteTime": {
     "end_time": "2024-04-11T13:18:58.077484900Z",
     "start_time": "2024-04-11T13:18:57.312716500Z"
    }
   },
   "outputs": [],
   "source": [
    "import torch\n",
    "import networkx as nx\n",
    "from pathlib import Path\n",
    "%load_ext autoreload\n",
    "%autoreload 2"
   ]
  },
  {
   "cell_type": "markdown",
   "source": [],
   "metadata": {
    "collapsed": false
   }
  },
  {
   "cell_type": "code",
   "outputs": [],
   "source": [
    "subdir = 'data/real/Cost'\n",
    "file_name = 'WS_degree.gml'\n",
    "data_path = Path.cwd()/subdir\n",
    "\n",
    "graph = nx.read_gml(data_path/file_name)"
   ],
   "metadata": {
    "collapsed": false,
    "ExecuteTime": {
     "end_time": "2024-04-11T13:18:58.668316600Z",
     "start_time": "2024-04-11T13:18:58.444792500Z"
    }
   },
   "execution_count": 3
  },
  {
   "cell_type": "code",
   "outputs": [
    {
     "ename": "RuntimeError",
     "evalue": "dictionary keys changed during iteration",
     "output_type": "error",
     "traceback": [
      "\u001B[1;31m---------------------------------------------------------------------------\u001B[0m",
      "\u001B[1;31mRuntimeError\u001B[0m                              Traceback (most recent call last)",
      "Cell \u001B[1;32mIn[12], line 2\u001B[0m\n\u001B[0;32m      1\u001B[0m len_gcc \u001B[38;5;241m=\u001B[39m []\n\u001B[1;32m----> 2\u001B[0m \u001B[38;5;28;01mfor\u001B[39;00m node \u001B[38;5;129;01min\u001B[39;00m graph\u001B[38;5;241m.\u001B[39mnodes():\n\u001B[0;32m      3\u001B[0m     edges \u001B[38;5;241m=\u001B[39m graph\u001B[38;5;241m.\u001B[39medges(node)\n\u001B[0;32m      5\u001B[0m     graph\u001B[38;5;241m.\u001B[39mremove_node(node)\n",
      "\u001B[1;31mRuntimeError\u001B[0m: dictionary keys changed during iteration"
     ]
    }
   ],
   "source": [
    "len_gcc = []\n",
    "for node in graph.nodes():\n",
    "    edges = graph.edges(node)\n",
    "    \n",
    "    graph.remove_node(node)\n",
    "    \n",
    "    GCC = sorted(nx.connected_components(graph), key=len,reverse=True)\n",
    "    len_gcc.append(len(GCC[0]))\n",
    "    graph.add_node(node)\n",
    "    graph.add_edges_from(edges)\n",
    "   "
   ],
   "metadata": {
    "collapsed": false,
    "ExecuteTime": {
     "end_time": "2024-04-11T14:11:17.734248800Z",
     "start_time": "2024-04-11T14:11:17.102011800Z"
    }
   },
   "execution_count": 12
  },
  {
   "cell_type": "code",
   "outputs": [],
   "source": [],
   "metadata": {
    "collapsed": false
   }
  }
 ],
 "metadata": {
  "kernelspec": {
   "display_name": "Python 3",
   "language": "python",
   "name": "python3"
  },
  "language_info": {
   "codemirror_mode": {
    "name": "ipython",
    "version": 2
   },
   "file_extension": ".py",
   "mimetype": "text/x-python",
   "name": "python",
   "nbconvert_exporter": "python",
   "pygments_lexer": "ipython2",
   "version": "2.7.6"
  }
 },
 "nbformat": 4,
 "nbformat_minor": 0
}
