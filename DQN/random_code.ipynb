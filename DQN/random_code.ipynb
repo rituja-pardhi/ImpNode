{
 "cells": [
  {
   "cell_type": "code",
   "execution_count": 31,
   "metadata": {
    "collapsed": true,
    "ExecuteTime": {
     "end_time": "2024-03-21T09:27:49.011359800Z",
     "start_time": "2024-03-21T09:27:48.990252800Z"
    }
   },
   "outputs": [],
   "source": [
    "import networkx as nx\n",
    "import matplotlib.pyplot as plt\n",
    "import numpy as np\n",
    "import torch\n",
    "import torch_geometric\n",
    "import matplotlib.pyplot as plt\n",
    "import networkx as nx\n",
    "from pathlib import Path\n",
    "from collections import Counter"
   ]
  },
  {
   "cell_type": "markdown",
   "source": [
    "# Cross Product"
   ],
   "metadata": {
    "collapsed": false
   }
  },
  {
   "cell_type": "code",
   "outputs": [
    {
     "name": "stdout",
     "output_type": "stream",
     "text": [
      "torch.Size([16, 4, 4, 1])\n",
      "torch.Size([16, 4, 4])\n"
     ]
    }
   ],
   "source": [
    "a = 1\n",
    "b = 16\n",
    "c = 4\n",
    "d = 4\n",
    "e = 1\n",
    "t1 = torch.randn ((a, b, c))\n",
    "t2 = torch.randn ((a, d, e))\n",
    "tt = torch.einsum ('ijk,ilm -> jklm', t1, t2)\n",
    "print(tt.shape)\n",
    "#torch.Size([2, 5, 3, 4])\n",
    "tt = torch.squeeze(tt,3)\n",
    "print(tt.shape)"
   ],
   "metadata": {
    "collapsed": false,
    "ExecuteTime": {
     "end_time": "2024-03-20T10:10:31.047759200Z",
     "start_time": "2024-03-20T10:10:31.022723900Z"
    }
   },
   "execution_count": 45
  }
 ],
 "metadata": {
  "kernelspec": {
   "display_name": "Python 3",
   "language": "python",
   "name": "python3"
  },
  "language_info": {
   "codemirror_mode": {
    "name": "ipython",
    "version": 2
   },
   "file_extension": ".py",
   "mimetype": "text/x-python",
   "name": "python",
   "nbconvert_exporter": "python",
   "pygments_lexer": "ipython2",
   "version": "2.7.6"
  }
 },
 "nbformat": 4,
 "nbformat_minor": 0
}
