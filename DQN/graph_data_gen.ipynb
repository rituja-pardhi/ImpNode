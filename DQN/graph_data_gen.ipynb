{
 "cells": [
  {
   "cell_type": "code",
   "execution_count": 8,
   "outputs": [
    {
     "name": "stdout",
     "output_type": "stream",
     "text": [
      "The autoreload extension is already loaded. To reload it, use:\n",
      "  %reload_ext autoreload\n"
     ]
    }
   ],
   "source": [
    "import networkx as nx\n",
    "import random\n",
    "from pathlib import Path\n",
    "%load_ext autoreload\n",
    "%autoreload 2"
   ],
   "metadata": {
    "collapsed": false,
    "ExecuteTime": {
     "end_time": "2024-01-10T15:24:54.421280200Z",
     "start_time": "2024-01-10T15:24:54.313254700Z"
    }
   }
  },
  {
   "cell_type": "code",
   "execution_count": 14,
   "metadata": {
    "collapsed": true,
    "ExecuteTime": {
     "end_time": "2024-01-10T15:29:24.313376900Z",
     "start_time": "2024-01-10T15:29:24.040314400Z"
    }
   },
   "outputs": [
    {
     "name": "stdout",
     "output_type": "stream",
     "text": [
      "Graph 0 saved to C:\\Users\\rituja.pardhi\\Thesis\\ma-rituja-pardhi\\DQN_trial\\data\\30-50\\g_0.gml\n",
      "Graph 1 saved to C:\\Users\\rituja.pardhi\\Thesis\\ma-rituja-pardhi\\DQN_trial\\data\\30-50\\g_1.gml\n",
      "Graph 2 saved to C:\\Users\\rituja.pardhi\\Thesis\\ma-rituja-pardhi\\DQN_trial\\data\\30-50\\g_2.gml\n",
      "Graph 3 saved to C:\\Users\\rituja.pardhi\\Thesis\\ma-rituja-pardhi\\DQN_trial\\data\\30-50\\g_3.gml\n",
      "Graph 4 saved to C:\\Users\\rituja.pardhi\\Thesis\\ma-rituja-pardhi\\DQN_trial\\data\\30-50\\g_4.gml\n",
      "Graph 5 saved to C:\\Users\\rituja.pardhi\\Thesis\\ma-rituja-pardhi\\DQN_trial\\data\\30-50\\g_5.gml\n",
      "Graph 6 saved to C:\\Users\\rituja.pardhi\\Thesis\\ma-rituja-pardhi\\DQN_trial\\data\\30-50\\g_6.gml\n",
      "Graph 7 saved to C:\\Users\\rituja.pardhi\\Thesis\\ma-rituja-pardhi\\DQN_trial\\data\\30-50\\g_7.gml\n",
      "Graph 8 saved to C:\\Users\\rituja.pardhi\\Thesis\\ma-rituja-pardhi\\DQN_trial\\data\\30-50\\g_8.gml\n",
      "Graph 9 saved to C:\\Users\\rituja.pardhi\\Thesis\\ma-rituja-pardhi\\DQN_trial\\data\\30-50\\g_9.gml\n",
      "Graph 10 saved to C:\\Users\\rituja.pardhi\\Thesis\\ma-rituja-pardhi\\DQN_trial\\data\\30-50\\g_10.gml\n",
      "Graph 11 saved to C:\\Users\\rituja.pardhi\\Thesis\\ma-rituja-pardhi\\DQN_trial\\data\\30-50\\g_11.gml\n",
      "Graph 12 saved to C:\\Users\\rituja.pardhi\\Thesis\\ma-rituja-pardhi\\DQN_trial\\data\\30-50\\g_12.gml\n",
      "Graph 13 saved to C:\\Users\\rituja.pardhi\\Thesis\\ma-rituja-pardhi\\DQN_trial\\data\\30-50\\g_13.gml\n",
      "Graph 14 saved to C:\\Users\\rituja.pardhi\\Thesis\\ma-rituja-pardhi\\DQN_trial\\data\\30-50\\g_14.gml\n",
      "Graph 15 saved to C:\\Users\\rituja.pardhi\\Thesis\\ma-rituja-pardhi\\DQN_trial\\data\\30-50\\g_15.gml\n",
      "Graph 16 saved to C:\\Users\\rituja.pardhi\\Thesis\\ma-rituja-pardhi\\DQN_trial\\data\\30-50\\g_16.gml\n",
      "Graph 17 saved to C:\\Users\\rituja.pardhi\\Thesis\\ma-rituja-pardhi\\DQN_trial\\data\\30-50\\g_17.gml\n",
      "Graph 18 saved to C:\\Users\\rituja.pardhi\\Thesis\\ma-rituja-pardhi\\DQN_trial\\data\\30-50\\g_18.gml\n",
      "Graph 19 saved to C:\\Users\\rituja.pardhi\\Thesis\\ma-rituja-pardhi\\DQN_trial\\data\\30-50\\g_19.gml\n",
      "Graph 20 saved to C:\\Users\\rituja.pardhi\\Thesis\\ma-rituja-pardhi\\DQN_trial\\data\\30-50\\g_20.gml\n",
      "Graph 21 saved to C:\\Users\\rituja.pardhi\\Thesis\\ma-rituja-pardhi\\DQN_trial\\data\\30-50\\g_21.gml\n",
      "Graph 22 saved to C:\\Users\\rituja.pardhi\\Thesis\\ma-rituja-pardhi\\DQN_trial\\data\\30-50\\g_22.gml\n",
      "Graph 23 saved to C:\\Users\\rituja.pardhi\\Thesis\\ma-rituja-pardhi\\DQN_trial\\data\\30-50\\g_23.gml\n",
      "Graph 24 saved to C:\\Users\\rituja.pardhi\\Thesis\\ma-rituja-pardhi\\DQN_trial\\data\\30-50\\g_24.gml\n",
      "Graph 25 saved to C:\\Users\\rituja.pardhi\\Thesis\\ma-rituja-pardhi\\DQN_trial\\data\\30-50\\g_25.gml\n",
      "Graph 26 saved to C:\\Users\\rituja.pardhi\\Thesis\\ma-rituja-pardhi\\DQN_trial\\data\\30-50\\g_26.gml\n",
      "Graph 27 saved to C:\\Users\\rituja.pardhi\\Thesis\\ma-rituja-pardhi\\DQN_trial\\data\\30-50\\g_27.gml\n",
      "Graph 28 saved to C:\\Users\\rituja.pardhi\\Thesis\\ma-rituja-pardhi\\DQN_trial\\data\\30-50\\g_28.gml\n",
      "Graph 29 saved to C:\\Users\\rituja.pardhi\\Thesis\\ma-rituja-pardhi\\DQN_trial\\data\\30-50\\g_29.gml\n",
      "Graph 30 saved to C:\\Users\\rituja.pardhi\\Thesis\\ma-rituja-pardhi\\DQN_trial\\data\\30-50\\g_30.gml\n",
      "Graph 31 saved to C:\\Users\\rituja.pardhi\\Thesis\\ma-rituja-pardhi\\DQN_trial\\data\\30-50\\g_31.gml\n",
      "Graph 32 saved to C:\\Users\\rituja.pardhi\\Thesis\\ma-rituja-pardhi\\DQN_trial\\data\\30-50\\g_32.gml\n",
      "Graph 33 saved to C:\\Users\\rituja.pardhi\\Thesis\\ma-rituja-pardhi\\DQN_trial\\data\\30-50\\g_33.gml\n",
      "Graph 34 saved to C:\\Users\\rituja.pardhi\\Thesis\\ma-rituja-pardhi\\DQN_trial\\data\\30-50\\g_34.gml\n",
      "Graph 35 saved to C:\\Users\\rituja.pardhi\\Thesis\\ma-rituja-pardhi\\DQN_trial\\data\\30-50\\g_35.gml\n",
      "Graph 36 saved to C:\\Users\\rituja.pardhi\\Thesis\\ma-rituja-pardhi\\DQN_trial\\data\\30-50\\g_36.gml\n",
      "Graph 37 saved to C:\\Users\\rituja.pardhi\\Thesis\\ma-rituja-pardhi\\DQN_trial\\data\\30-50\\g_37.gml\n",
      "Graph 38 saved to C:\\Users\\rituja.pardhi\\Thesis\\ma-rituja-pardhi\\DQN_trial\\data\\30-50\\g_38.gml\n",
      "Graph 39 saved to C:\\Users\\rituja.pardhi\\Thesis\\ma-rituja-pardhi\\DQN_trial\\data\\30-50\\g_39.gml\n",
      "Graph 40 saved to C:\\Users\\rituja.pardhi\\Thesis\\ma-rituja-pardhi\\DQN_trial\\data\\30-50\\g_40.gml\n",
      "Graph 41 saved to C:\\Users\\rituja.pardhi\\Thesis\\ma-rituja-pardhi\\DQN_trial\\data\\30-50\\g_41.gml\n",
      "Graph 42 saved to C:\\Users\\rituja.pardhi\\Thesis\\ma-rituja-pardhi\\DQN_trial\\data\\30-50\\g_42.gml\n",
      "Graph 43 saved to C:\\Users\\rituja.pardhi\\Thesis\\ma-rituja-pardhi\\DQN_trial\\data\\30-50\\g_43.gml\n",
      "Graph 44 saved to C:\\Users\\rituja.pardhi\\Thesis\\ma-rituja-pardhi\\DQN_trial\\data\\30-50\\g_44.gml\n",
      "Graph 45 saved to C:\\Users\\rituja.pardhi\\Thesis\\ma-rituja-pardhi\\DQN_trial\\data\\30-50\\g_45.gml\n",
      "Graph 46 saved to C:\\Users\\rituja.pardhi\\Thesis\\ma-rituja-pardhi\\DQN_trial\\data\\30-50\\g_46.gml\n",
      "Graph 47 saved to C:\\Users\\rituja.pardhi\\Thesis\\ma-rituja-pardhi\\DQN_trial\\data\\30-50\\g_47.gml\n",
      "Graph 48 saved to C:\\Users\\rituja.pardhi\\Thesis\\ma-rituja-pardhi\\DQN_trial\\data\\30-50\\g_48.gml\n",
      "Graph 49 saved to C:\\Users\\rituja.pardhi\\Thesis\\ma-rituja-pardhi\\DQN_trial\\data\\30-50\\g_49.gml\n",
      "Graph 50 saved to C:\\Users\\rituja.pardhi\\Thesis\\ma-rituja-pardhi\\DQN_trial\\data\\30-50\\g_50.gml\n",
      "Graph 51 saved to C:\\Users\\rituja.pardhi\\Thesis\\ma-rituja-pardhi\\DQN_trial\\data\\30-50\\g_51.gml\n",
      "Graph 52 saved to C:\\Users\\rituja.pardhi\\Thesis\\ma-rituja-pardhi\\DQN_trial\\data\\30-50\\g_52.gml\n",
      "Graph 53 saved to C:\\Users\\rituja.pardhi\\Thesis\\ma-rituja-pardhi\\DQN_trial\\data\\30-50\\g_53.gml\n",
      "Graph 54 saved to C:\\Users\\rituja.pardhi\\Thesis\\ma-rituja-pardhi\\DQN_trial\\data\\30-50\\g_54.gml\n",
      "Graph 55 saved to C:\\Users\\rituja.pardhi\\Thesis\\ma-rituja-pardhi\\DQN_trial\\data\\30-50\\g_55.gml\n",
      "Graph 56 saved to C:\\Users\\rituja.pardhi\\Thesis\\ma-rituja-pardhi\\DQN_trial\\data\\30-50\\g_56.gml\n",
      "Graph 57 saved to C:\\Users\\rituja.pardhi\\Thesis\\ma-rituja-pardhi\\DQN_trial\\data\\30-50\\g_57.gml\n",
      "Graph 58 saved to C:\\Users\\rituja.pardhi\\Thesis\\ma-rituja-pardhi\\DQN_trial\\data\\30-50\\g_58.gml\n",
      "Graph 59 saved to C:\\Users\\rituja.pardhi\\Thesis\\ma-rituja-pardhi\\DQN_trial\\data\\30-50\\g_59.gml\n",
      "Graph 60 saved to C:\\Users\\rituja.pardhi\\Thesis\\ma-rituja-pardhi\\DQN_trial\\data\\30-50\\g_60.gml\n",
      "Graph 61 saved to C:\\Users\\rituja.pardhi\\Thesis\\ma-rituja-pardhi\\DQN_trial\\data\\30-50\\g_61.gml\n",
      "Graph 62 saved to C:\\Users\\rituja.pardhi\\Thesis\\ma-rituja-pardhi\\DQN_trial\\data\\30-50\\g_62.gml\n",
      "Graph 63 saved to C:\\Users\\rituja.pardhi\\Thesis\\ma-rituja-pardhi\\DQN_trial\\data\\30-50\\g_63.gml\n",
      "Graph 64 saved to C:\\Users\\rituja.pardhi\\Thesis\\ma-rituja-pardhi\\DQN_trial\\data\\30-50\\g_64.gml\n",
      "Graph 65 saved to C:\\Users\\rituja.pardhi\\Thesis\\ma-rituja-pardhi\\DQN_trial\\data\\30-50\\g_65.gml\n",
      "Graph 66 saved to C:\\Users\\rituja.pardhi\\Thesis\\ma-rituja-pardhi\\DQN_trial\\data\\30-50\\g_66.gml\n",
      "Graph 67 saved to C:\\Users\\rituja.pardhi\\Thesis\\ma-rituja-pardhi\\DQN_trial\\data\\30-50\\g_67.gml\n",
      "Graph 68 saved to C:\\Users\\rituja.pardhi\\Thesis\\ma-rituja-pardhi\\DQN_trial\\data\\30-50\\g_68.gml\n",
      "Graph 69 saved to C:\\Users\\rituja.pardhi\\Thesis\\ma-rituja-pardhi\\DQN_trial\\data\\30-50\\g_69.gml\n",
      "Graph 70 saved to C:\\Users\\rituja.pardhi\\Thesis\\ma-rituja-pardhi\\DQN_trial\\data\\30-50\\g_70.gml\n",
      "Graph 71 saved to C:\\Users\\rituja.pardhi\\Thesis\\ma-rituja-pardhi\\DQN_trial\\data\\30-50\\g_71.gml\n",
      "Graph 72 saved to C:\\Users\\rituja.pardhi\\Thesis\\ma-rituja-pardhi\\DQN_trial\\data\\30-50\\g_72.gml\n",
      "Graph 73 saved to C:\\Users\\rituja.pardhi\\Thesis\\ma-rituja-pardhi\\DQN_trial\\data\\30-50\\g_73.gml\n",
      "Graph 74 saved to C:\\Users\\rituja.pardhi\\Thesis\\ma-rituja-pardhi\\DQN_trial\\data\\30-50\\g_74.gml\n",
      "Graph 75 saved to C:\\Users\\rituja.pardhi\\Thesis\\ma-rituja-pardhi\\DQN_trial\\data\\30-50\\g_75.gml\n",
      "Graph 76 saved to C:\\Users\\rituja.pardhi\\Thesis\\ma-rituja-pardhi\\DQN_trial\\data\\30-50\\g_76.gml\n",
      "Graph 77 saved to C:\\Users\\rituja.pardhi\\Thesis\\ma-rituja-pardhi\\DQN_trial\\data\\30-50\\g_77.gml\n",
      "Graph 78 saved to C:\\Users\\rituja.pardhi\\Thesis\\ma-rituja-pardhi\\DQN_trial\\data\\30-50\\g_78.gml\n",
      "Graph 79 saved to C:\\Users\\rituja.pardhi\\Thesis\\ma-rituja-pardhi\\DQN_trial\\data\\30-50\\g_79.gml\n",
      "Graph 80 saved to C:\\Users\\rituja.pardhi\\Thesis\\ma-rituja-pardhi\\DQN_trial\\data\\30-50\\g_80.gml\n",
      "Graph 81 saved to C:\\Users\\rituja.pardhi\\Thesis\\ma-rituja-pardhi\\DQN_trial\\data\\30-50\\g_81.gml\n",
      "Graph 82 saved to C:\\Users\\rituja.pardhi\\Thesis\\ma-rituja-pardhi\\DQN_trial\\data\\30-50\\g_82.gml\n",
      "Graph 83 saved to C:\\Users\\rituja.pardhi\\Thesis\\ma-rituja-pardhi\\DQN_trial\\data\\30-50\\g_83.gml\n",
      "Graph 84 saved to C:\\Users\\rituja.pardhi\\Thesis\\ma-rituja-pardhi\\DQN_trial\\data\\30-50\\g_84.gml\n",
      "Graph 85 saved to C:\\Users\\rituja.pardhi\\Thesis\\ma-rituja-pardhi\\DQN_trial\\data\\30-50\\g_85.gml\n",
      "Graph 86 saved to C:\\Users\\rituja.pardhi\\Thesis\\ma-rituja-pardhi\\DQN_trial\\data\\30-50\\g_86.gml\n",
      "Graph 87 saved to C:\\Users\\rituja.pardhi\\Thesis\\ma-rituja-pardhi\\DQN_trial\\data\\30-50\\g_87.gml\n",
      "Graph 88 saved to C:\\Users\\rituja.pardhi\\Thesis\\ma-rituja-pardhi\\DQN_trial\\data\\30-50\\g_88.gml\n",
      "Graph 89 saved to C:\\Users\\rituja.pardhi\\Thesis\\ma-rituja-pardhi\\DQN_trial\\data\\30-50\\g_89.gml\n",
      "Graph 90 saved to C:\\Users\\rituja.pardhi\\Thesis\\ma-rituja-pardhi\\DQN_trial\\data\\30-50\\g_90.gml\n",
      "Graph 91 saved to C:\\Users\\rituja.pardhi\\Thesis\\ma-rituja-pardhi\\DQN_trial\\data\\30-50\\g_91.gml\n",
      "Graph 92 saved to C:\\Users\\rituja.pardhi\\Thesis\\ma-rituja-pardhi\\DQN_trial\\data\\30-50\\g_92.gml\n",
      "Graph 93 saved to C:\\Users\\rituja.pardhi\\Thesis\\ma-rituja-pardhi\\DQN_trial\\data\\30-50\\g_93.gml\n",
      "Graph 94 saved to C:\\Users\\rituja.pardhi\\Thesis\\ma-rituja-pardhi\\DQN_trial\\data\\30-50\\g_94.gml\n",
      "Graph 95 saved to C:\\Users\\rituja.pardhi\\Thesis\\ma-rituja-pardhi\\DQN_trial\\data\\30-50\\g_95.gml\n",
      "Graph 96 saved to C:\\Users\\rituja.pardhi\\Thesis\\ma-rituja-pardhi\\DQN_trial\\data\\30-50\\g_96.gml\n",
      "Graph 97 saved to C:\\Users\\rituja.pardhi\\Thesis\\ma-rituja-pardhi\\DQN_trial\\data\\30-50\\g_97.gml\n",
      "Graph 98 saved to C:\\Users\\rituja.pardhi\\Thesis\\ma-rituja-pardhi\\DQN_trial\\data\\30-50\\g_98.gml\n",
      "Graph 99 saved to C:\\Users\\rituja.pardhi\\Thesis\\ma-rituja-pardhi\\DQN_trial\\data\\30-50\\g_99.gml\n"
     ]
    }
   ],
   "source": [
    "current_path = Path.cwd()\n",
    "\n",
    "for i in range(10):\n",
    "\n",
    "    graph = nx.barabasi_albert_graph(8, 2)\n",
    "\n",
    "    subdir = 'data/synthetic/uniform_cost/8/'\n",
    "    file_name = f\"g_{i}.gml\"\n",
    "    file_path = current_path/subdir/file_name\n",
    "\n",
    "    nx.write_gml(graph, file_path)\n",
    "\n",
    "    print(f\"Graph {i} saved to {file_path}\")"
   ]
  },
  {
   "cell_type": "code",
   "execution_count": null,
   "outputs": [],
   "source": [],
   "metadata": {
    "collapsed": false
   }
  }
 ],
 "metadata": {
  "kernelspec": {
   "display_name": "Python 3",
   "language": "python",
   "name": "python3"
  },
  "language_info": {
   "codemirror_mode": {
    "name": "ipython",
    "version": 2
   },
   "file_extension": ".py",
   "mimetype": "text/x-python",
   "name": "python",
   "nbconvert_exporter": "python",
   "pygments_lexer": "ipython2",
   "version": "2.7.6"
  }
 },
 "nbformat": 4,
 "nbformat_minor": 0
}
