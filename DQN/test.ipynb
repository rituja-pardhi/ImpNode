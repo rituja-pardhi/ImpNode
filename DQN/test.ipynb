{
 "cells": [
  {
   "cell_type": "code",
   "execution_count": 100,
   "metadata": {
    "collapsed": true,
    "ExecuteTime": {
     "end_time": "2024-03-15T15:26:14.542190700Z",
     "start_time": "2024-03-15T15:26:14.119709400Z"
    }
   },
   "outputs": [
    {
     "name": "stdout",
     "output_type": "stream",
     "text": [
      "The autoreload extension is already loaded. To reload it, use:\n",
      "  %reload_ext autoreload\n"
     ]
    }
   ],
   "source": [
    "import networkx as nx\n",
    "import seaborn as sns\n",
    "from pathlib import Path\n",
    "import torch\n",
    "import DQN_agent_new\n",
    "from envs.GraphEnv.impnode import ImpnodeEnv\n",
    "import  numpy as np\n",
    "from model import DQNNet\n",
    "from replay_memory import ReplayMemory\n",
    "from torch_geometric.utils import get_laplacian\n",
    "%load_ext autoreload\n",
    "%autoreload 2"
   ]
  },
  {
   "cell_type": "code",
   "outputs": [
    {
     "name": "stdout",
     "output_type": "stream",
     "text": [
      "cpu\n"
     ]
    }
   ],
   "source": [
    "device = torch.device(\"cuda\" if torch.cuda.is_available() else \"cpu\")\n",
    "print(device)"
   ],
   "metadata": {
    "collapsed": false,
    "ExecuteTime": {
     "end_time": "2024-03-15T15:26:14.665260900Z",
     "start_time": "2024-03-15T15:26:14.454811200Z"
    }
   },
   "execution_count": 101
  },
  {
   "cell_type": "code",
   "outputs": [],
   "source": [
    "subdir = 'data/synthetic/uniform_cost/6-10'\n",
    "data_path = Path.cwd()/subdir"
   ],
   "metadata": {
    "collapsed": false,
    "ExecuteTime": {
     "end_time": "2024-03-15T15:27:02.428369600Z",
     "start_time": "2024-03-15T15:27:02.282182300Z"
    }
   },
   "execution_count": 117
  },
  {
   "cell_type": "code",
   "outputs": [],
   "source": [
    "env = ImpnodeEnv(anc='dw_nd', ba_nodes=(3, 5), ba_edges = 4,max_removed_nodes = 4, seed=1234, render_option=False, data= False,data_path=data_path, train_mode=True)"
   ],
   "metadata": {
    "collapsed": false,
    "ExecuteTime": {
     "end_time": "2024-03-15T15:27:02.850873300Z",
     "start_time": "2024-03-15T15:27:02.634237500Z"
    }
   },
   "execution_count": 118
  },
  {
   "cell_type": "code",
   "outputs": [],
   "source": [
    "memory = ReplayMemory(capacity=4)"
   ],
   "metadata": {
    "collapsed": false,
    "ExecuteTime": {
     "end_time": "2024-03-15T15:27:03.071823700Z",
     "start_time": "2024-03-15T15:27:02.888113200Z"
    }
   },
   "execution_count": 119
  },
  {
   "cell_type": "code",
   "outputs": [],
   "source": [
    "for _ in range(10):\n",
    "    N_STEP = 2\n",
    "    state_history, action_history, reward_history = [], [], []\n",
    "    done = False\n",
    "    state, info = env.reset()\n",
    "\n",
    "    while not done:\n",
    "        action = env.action_space.sample(mask=info['node_action_mask']) # samples random action\n",
    "        next_state, reward, done, truncated, info = env.step(action)\n",
    "        state_history.append(state)\n",
    "        action_history.append(action)\n",
    "        reward_history.append(reward)\n",
    "\n",
    "        if len(state_history) >= N_STEP:\n",
    "            n_step_states = state_history[-N_STEP]\n",
    "            n_step_actions = action_history[-N_STEP]\n",
    "            n_step_rewards = reward_history[-N_STEP:]\n",
    "\n",
    "            # Calculate n-step return\n",
    "            n_step_return = sum(reward * (0.99 ** i) for i, reward in enumerate(n_step_rewards))\n",
    "            memory.store(\n",
    "                state=n_step_states,\n",
    "                action=n_step_actions,\n",
    "                next_state=next_state,\n",
    "                reward=n_step_return,\n",
    "                done=done\n",
    "            )\n",
    "        state = next_state"
   ],
   "metadata": {
    "collapsed": false,
    "ExecuteTime": {
     "end_time": "2024-03-15T15:27:03.352685300Z",
     "start_time": "2024-03-15T15:27:03.167112900Z"
    }
   },
   "execution_count": 120
  },
  {
   "cell_type": "code",
   "execution_count": 121,
   "outputs": [],
   "source": [
    "states, actions, next_states, rewards, dones = memory.sample(4, device)"
   ],
   "metadata": {
    "collapsed": false,
    "ExecuteTime": {
     "end_time": "2024-03-15T15:27:03.607064200Z",
     "start_time": "2024-03-15T15:27:03.415219600Z"
    }
   }
  },
  {
   "cell_type": "code",
   "outputs": [],
   "source": [
    "policy_net = DQNNet(5, 2, 0.01).to(device)"
   ],
   "metadata": {
    "collapsed": false,
    "ExecuteTime": {
     "end_time": "2024-03-15T15:27:03.965830300Z",
     "start_time": "2024-03-15T15:27:03.788622900Z"
    }
   },
   "execution_count": 122
  },
  {
   "cell_type": "code",
   "outputs": [],
   "source": [
    "import torch_geometric\n",
    "\n",
    "pyg_states_novir = [torch_geometric.utils.from_networkx(state) for state in states]\n",
    "graph = torch_geometric.data.Batch.from_data_list(pyg_states_novir)\n",
    "\n",
    "new_states = []\n",
    "# add virtual node, it's edges and it's features for states\n",
    "for state in states:\n",
    "    new_state = state.to_directed()\n",
    "    new_node = len(new_state)\n",
    "    new_state.add_node(new_node)\n",
    "    # Add directed edges from the new node to all existing nodes\n",
    "    for node in state.nodes:\n",
    "        new_state.add_edge(new_node, node)\n",
    "    nx.set_node_attributes(new_state, {new_node: np.ones(5, dtype=int)}, name='features')\n",
    "\n",
    "    new_states.append(new_state)\n",
    "\n",
    "# nx to pyg graph conversion for states\n",
    "pyg_states = [torch_geometric.utils.from_networkx(state) for state in new_states]\n",
    "batch_of_states = torch_geometric.data.Batch.from_data_list(pyg_states)\n"
   ],
   "metadata": {
    "collapsed": false,
    "ExecuteTime": {
     "end_time": "2024-03-15T15:27:04.140110300Z",
     "start_time": "2024-03-15T15:27:03.972831500Z"
    }
   },
   "execution_count": 123
  },
  {
   "cell_type": "code",
   "outputs": [],
   "source": [
    "all_q_values_policy, embeddings = policy_net.forward(batch_of_states, embedding=True)"
   ],
   "metadata": {
    "collapsed": false,
    "ExecuteTime": {
     "end_time": "2024-03-15T15:27:04.811043100Z",
     "start_time": "2024-03-15T15:27:04.559904500Z"
    }
   },
   "execution_count": 124
  },
  {
   "cell_type": "code",
   "outputs": [
    {
     "data": {
      "text/plain": "torch.Size([34, 4])"
     },
     "execution_count": 125,
     "metadata": {},
     "output_type": "execute_result"
    }
   ],
   "source": [
    "embeddings.shape"
   ],
   "metadata": {
    "collapsed": false,
    "ExecuteTime": {
     "end_time": "2024-03-15T15:27:05.000283200Z",
     "start_time": "2024-03-15T15:27:04.850049100Z"
    }
   },
   "execution_count": 125
  },
  {
   "cell_type": "code",
   "outputs": [
    {
     "data": {
      "text/plain": "DataBatch(edge_index=[2, 94], features=[34, 5], num_nodes=34, batch=[34], ptr=[5])"
     },
     "execution_count": 126,
     "metadata": {},
     "output_type": "execute_result"
    }
   ],
   "source": [
    "graph"
   ],
   "metadata": {
    "collapsed": false,
    "ExecuteTime": {
     "end_time": "2024-03-15T15:27:05.280756800Z",
     "start_time": "2024-03-15T15:27:05.085857100Z"
    }
   },
   "execution_count": 126
  },
  {
   "cell_type": "code",
   "outputs": [
    {
     "name": "stdout",
     "output_type": "stream",
     "text": [
      "[tensor([[ 6., -1., -1., -1., -1., -1., -1.,  0.],\n",
      "        [-1.,  3.,  0.,  0.,  0., -1., -1.,  0.],\n",
      "        [-1.,  0.,  2.,  0.,  0., -1.,  0.,  0.],\n",
      "        [-1.,  0.,  0.,  1.,  0.,  0.,  0.,  0.],\n",
      "        [-1.,  0.,  0.,  0.,  3., -1., -1.,  0.],\n",
      "        [-1., -1., -1.,  0., -1.,  5., -1.,  0.],\n",
      "        [-1., -1.,  0.,  0., -1., -1.,  4.,  0.],\n",
      "        [ 0.,  0.,  0.,  0.,  0.,  0.,  0.,  0.]]), tensor([[ 0.,  0.,  0.,  0.,  0.,  0.,  0.,  0.,  0.,  0.],\n",
      "        [ 0.,  3.,  0.,  0.,  0., -1.,  0.,  0., -1., -1.],\n",
      "        [ 0.,  0.,  2.,  0.,  0., -1.,  0.,  0.,  0., -1.],\n",
      "        [ 0.,  0.,  0.,  1.,  0.,  0.,  0., -1.,  0.,  0.],\n",
      "        [ 0.,  0.,  0.,  0.,  2., -1.,  0., -1.,  0.,  0.],\n",
      "        [ 0., -1., -1.,  0., -1.,  3.,  0.,  0.,  0.,  0.],\n",
      "        [ 0.,  0.,  0.,  0.,  0.,  0.,  0.,  0.,  0.,  0.],\n",
      "        [ 0.,  0.,  0., -1., -1.,  0.,  0.,  4., -1., -1.],\n",
      "        [ 0., -1.,  0.,  0.,  0.,  0.,  0., -1.,  2.,  0.],\n",
      "        [ 0., -1., -1.,  0.,  0.,  0.,  0., -1.,  0.,  3.]]), tensor([[ 7., -1., -1., -1., -1., -1., -1., -1.],\n",
      "        [-1.,  3.,  0.,  0.,  0., -1., -1.,  0.],\n",
      "        [-1.,  0.,  2.,  0.,  0., -1.,  0.,  0.],\n",
      "        [-1.,  0.,  0.,  2.,  0.,  0.,  0., -1.],\n",
      "        [-1.,  0.,  0.,  0.,  4., -1., -1., -1.],\n",
      "        [-1., -1., -1.,  0., -1.,  5., -1.,  0.],\n",
      "        [-1., -1.,  0.,  0., -1., -1.,  5., -1.],\n",
      "        [-1.,  0.,  0., -1., -1.,  0., -1.,  4.]]), tensor([[ 5., -1., -1., -1.,  0., -1., -1.,  0.],\n",
      "        [-1.,  3.,  0.,  0.,  0., -1., -1.,  0.],\n",
      "        [-1.,  0.,  2.,  0.,  0., -1.,  0.,  0.],\n",
      "        [-1.,  0.,  0.,  1.,  0.,  0.,  0.,  0.],\n",
      "        [ 0.,  0.,  0.,  0.,  0.,  0.,  0.,  0.],\n",
      "        [-1., -1., -1.,  0.,  0.,  4., -1.,  0.],\n",
      "        [-1., -1.,  0.,  0.,  0., -1.,  3.,  0.],\n",
      "        [ 0.,  0.,  0.,  0.,  0.,  0.,  0.,  0.]])]\n",
      "tensor(nan, grad_fn=<DivBackward0>)\n"
     ]
    }
   ],
   "source": [
    "embed = [embeddings[graph.batch == i] for i in range(graph.batch_size)]\n",
    "\n",
    "laplacians = [torch.sparse_coo_tensor(lap[0], lap[1], (n,n)).to_dense() for lap,n in zip([get_laplacian(graph[i].edge_index)  for i in range(graph.batch_size)],[graph[i].num_nodes for i in range(graph.batch_size)])]\n",
    "\n",
    "loss_vals = [torch.trace(torch.matmul(torch.transpose(e,0,1), torch.matmul(l, e))) for l,e in zip(laplacians,embed)]\n",
    "\n",
    "loss = sum(loss_vals)/graph.edge_index.size(1)\n",
    "print(loss)"
   ],
   "metadata": {
    "collapsed": false,
    "ExecuteTime": {
     "end_time": "2024-03-15T15:36:38.207988100Z",
     "start_time": "2024-03-15T15:36:38.075279900Z"
    }
   },
   "execution_count": 143
  },
  {
   "cell_type": "code",
   "outputs": [],
   "source": [],
   "metadata": {
    "collapsed": false,
    "ExecuteTime": {
     "end_time": "2024-03-15T15:26:17.002802Z",
     "start_time": "2024-03-15T15:26:16.956808100Z"
    }
   },
   "execution_count": 115
  }
 ],
 "metadata": {
  "kernelspec": {
   "display_name": "Python 3",
   "language": "python",
   "name": "python3"
  },
  "language_info": {
   "codemirror_mode": {
    "name": "ipython",
    "version": 2
   },
   "file_extension": ".py",
   "mimetype": "text/x-python",
   "name": "python",
   "nbconvert_exporter": "python",
   "pygments_lexer": "ipython2",
   "version": "2.7.6"
  }
 },
 "nbformat": 4,
 "nbformat_minor": 0
}
