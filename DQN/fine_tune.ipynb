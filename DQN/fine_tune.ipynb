{
 "cells": [
  {
   "cell_type": "code",
   "execution_count": 372,
   "outputs": [
    {
     "name": "stdout",
     "output_type": "stream",
     "text": [
      "The autoreload extension is already loaded. To reload it, use:\n",
      "  %reload_ext autoreload\n"
     ]
    }
   ],
   "source": [
    "import networkx as nx\n",
    "import seaborn as sns\n",
    "from pathlib import Path\n",
    "import torch\n",
    "import DQN_agent_modular\n",
    "from envs.GraphEnv.impnode import ImpnodeEnv\n",
    "from DQN.train_dqn import train_dqn, finetune_dqn, fill_memory\n",
    "from test_and_compare import test_loop, hda\n",
    "import matplotlib.pyplot as plt\n",
    "import  numpy as np\n",
    "%load_ext autoreload\n",
    "%autoreload 2"
   ],
   "metadata": {
    "collapsed": false,
    "ExecuteTime": {
     "end_time": "2024-04-11T14:49:11.384574100Z",
     "start_time": "2024-04-11T14:49:11.224674900Z"
    }
   }
  },
  {
   "cell_type": "code",
   "execution_count": 373,
   "outputs": [],
   "source": [
    "import random\n",
    "\n",
    "seed = 412\n",
    "torch.manual_seed(seed)\n",
    "np.random.seed(seed)\n",
    "random.seed(seed)\n",
    "torch.cuda.manual_seed(seed)\n",
    "torch.cuda.manual_seed_all(seed)\n",
    "torch.use_deterministic_algorithms(True,warn_only=True)\n",
    "torch.backends.cudnn.deterministic = True\n",
    "torch.backends.cudnn.benchmark = False"
   ],
   "metadata": {
    "collapsed": false,
    "ExecuteTime": {
     "end_time": "2024-04-11T14:49:11.674131300Z",
     "start_time": "2024-04-11T14:49:11.463092300Z"
    }
   }
  },
  {
   "cell_type": "code",
   "execution_count": 374,
   "outputs": [],
   "source": [
    "device = torch.device(\"cuda\" if torch.cuda.is_available() else \"cpu\")\n",
    "\n",
    "RESULTS_BASEPATH_TEST1 = 'results\\hyp_search_2\\cuda_0.001_4000_1000_0.99_128_1500_300_1.0_0.05_300_0.001_4_2_32_64_1_3_(30, 50)_dw_nd_barabasi_albert_20240407152655'\n"
   ],
   "metadata": {
    "collapsed": false,
    "ExecuteTime": {
     "end_time": "2024-04-11T14:49:11.847250300Z",
     "start_time": "2024-04-11T14:49:11.680128100Z"
    }
   }
  },
  {
   "cell_type": "code",
   "outputs": [],
   "source": [
    "# variables for training the agent\n",
    "\n",
    "num_train_eps = 10 #10000 number training episodes to run\n",
    "num_mem_fill_eps = 10 #1000 number of episodes to run to initialize the memory\n",
    "discount = 0.99 # gamma used for computing return\n",
    "batch_size = 64 # number of transitions to sample from replay buffer for each learn step\n",
    "mem_capacity = 80 # 500000 size of the memory buffer\n",
    "update_frequency = 5 #1000 number of interactions after which the target buffer is updated\n",
    "eps_max = 0 # initial epsilon value\n",
    "eps_min = 0 # final epsilon value\n",
    "eps_step = 0 #1000 amount by which epsilon is decayed at each episode\n",
    "lr = 0.0008 # learning rate for the network\n",
    "alpha = 0.001\n",
    "gnn_depth=4\n",
    "state_size=2\n",
    "hidden_size1=32\n",
    "hidden_size2=64\n",
    "action_size=1\n",
    "n_step=3\n",
    "\n",
    "num_nodes = (30, 50)\n",
    "anc = 'dw_nd'"
   ],
   "metadata": {
    "collapsed": false,
    "ExecuteTime": {
     "end_time": "2024-04-11T14:49:12.080127300Z",
     "start_time": "2024-04-11T14:49:11.916280100Z"
    }
   },
   "execution_count": 375
  },
  {
   "cell_type": "code",
   "outputs": [
    {
     "name": "stdout",
     "output_type": "stream",
     "text": [
      "linear1 is unfrozen\n",
      "linear2 is unfrozen\n",
      "linear3 is unfrozen\n",
      "linear4 is unfrozen\n",
      "sum_agg is frozen\n",
      "linear5 is unfrozen\n",
      "dense1 is unfrozen\n",
      "dense2 is unfrozen\n"
     ]
    }
   ],
   "source": [
    "# create the dqn_agent\n",
    "dqn_agent_train = DQN_agent_modular.DQNAgent(device,\n",
    "                                             alpha=alpha,\n",
    "                                             gnn_depth=gnn_depth,\n",
    "                                             state_size=state_size,\n",
    "                                             hidden_size1=hidden_size1,\n",
    "                                             hidden_size2=hidden_size2,\n",
    "                                             action_size=action_size,\n",
    "                                             discount=discount,\n",
    "                                             eps_max=eps_max,\n",
    "                                             eps_min=eps_min,\n",
    "                                             eps_step=eps_step,\n",
    "                                             memory_capacity=mem_capacity,\n",
    "                                             lr=lr,\n",
    "                                             mode='finetune',\n",
    "                                             unfrozen_layers = ['linear1', 'linear2', 'linear3', 'linear4', 'linear5', 'dense1', 'dense2']\n",
    "                                             )\n",
    "dqn_agent_train.load_model('{}/model.pt'.format(RESULTS_BASEPATH_TEST1))\n",
    "#dqn_agent_train.save_model('{}_finetune/model.pt'.format(RESULTS_BASEPATH_TEST1))"
   ],
   "metadata": {
    "collapsed": false,
    "ExecuteTime": {
     "end_time": "2024-04-11T14:49:12.880102Z",
     "start_time": "2024-04-11T14:49:12.165649Z"
    }
   },
   "execution_count": 376
  },
  {
   "cell_type": "code",
   "outputs": [],
   "source": [
    "subdir = 'data/cm/WS_degree'\n",
    "data_path = Path.cwd() / subdir\n",
    "model_name = 'WS_finetuned_model'\n",
    "env_train = ImpnodeEnv(anc=anc, \n",
    "                       g_type='barabasi_albert', \n",
    "                       num_nodes=num_nodes, \n",
    "                       mode='finetune',\n",
    "                       data_path=data_path\n",
    "                       )\n",
    "\n",
    "val_data_path = 'data/cm/WS_degree_val'\n",
    "val_data_path = Path.cwd()/val_data_path"
   ],
   "metadata": {
    "collapsed": false,
    "ExecuteTime": {
     "end_time": "2024-04-11T14:49:13.080558800Z",
     "start_time": "2024-04-11T14:49:12.873102800Z"
    }
   },
   "execution_count": 377
  },
  {
   "cell_type": "code",
   "outputs": [],
   "source": [
    "fill_memory(env_train, dqn_agent_train, num_mem_fill_eps, n_step)"
   ],
   "metadata": {
    "collapsed": false,
    "ExecuteTime": {
     "end_time": "2024-04-11T14:49:16.945495100Z",
     "start_time": "2024-04-11T14:49:13.078553900Z"
    }
   },
   "execution_count": 378
  },
  {
   "cell_type": "code",
   "outputs": [
    {
     "data": {
      "text/plain": "<Figure size 1200x800 with 2 Axes>",
      "image/png": "[encoded data removed]"
     },
     "metadata": {},
     "output_type": "display_data"
    },
    {
     "name": "stdout",
     "output_type": "stream",
     "text": [
      "val avg score\n",
      "\tval avg score    \t (min:    0.400, max:    0.449, cur:    0.449)\n",
      "Finished\n"
     ]
    }
   ],
   "source": [
    "finetune_dqn(env_train, dqn_agent_train, RESULTS_BASEPATH_TEST1, num_train_eps, num_mem_fill_eps, n_step, batch_size, update_frequency, val_data_path, model_name, mode='finetune')\n",
    "\n",
    "print('Finished')"
   ],
   "metadata": {
    "collapsed": false
   },
   "execution_count": 379
  },
  {
   "cell_type": "code",
   "outputs": [],
   "source": [],
   "metadata": {
    "collapsed": false,
    "ExecuteTime": {
     "start_time": "2024-04-11T14:47:51.906375200Z"
    }
   },
   "execution_count": null
  },
  {
   "cell_type": "code",
   "outputs": [],
   "source": [],
   "metadata": {
    "collapsed": false,
    "ExecuteTime": {
     "start_time": "2024-04-11T14:47:51.915375300Z"
    }
   },
   "execution_count": null
  },
  {
   "cell_type": "code",
   "outputs": [],
   "source": [
    "subdir = 'data/cm/Crime_degree_val'\n",
    "\n",
    "data_path = Path.cwd()/subdir\n",
    "\n",
    "NUM_TEST_EPS = 10 # number of test episodes to run\n",
    "\n",
    "\n",
    "actions3, reward_history3, ep_score_history3 = test_loop(env=env_train,\n",
    "                                                        agent=dqn_agent_train,\n",
    "                                                        NUM_TEST_EPS = NUM_TEST_EPS)\n",
    "\n",
    "\n",
    "ep_score2 = { 'finetuned':ep_score_history3}\n",
    "\n",
    "print(f'finetuned %.4f' %(np.mean(ep_score_history3)))\n",
    "sns.boxplot(ep_score2)"
   ],
   "metadata": {
    "collapsed": false,
    "ExecuteTime": {
     "start_time": "2024-04-11T14:47:51.922375700Z"
    }
   },
   "execution_count": null
  },
  {
   "cell_type": "code",
   "outputs": [],
   "source": [],
   "metadata": {
    "collapsed": false,
    "ExecuteTime": {
     "end_time": "2024-04-11T14:47:51.972886800Z",
     "start_time": "2024-04-11T14:47:51.931375100Z"
    }
   },
   "execution_count": null
  }
 ],
 "metadata": {
  "kernelspec": {
   "display_name": "Python 3",
   "language": "python",
   "name": "python3"
  },
  "language_info": {
   "codemirror_mode": {
    "name": "ipython",
    "version": 2
   },
   "file_extension": ".py",
   "mimetype": "text/x-python",
   "name": "python",
   "nbconvert_exporter": "python",
   "pygments_lexer": "ipython2",
   "version": "2.7.6"
  }
 },
 "nbformat": 4,
 "nbformat_minor": 0
}
