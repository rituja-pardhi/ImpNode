{
 "cells": [
  {
   "cell_type": "code",
   "execution_count": 82,
   "outputs": [
    {
     "name": "stdout",
     "output_type": "stream",
     "text": [
      "The autoreload extension is already loaded. To reload it, use:\n",
      "  %reload_ext autoreload\n"
     ]
    }
   ],
   "source": [
    "import networkx as nx\n",
    "import seaborn as sns\n",
    "from pathlib import Path\n",
    "import torch\n",
    "import DQN_agent_modular\n",
    "from envs.GraphEnv.impnode import ImpnodeEnv\n",
    "from test_and_compare import test_loop, hda\n",
    "import matplotlib.pyplot as plt\n",
    "import  numpy as np\n",
    "%load_ext autoreload\n",
    "%autoreload 2"
   ],
   "metadata": {
    "collapsed": false,
    "ExecuteTime": {
     "end_time": "2024-04-05T08:15:44.571386100Z",
     "start_time": "2024-04-05T08:15:44.346897100Z"
    }
   }
  },
  {
   "cell_type": "code",
   "execution_count": 83,
   "outputs": [
    {
     "data": {
      "text/plain": "<torch._C.Generator at 0x19b67f92770>"
     },
     "execution_count": 83,
     "metadata": {},
     "output_type": "execute_result"
    }
   ],
   "source": [
    "import random\n",
    "\n",
    "seed = 412\n",
    "random.seed(seed)\n",
    "np.random.seed(seed)\n",
    "torch.manual_seed(seed)\n"
   ],
   "metadata": {
    "collapsed": false,
    "ExecuteTime": {
     "end_time": "2024-04-05T08:15:44.793126800Z",
     "start_time": "2024-04-05T08:15:44.695535200Z"
    }
   }
  },
  {
   "cell_type": "code",
   "execution_count": 84,
   "outputs": [],
   "source": [
    "device = torch.device(\"cuda\" if torch.cuda.is_available() else \"cpu\")\n",
    "\n",
    "RESULTS_BASEPATH_TEST1 = 'results/hyp_search/cuda_0.001_3000_500_0.99_64_1500_100_1.0_0.05_100_0.001_4_2_32_64_1_3_(30, 50)_4_dw_nd_4_None'\n",
    "\n",
    "max_removed_nodes = 4\n"
   ],
   "metadata": {
    "collapsed": false,
    "ExecuteTime": {
     "end_time": "2024-04-05T08:15:45.408221300Z",
     "start_time": "2024-04-05T08:15:45.297710200Z"
    }
   }
  },
  {
   "cell_type": "code",
   "outputs": [],
   "source": [
    "dqn_agent_test = DQN_agent_modular.DQNAgent(device=device,\n",
    "                                            alpha=0.001,\n",
    "                                    gnn_depth=4,\n",
    "                                    state_size=2,\n",
    "                                    hidden_size1=32,\n",
    "                                    hidden_size2=64,\n",
    "                                    action_size=1,\n",
    "                                    discount=0.0,\n",
    "                                    eps_max=0.0,\n",
    "                                    eps_min=0.0,\n",
    "                                    eps_step=0.0,\n",
    "                                    memory_capacity=0,\n",
    "                                    lr=0,\n",
    "                                    mode='test')\n",
    "\n",
    "dqn_agent_test.load_model('{}/model.pt'.format(RESULTS_BASEPATH_TEST1))"
   ],
   "metadata": {
    "collapsed": false,
    "ExecuteTime": {
     "end_time": "2024-04-05T08:37:54.458329100Z",
     "start_time": "2024-04-05T08:37:54.149116800Z"
    }
   },
   "execution_count": 90
  },
  {
   "cell_type": "code",
   "outputs": [],
   "source": [
    "dqn_agent_test_finetuned = DQN_agent_modular.DQNAgent(device=device,\n",
    "                                            alpha=0.001,\n",
    "                                    gnn_depth=4,\n",
    "                                    state_size=2,\n",
    "                                    hidden_size1=32,\n",
    "                                    hidden_size2=64,\n",
    "                                    action_size=1,\n",
    "                                    discount=0.0,\n",
    "                                    eps_max=0.0,\n",
    "                                    eps_min=0.0,\n",
    "                                    eps_step=0.0,\n",
    "                                    memory_capacity=0,\n",
    "                                    lr=0,\n",
    "                                    mode='test')\n",
    "\n",
    "dqn_agent_test_finetuned.load_model('{}/crime_4_5_6_7_finetuned_model.pt'.format(RESULTS_BASEPATH_TEST1))"
   ],
   "metadata": {
    "collapsed": false,
    "ExecuteTime": {
     "end_time": "2024-04-05T08:37:54.740955300Z",
     "start_time": "2024-04-05T08:37:54.626418900Z"
    }
   },
   "execution_count": 91
  },
  {
   "cell_type": "code",
   "outputs": [
    {
     "name": "stdout",
     "output_type": "stream",
     "text": [
      "{'HDA_ANC': [0.030764455822005595], 'ImpNode_ANC': [0.006086230885328713], 'ImpNode_ANC_finetune': [0.0030394302921013874]}\n"
     ]
    },
    {
     "data": {
      "text/plain": "<Figure size 640x480 with 1 Axes>",
      "image/png": "[encoded data removed]"
     },
     "metadata": {},
     "output_type": "display_data"
    }
   ],
   "source": [
    "subdir = 'data/real/Cost'\n",
    "file_name = 'Crime_degree.gml'\n",
    "data_path = Path.cwd()/subdir\n",
    "\n",
    "NUM_TEST_EPS = 1 # number of test episodes to run\n",
    "\n",
    "hda_actions, hda_reward_history, hda_ep_score_history = hda('dw_nd', NUM_TEST_EPS, max_removed_nodes, data_path, file_name)\n",
    "\n",
    "env_test = ImpnodeEnv(anc='dw_nd', ba_nodes=(30, 50), ba_edges=4,  seed=seed, render_option=False,mode='test', max_removed_nodes=max_removed_nodes,data_path=data_path, file_name=file_name)\n",
    "\n",
    "# test the agent\n",
    "actions, reward_history, ep_score_history = test_loop(env=env_test,\n",
    "                                                        agent=dqn_agent_test,\n",
    "                                                        NUM_TEST_EPS = NUM_TEST_EPS,\n",
    "                                                        results_basepath=RESULTS_BASEPATH_TEST1)\n",
    "f_actions, f_reward_history, f_ep_score_history = test_loop(env=env_test,\n",
    "                                                        agent=dqn_agent_test_finetuned,\n",
    "                                                        NUM_TEST_EPS = NUM_TEST_EPS,\n",
    "                                                        results_basepath=RESULTS_BASEPATH_TEST1)\n",
    "\n",
    "\n",
    "\n",
    "ep_score = {'HDA_ANC':hda_ep_score_history, 'ImpNode_ANC':ep_score_history, 'ImpNode_ANC_finetune':f_ep_score_history}\n",
    "sns.boxplot(ep_score)\n",
    "print(ep_score)"
   ],
   "metadata": {
    "collapsed": false,
    "ExecuteTime": {
     "end_time": "2024-04-05T08:38:01.626634700Z",
     "start_time": "2024-04-05T08:37:55.434274300Z"
    }
   },
   "execution_count": 92
  },
  {
   "cell_type": "code",
   "outputs": [
    {
     "ename": "FileNotFoundError",
     "evalue": "[Errno 2] No such file or directory: 'C:\\\\rituja_git\\\\ma-rituja-pardhi\\\\DQN\\\\data\\\\30-50/g_0'",
     "output_type": "error",
     "traceback": [
      "\u001B[1;31m---------------------------------------------------------------------------\u001B[0m",
      "\u001B[1;31mFileNotFoundError\u001B[0m                         Traceback (most recent call last)",
      "Cell \u001B[1;32mIn[63], line 6\u001B[0m\n\u001B[0;32m      2\u001B[0m data_path \u001B[38;5;241m=\u001B[39m Path\u001B[38;5;241m.\u001B[39mcwd()\u001B[38;5;241m/\u001B[39msubdir\n\u001B[0;32m      4\u001B[0m NUM_TEST_EPS \u001B[38;5;241m=\u001B[39m \u001B[38;5;241m100\u001B[39m \u001B[38;5;66;03m# number of test episodes to run\u001B[39;00m\n\u001B[1;32m----> 6\u001B[0m hda_actions_synthetic, hda_reward_history_synthetic, hda_ep_score_history_synthetic \u001B[38;5;241m=\u001B[39m \u001B[43mhda\u001B[49m\u001B[43m(\u001B[49m\u001B[38;5;124;43m'\u001B[39;49m\u001B[38;5;124;43mdw_nd\u001B[39;49m\u001B[38;5;124;43m'\u001B[39;49m\u001B[43m,\u001B[49m\u001B[43m \u001B[49m\u001B[43mNUM_TEST_EPS\u001B[49m\u001B[43m,\u001B[49m\u001B[43m \u001B[49m\u001B[43mmax_removed_nodes\u001B[49m\u001B[43m,\u001B[49m\u001B[43m \u001B[49m\u001B[43mdata_path\u001B[49m\u001B[43m)\u001B[49m\n\u001B[0;32m      8\u001B[0m env_test_synthetic \u001B[38;5;241m=\u001B[39m ImpnodeEnv(anc\u001B[38;5;241m=\u001B[39m\u001B[38;5;124m'\u001B[39m\u001B[38;5;124mdw_nd\u001B[39m\u001B[38;5;124m'\u001B[39m, ba_nodes\u001B[38;5;241m=\u001B[39m(\u001B[38;5;241m15\u001B[39m, \u001B[38;5;241m25\u001B[39m), ba_edges\u001B[38;5;241m=\u001B[39m\u001B[38;5;241m4\u001B[39m, max_removed_nodes\u001B[38;5;241m=\u001B[39mmax_removed_nodes, seed\u001B[38;5;241m=\u001B[39mseed, render_option\u001B[38;5;241m=\u001B[39m\u001B[38;5;28;01mFalse\u001B[39;00m, data_path\u001B[38;5;241m=\u001B[39mdata_path,mode\u001B[38;5;241m=\u001B[39m\u001B[38;5;124m'\u001B[39m\u001B[38;5;124mtest\u001B[39m\u001B[38;5;124m'\u001B[39m)\n\u001B[0;32m     10\u001B[0m \u001B[38;5;66;03m# test the agent\u001B[39;00m\n",
      "File \u001B[1;32mC:\\rituja_git\\ma-rituja-pardhi\\DQN\\test_and_compare.py:34\u001B[0m, in \u001B[0;36mhda\u001B[1;34m(anc, NUM_TEST_EPS, max_removed_nodes, data_path, file_name)\u001B[0m\n\u001B[0;32m     32\u001B[0m     graph \u001B[38;5;241m=\u001B[39m nx\u001B[38;5;241m.\u001B[39mread_gml(\u001B[38;5;28mstr\u001B[39m(data_path) \u001B[38;5;241m+\u001B[39m \u001B[38;5;124m'\u001B[39m\u001B[38;5;124m/\u001B[39m\u001B[38;5;124m'\u001B[39m \u001B[38;5;241m+\u001B[39m \u001B[38;5;28mstr\u001B[39m(file_name))\n\u001B[0;32m     33\u001B[0m \u001B[38;5;28;01melse\u001B[39;00m:\n\u001B[1;32m---> 34\u001B[0m     graph \u001B[38;5;241m=\u001B[39m \u001B[43mnx\u001B[49m\u001B[38;5;241;43m.\u001B[39;49m\u001B[43mread_gml\u001B[49m\u001B[43m(\u001B[49m\u001B[38;5;28;43mstr\u001B[39;49m\u001B[43m(\u001B[49m\u001B[43mdata_path\u001B[49m\u001B[43m)\u001B[49m\u001B[43m \u001B[49m\u001B[38;5;241;43m+\u001B[39;49m\u001B[43m \u001B[49m\u001B[38;5;124;43m\"\u001B[39;49m\u001B[38;5;124;43m/g_\u001B[39;49m\u001B[38;5;132;43;01m{}\u001B[39;49;00m\u001B[38;5;124;43m\"\u001B[39;49m\u001B[38;5;241;43m.\u001B[39;49m\u001B[43mformat\u001B[49m\u001B[43m(\u001B[49m\u001B[43mi\u001B[49m\u001B[43m)\u001B[49m\u001B[43m)\u001B[49m\n\u001B[0;32m     35\u001B[0m \u001B[38;5;66;03m# graph = nx.read_gml(str(data_path) + \"/Crime_degree.gml\".format(i))\u001B[39;00m\n\u001B[0;32m     36\u001B[0m \u001B[38;5;66;03m# wt = nx.get_node_attributes(graph, \"weight\")\u001B[39;00m\n\u001B[0;32m     37\u001B[0m \u001B[38;5;66;03m# wt = {node: val / sum(wt.values()) for node, val in wt.items()}\u001B[39;00m\n\u001B[0;32m     38\u001B[0m degrees \u001B[38;5;241m=\u001B[39m \u001B[38;5;28mdict\u001B[39m(graph\u001B[38;5;241m.\u001B[39mdegree())\n",
      "File \u001B[1;32m<class 'networkx.utils.decorators.argmap'> compilation 5:3\u001B[0m, in \u001B[0;36margmap_read_gml_1\u001B[1;34m(path, label, destringizer)\u001B[0m\n\u001B[0;32m      1\u001B[0m \u001B[38;5;28;01mimport\u001B[39;00m \u001B[38;5;21;01mbz2\u001B[39;00m\n\u001B[0;32m      2\u001B[0m \u001B[38;5;28;01mimport\u001B[39;00m \u001B[38;5;21;01mcollections\u001B[39;00m\n\u001B[1;32m----> 3\u001B[0m \u001B[38;5;28;01mimport\u001B[39;00m \u001B[38;5;21;01mgzip\u001B[39;00m\n\u001B[0;32m      4\u001B[0m \u001B[38;5;28;01mimport\u001B[39;00m \u001B[38;5;21;01minspect\u001B[39;00m\n\u001B[0;32m      5\u001B[0m \u001B[38;5;28;01mimport\u001B[39;00m \u001B[38;5;21;01mitertools\u001B[39;00m\n",
      "File \u001B[1;32m~\\.conda\\envs\\impnode-gpu\\lib\\site-packages\\networkx\\utils\\decorators.py:191\u001B[0m, in \u001B[0;36mopen_file.<locals>._open_file\u001B[1;34m(path)\u001B[0m\n\u001B[0;32m    187\u001B[0m \u001B[38;5;28;01melse\u001B[39;00m:\n\u001B[0;32m    188\u001B[0m     \u001B[38;5;66;03m# could be None, or a file handle, in which case the algorithm will deal with it\u001B[39;00m\n\u001B[0;32m    189\u001B[0m     \u001B[38;5;28;01mreturn\u001B[39;00m path, \u001B[38;5;28;01mlambda\u001B[39;00m: \u001B[38;5;28;01mNone\u001B[39;00m\n\u001B[1;32m--> 191\u001B[0m fobj \u001B[38;5;241m=\u001B[39m \u001B[43m_dispatch_dict\u001B[49m\u001B[43m[\u001B[49m\u001B[43mext\u001B[49m\u001B[43m]\u001B[49m\u001B[43m(\u001B[49m\u001B[43mpath\u001B[49m\u001B[43m,\u001B[49m\u001B[43m \u001B[49m\u001B[43mmode\u001B[49m\u001B[38;5;241;43m=\u001B[39;49m\u001B[43mmode\u001B[49m\u001B[43m)\u001B[49m\n\u001B[0;32m    192\u001B[0m \u001B[38;5;28;01mreturn\u001B[39;00m fobj, \u001B[38;5;28;01mlambda\u001B[39;00m: fobj\u001B[38;5;241m.\u001B[39mclose()\n",
      "\u001B[1;31mFileNotFoundError\u001B[0m: [Errno 2] No such file or directory: 'C:\\\\rituja_git\\\\ma-rituja-pardhi\\\\DQN\\\\data\\\\30-50/g_0'"
     ]
    }
   ],
   "source": [
    "subdir = 'data/30-50'\n",
    "data_path = Path.cwd()/subdir\n",
    "\n",
    "NUM_TEST_EPS = 100 # number of test episodes to run\n",
    "\n",
    "hda_actions_synthetic, hda_reward_history_synthetic, hda_ep_score_history_synthetic = hda('dw_nd', NUM_TEST_EPS, max_removed_nodes, data_path)\n",
    "\n",
    "env_test_synthetic = ImpnodeEnv(anc='dw_nd', ba_nodes=(15, 25), ba_edges=4, max_removed_nodes=max_removed_nodes, seed=seed, render_option=False, data_path=data_path,mode='test')\n",
    "\n",
    "# test the agent\n",
    "actions_synthetic, reward_history_synthetic, ep_score_history_synthetic = test_loop(env=env_test_synthetic, agent=dqn_agent_test, NUM_TEST_EPS = NUM_TEST_EPS,                                                         results_basepath=RESULTS_BASEPATH_TEST1)\n",
    "\n",
    "\n",
    "ep_score_synthetic = {'HDA_ANC':hda_ep_score_history_synthetic, 'ImpNode_ANC':ep_score_history_synthetic}\n",
    "sns.boxplot(ep_score_synthetic)"
   ],
   "metadata": {
    "collapsed": false,
    "ExecuteTime": {
     "end_time": "2024-04-04T17:40:21.682394400Z",
     "start_time": "2024-04-04T17:40:21.516826400Z"
    }
   },
   "execution_count": 63
  },
  {
   "cell_type": "code",
   "outputs": [],
   "source": [],
   "metadata": {
    "collapsed": false,
    "ExecuteTime": {
     "start_time": "2024-04-04T16:48:25.589451900Z"
    }
   },
   "execution_count": null
  },
  {
   "cell_type": "code",
   "outputs": [],
   "source": [],
   "metadata": {
    "collapsed": false,
    "ExecuteTime": {
     "start_time": "2024-04-04T16:48:25.590452200Z"
    }
   }
  }
 ],
 "metadata": {
  "kernelspec": {
   "display_name": "Python 3",
   "language": "python",
   "name": "python3"
  },
  "language_info": {
   "codemirror_mode": {
    "name": "ipython",
    "version": 2
   },
   "file_extension": ".py",
   "mimetype": "text/x-python",
   "name": "python",
   "nbconvert_exporter": "python",
   "pygments_lexer": "ipython2",
   "version": "2.7.6"
  }
 },
 "nbformat": 4,
 "nbformat_minor": 0
}
