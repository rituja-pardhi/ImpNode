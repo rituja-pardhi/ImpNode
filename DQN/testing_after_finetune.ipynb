{
 "cells": [
  {
   "cell_type": "code",
   "execution_count": 112,
   "outputs": [
    {
     "name": "stdout",
     "output_type": "stream",
     "text": [
      "The autoreload extension is already loaded. To reload it, use:\n",
      "  %reload_ext autoreload\n"
     ]
    }
   ],
   "source": [
    "import networkx as nx\n",
    "import seaborn as sns\n",
    "from pathlib import Path\n",
    "import torch\n",
    "import DQN_agent_modular\n",
    "from envs.GraphEnv.impnode import ImpnodeEnv\n",
    "from test_and_compare import test_loop, hda\n",
    "import matplotlib.pyplot as plt\n",
    "import  numpy as np\n",
    "%load_ext autoreload\n",
    "%autoreload 2"
   ],
   "metadata": {
    "collapsed": false,
    "ExecuteTime": {
     "end_time": "2024-04-11T14:42:01.272620600Z",
     "start_time": "2024-04-11T14:42:01.096589700Z"
    }
   }
  },
  {
   "cell_type": "code",
   "execution_count": 113,
   "outputs": [
    {
     "data": {
      "text/plain": "<torch._C.Generator at 0x21b6d9025d0>"
     },
     "execution_count": 113,
     "metadata": {},
     "output_type": "execute_result"
    }
   ],
   "source": [
    "import random\n",
    "\n",
    "seed = 412\n",
    "random.seed(seed)\n",
    "np.random.seed(seed)\n",
    "torch.manual_seed(seed)\n"
   ],
   "metadata": {
    "collapsed": false,
    "ExecuteTime": {
     "end_time": "2024-04-11T14:42:01.521373900Z",
     "start_time": "2024-04-11T14:42:01.345689100Z"
    }
   }
  },
  {
   "cell_type": "code",
   "execution_count": 114,
   "outputs": [],
   "source": [
    "device = torch.device(\"cuda\" if torch.cuda.is_available() else \"cpu\")\n",
    "\n",
    "RESULTS_BASEPATH_TEST1 = 'results\\hyp_search_2\\cuda_0.001_4000_1000_0.99_128_1500_300_1.0_0.05_300_0.001_4_2_32_64_1_3_(30, 50)_dw_nd_barabasi_albert_20240407152655'\n",
    "\n"
   ],
   "metadata": {
    "collapsed": false,
    "ExecuteTime": {
     "end_time": "2024-04-11T14:42:01.710188500Z",
     "start_time": "2024-04-11T14:42:01.529373Z"
    }
   }
  },
  {
   "cell_type": "code",
   "outputs": [],
   "source": [
    "dqn_agent_test = DQN_agent_modular.DQNAgent(device=device,\n",
    "                                            alpha=0.001,\n",
    "                                    gnn_depth=4,\n",
    "                                    state_size=2,\n",
    "                                    hidden_size1=32,\n",
    "                                    hidden_size2=64,\n",
    "                                    action_size=1,\n",
    "                                    discount=0.0,\n",
    "                                    eps_max=0.0,\n",
    "                                    eps_min=0.0,\n",
    "                                    eps_step=0.0,\n",
    "                                    memory_capacity=0,\n",
    "                                    lr=0,\n",
    "                                    mode='test')\n",
    "\n",
    "dqn_agent_test.load_model('{}/model.pt'.format(RESULTS_BASEPATH_TEST1))"
   ],
   "metadata": {
    "collapsed": false,
    "ExecuteTime": {
     "end_time": "2024-04-11T14:42:02.513944Z",
     "start_time": "2024-04-11T14:42:01.799947600Z"
    }
   },
   "execution_count": 115
  },
  {
   "cell_type": "code",
   "outputs": [],
   "source": [
    "subdir = 'data/real/Cost'\n",
    "file_name = 'WS_degree.gml'\n",
    "data_path = Path.cwd()/subdir\n",
    "\n",
    "graph=nx.read_gml(data_path/file_name)"
   ],
   "metadata": {
    "collapsed": false,
    "ExecuteTime": {
     "end_time": "2024-04-11T14:42:02.826373600Z",
     "start_time": "2024-04-11T14:42:02.514943900Z"
    }
   },
   "execution_count": 116
  },
  {
   "cell_type": "code",
   "outputs": [],
   "source": [
    "\n",
    "NUM_TEST_EPS = 1 # number of test episodes to run\n",
    "\n",
    "hda_actions, hda_reward_history, hda_ep_score_history = hda('dw_nd', NUM_TEST_EPS, data_path, file_name)\n",
    "\n",
    "env_test = ImpnodeEnv(anc='dw_nd', \n",
    "                       g_type='barabasi_albert', \n",
    "                       num_nodes=(30,50), \n",
    "                       mode='test',\n",
    "                       data_path=data_path, file_name=file_name)\n",
    "# test the agent\n",
    "actions, reward_history, ep_score_history = test_loop(env=env_test,\n",
    "                                                        agent=dqn_agent_test,\n",
    "                                                        NUM_TEST_EPS = NUM_TEST_EPS)"
   ],
   "metadata": {
    "collapsed": false,
    "ExecuteTime": {
     "end_time": "2024-04-11T14:42:29.128027800Z",
     "start_time": "2024-04-11T14:42:02.803364400Z"
    }
   },
   "execution_count": 117
  },
  {
   "cell_type": "code",
   "outputs": [],
   "source": [
    "dqn_agent_test_finetuned = DQN_agent_modular.DQNAgent(device=device,\n",
    "                                            alpha=0.001,\n",
    "                                    gnn_depth=4,\n",
    "                                    state_size=2,\n",
    "                                    hidden_size1=32,\n",
    "                                    hidden_size2=64,\n",
    "                                    action_size=1,\n",
    "                                    discount=0.0,\n",
    "                                    eps_max=0.0,\n",
    "                                    eps_min=0.0,\n",
    "                                    eps_step=0.0,\n",
    "                                    memory_capacity=0,\n",
    "                                    lr=0,\n",
    "                                    mode='test')\n",
    "\n",
    "dqn_agent_test_finetuned.load_model('{}/WS_finetuned_model.pt'.format(RESULTS_BASEPATH_TEST1))"
   ],
   "metadata": {
    "collapsed": false,
    "ExecuteTime": {
     "end_time": "2024-04-11T14:42:29.345044900Z",
     "start_time": "2024-04-11T14:42:29.133028700Z"
    }
   },
   "execution_count": 118
  },
  {
   "cell_type": "code",
   "outputs": [],
   "source": [
    "\n",
    "f_actions, f_reward_history, f_ep_score_history = test_loop(env=env_test,\n",
    "                                                        agent=dqn_agent_test_finetuned,\n",
    "                                                        NUM_TEST_EPS = NUM_TEST_EPS)\n"
   ],
   "metadata": {
    "collapsed": false,
    "ExecuteTime": {
     "end_time": "2024-04-11T14:42:53.597696Z",
     "start_time": "2024-04-11T14:42:29.321045600Z"
    }
   },
   "execution_count": 119
  },
  {
   "cell_type": "code",
   "outputs": [
    {
     "name": "stdout",
     "output_type": "stream",
     "text": [
      "not finetuned 0.4111\n",
      "finetuned 0.3969\n"
     ]
    },
    {
     "data": {
      "text/plain": "<Axes: >"
     },
     "execution_count": 120,
     "metadata": {},
     "output_type": "execute_result"
    },
    {
     "data": {
      "text/plain": "<Figure size 640x480 with 1 Axes>",
      "image/png": "[encoded data removed]"
     },
     "metadata": {},
     "output_type": "display_data"
    }
   ],
   "source": [
    "subdir = 'data/cm/WS_degree_val'\n",
    "\n",
    "data_path = Path.cwd()/subdir\n",
    "\n",
    "NUM_TEST_EPS = 10 # number of test episodes to run\n",
    "\n",
    "\n",
    "env_test2 = ImpnodeEnv(anc='dw_nd', g_type='barabasi_albert', num_nodes=(30, 50), data_path=data_path,mode='test')\n",
    "actions3, reward_history3, ep_score_history3 = test_loop(env=env_test2,\n",
    "                                                        agent=dqn_agent_test,\n",
    "                                                        NUM_TEST_EPS = NUM_TEST_EPS)\n",
    "# test the agent\n",
    "actions4, reward_history4, ep_score_history4 = test_loop(env=env_test2,\n",
    "                                                        agent=dqn_agent_test_finetuned,\n",
    "                                                        NUM_TEST_EPS = NUM_TEST_EPS)\n",
    "\n",
    "ep_score2 = {'not finetuned':ep_score_history3, 'finetuned':ep_score_history4}\n",
    "\n",
    "print(f'not finetuned %.4f' %(np.mean(ep_score_history3)))\n",
    "print(f'finetuned %.4f' %(np.mean(ep_score_history4)))\n",
    "sns.boxplot(ep_score2)"
   ],
   "metadata": {
    "collapsed": false,
    "ExecuteTime": {
     "end_time": "2024-04-11T14:42:59.957144800Z",
     "start_time": "2024-04-11T14:42:53.597696Z"
    }
   },
   "execution_count": 120
  },
  {
   "cell_type": "code",
   "outputs": [
    {
     "name": "stdout",
     "output_type": "stream",
     "text": [
      "{'ImpNode_ANC': [0.49521599999999977], 'ImpNode_ANC_finetune': [0.49411449999999957]}\n"
     ]
    },
    {
     "data": {
      "text/plain": "<Figure size 640x480 with 1 Axes>",
      "image/png": "[encoded data removed]"
     },
     "metadata": {},
     "output_type": "display_data"
    }
   ],
   "source": [
    "ep_score = {'ImpNode_ANC':ep_score_history, 'ImpNode_ANC_finetune':f_ep_score_history}\n",
    "sns.boxplot(ep_score)\n",
    "print(ep_score)"
   ],
   "metadata": {
    "collapsed": false,
    "ExecuteTime": {
     "end_time": "2024-04-11T14:43:00.281473100Z",
     "start_time": "2024-04-11T14:42:59.959231900Z"
    }
   },
   "execution_count": 121
  },
  {
   "cell_type": "code",
   "outputs": [
    {
     "data": {
      "text/plain": "<Axes: >"
     },
     "execution_count": 122,
     "metadata": {},
     "output_type": "execute_result"
    },
    {
     "data": {
      "text/plain": "<Figure size 640x480 with 1 Axes>",
      "image/png": "[encoded data removed]"
     },
     "metadata": {},
     "output_type": "display_data"
    }
   ],
   "source": [
    "cum_sum_reward_his = np.cumsum(reward_history)\n",
    "cum_sum_hda_reward_his = np.cumsum(f_reward_history)\n",
    "sns.lineplot({'ImpNode_ANC':cum_sum_reward_his, 'ImpNode_ANC_finetune':cum_sum_hda_reward_his})"
   ],
   "metadata": {
    "collapsed": false,
    "ExecuteTime": {
     "end_time": "2024-04-11T14:43:00.682721500Z",
     "start_time": "2024-04-11T14:43:00.259792800Z"
    }
   },
   "execution_count": 122
  },
  {
   "cell_type": "code",
   "outputs": [],
   "source": [],
   "metadata": {
    "collapsed": false,
    "ExecuteTime": {
     "end_time": "2024-04-11T13:50:13.638267600Z",
     "start_time": "2024-04-11T13:50:13.591268300Z"
    }
   },
   "execution_count": 100
  }
 ],
 "metadata": {
  "kernelspec": {
   "display_name": "Python 3",
   "language": "python",
   "name": "python3"
  },
  "language_info": {
   "codemirror_mode": {
    "name": "ipython",
    "version": 2
   },
   "file_extension": ".py",
   "mimetype": "text/x-python",
   "name": "python",
   "nbconvert_exporter": "python",
   "pygments_lexer": "ipython2",
   "version": "2.7.6"
  }
 },
 "nbformat": 4,
 "nbformat_minor": 0
}
