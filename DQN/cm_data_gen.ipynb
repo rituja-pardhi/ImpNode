{
 "cells": [
  {
   "cell_type": "code",
   "execution_count": 195,
   "metadata": {
    "collapsed": true,
    "ExecuteTime": {
     "end_time": "2024-03-21T13:59:44.076875600Z",
     "start_time": "2024-03-21T13:59:44.050349400Z"
    }
   },
   "outputs": [],
   "source": [
    "import random\n",
    "import os\n",
    "import matplotlib.pyplot as plt\n",
    "import networkx as nx\n",
    "from pathlib import Path\n",
    "from configuration_model import cm_model"
   ]
  },
  {
   "cell_type": "code",
   "outputs": [
    {
     "data": {
      "text/plain": "<Figure size 800x300 with 1 Axes>",
      "image/png": "[encoded data removed]"
     },
     "metadata": {},
     "output_type": "display_data"
    }
   ],
   "source": [
    "subdir = 'data/real/Cost'\n",
    "file_name = \"HI-II-14_degree.gml\"\n",
    "data_path = Path.cwd() / subdir\n",
    "original_graph = nx.read_gml(data_path / file_name)\n",
    "degrees = [original_graph.degree(n) for n in original_graph.nodes()]\n",
    "plt.figure(figsize=(8,3))\n",
    "plt.hist(degrees)\n",
    "plt.show()"
   ],
   "metadata": {
    "collapsed": false,
    "ExecuteTime": {
     "end_time": "2024-03-21T13:54:36.129413400Z",
     "start_time": "2024-03-21T13:54:34.857379800Z"
    }
   },
   "execution_count": 190
  },
  {
   "cell_type": "code",
   "outputs": [
    {
     "data": {
      "text/plain": "<Figure size 800x300 with 1 Axes>",
      "image/png": "[encoded data removed]"
     },
     "metadata": {},
     "output_type": "display_data"
    }
   ],
   "source": [
    "# single graph generation via CM model\n",
    "file_name = \"HI-II-14_degree.gml\"\n",
    "n_samples = 40\n",
    "G = cm_model(file_name, n_samples)\n",
    "degrees = [G.degree(n) for n in G.nodes()]\n",
    "plt.figure(figsize=(8,3))\n",
    "plt.hist(degrees)\n",
    "plt.show()"
   ],
   "metadata": {
    "collapsed": false,
    "ExecuteTime": {
     "end_time": "2024-03-21T13:54:37.630327600Z",
     "start_time": "2024-03-21T13:54:36.129413400Z"
    }
   },
   "execution_count": 191
  },
  {
   "cell_type": "code",
   "outputs": [
    {
     "name": "stdout",
     "output_type": "stream",
     "text": [
      "47\n",
      "Graph 0 saved to C:\\rituja_git\\ma-rituja-pardhi\\DQN\\data\\cm\\Crime\\g_0.gml\n",
      "40\n",
      "Graph 1 saved to C:\\rituja_git\\ma-rituja-pardhi\\DQN\\data\\cm\\Crime\\g_1.gml\n",
      "36\n",
      "Graph 2 saved to C:\\rituja_git\\ma-rituja-pardhi\\DQN\\data\\cm\\Crime\\g_2.gml\n",
      "38\n",
      "Graph 3 saved to C:\\rituja_git\\ma-rituja-pardhi\\DQN\\data\\cm\\Crime\\g_3.gml\n",
      "46\n",
      "Graph 4 saved to C:\\rituja_git\\ma-rituja-pardhi\\DQN\\data\\cm\\Crime\\g_4.gml\n",
      "44\n",
      "Graph 5 saved to C:\\rituja_git\\ma-rituja-pardhi\\DQN\\data\\cm\\Crime\\g_5.gml\n",
      "48\n",
      "Graph 6 saved to C:\\rituja_git\\ma-rituja-pardhi\\DQN\\data\\cm\\Crime\\g_6.gml\n",
      "44\n",
      "Graph 7 saved to C:\\rituja_git\\ma-rituja-pardhi\\DQN\\data\\cm\\Crime\\g_7.gml\n",
      "41\n",
      "Graph 8 saved to C:\\rituja_git\\ma-rituja-pardhi\\DQN\\data\\cm\\Crime\\g_8.gml\n",
      "50\n",
      "Graph 9 saved to C:\\rituja_git\\ma-rituja-pardhi\\DQN\\data\\cm\\Crime\\g_9.gml\n"
     ]
    }
   ],
   "source": [
    "graph_name = \"Crime_degree.gml\"\n",
    "for i in range(10):\n",
    "\n",
    "    graph = cm_model(graph_name, random.randint(30,50))\n",
    "    print(len(graph.nodes()))\n",
    "    subdir = 'data/cm/Crime'\n",
    "    file_name = f\"g_{i}.gml\"\n",
    "    file_path = Path.cwd()/subdir/file_name\n",
    "    \n",
    "    nx.write_gml(graph, file_path)\n",
    "\n",
    "    print(f\"Graph {i} saved to {file_path}\")"
   ],
   "metadata": {
    "collapsed": false,
    "ExecuteTime": {
     "end_time": "2024-03-21T14:38:34.708517Z",
     "start_time": "2024-03-21T14:38:32.941446500Z"
    }
   },
   "execution_count": 199
  },
  {
   "cell_type": "code",
   "outputs": [],
   "source": [],
   "metadata": {
    "collapsed": false
   }
  }
 ],
 "metadata": {
  "kernelspec": {
   "display_name": "Python 3",
   "language": "python",
   "name": "python3"
  },
  "language_info": {
   "codemirror_mode": {
    "name": "ipython",
    "version": 2
   },
   "file_extension": ".py",
   "mimetype": "text/x-python",
   "name": "python",
   "nbconvert_exporter": "python",
   "pygments_lexer": "ipython2",
   "version": "2.7.6"
  }
 },
 "nbformat": 4,
 "nbformat_minor": 0
}
