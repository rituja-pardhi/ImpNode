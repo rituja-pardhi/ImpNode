{
 "cells": [
  {
   "cell_type": "code",
   "execution_count": 142,
   "outputs": [
    {
     "name": "stdout",
     "output_type": "stream",
     "text": [
      "The autoreload extension is already loaded. To reload it, use:\n",
      "  %reload_ext autoreload\n"
     ]
    }
   ],
   "source": [
    "%load_ext autoreload\n",
    "%autoreload 2"
   ],
   "metadata": {
    "collapsed": false,
    "ExecuteTime": {
     "end_time": "2023-11-28T14:12:46.649233100Z",
     "start_time": "2023-11-28T14:12:46.551208200Z"
    }
   }
  },
  {
   "cell_type": "code",
   "execution_count": 143,
   "outputs": [],
   "source": [
    "from envs.GraphEnv.impnode import ImpnodeEnv\n",
    "from envs.sync_vector_env import GraphSyncVectorEnv\n",
    "from envs.async_vector_env import GraphAsyncVectorEnv\n",
    "from envs.async_vector_env2 import GraphAsyncVectorEnv2\n",
    "import  numpy as np\n",
    "import time"
   ],
   "metadata": {
    "collapsed": false,
    "ExecuteTime": {
     "end_time": "2023-11-28T14:12:46.919002400Z",
     "start_time": "2023-11-28T14:12:46.822546Z"
    }
   }
  },
  {
   "cell_type": "code",
   "execution_count": 163,
   "outputs": [],
   "source": [
    "def make_env_fn(seed):\n",
    "    env = ImpnodeEnv(ba_nodes = 200, ba_edges = 50, max_removed_nodes = 10, seed = seed)\n",
    "    return env\n",
    "\n",
    "num_envs = 5000\n",
    "num_episodes = 1"
   ],
   "metadata": {
    "collapsed": false,
    "ExecuteTime": {
     "end_time": "2023-11-28T14:55:58.385384500Z",
     "start_time": "2023-11-28T14:55:58.305155600Z"
    }
   }
  },
  {
   "cell_type": "code",
   "execution_count": 164,
   "outputs": [
    {
     "name": "stdout",
     "output_type": "stream",
     "text": [
      "The line_profiler extension is already loaded. To reload it, use:\n",
      "  %reload_ext line_profiler\n"
     ]
    }
   ],
   "source": [
    "%load_ext line_profiler"
   ],
   "metadata": {
    "collapsed": false,
    "ExecuteTime": {
     "end_time": "2023-11-28T14:55:58.681476100Z",
     "start_time": "2023-11-28T14:55:58.592465600Z"
    }
   }
  },
  {
   "cell_type": "code",
   "execution_count": 165,
   "metadata": {
    "collapsed": true,
    "ExecuteTime": {
     "end_time": "2023-11-28T14:55:58.931516700Z",
     "start_time": "2023-11-28T14:55:58.832486700Z"
    }
   },
   "outputs": [],
   "source": [
    "def sync_func(num_envs, num_episodes):\n",
    "    sync_envs = GraphSyncVectorEnv([make_env_fn(i) for i in range(num_envs)])\n",
    "    for i in range(num_envs):\n",
    "        sync_envs.action_space(i).seed(i)\n",
    "\n",
    "    for i in range(num_episodes):\n",
    "        terminated = False\n",
    "        num_nodes = [sync_envs.num_nodes(i) for i in range(num_envs)]\n",
    "        masks = [np.ones(nodes, dtype=np.int8) for nodes in num_nodes]\n",
    "        while not terminated:\n",
    "            actions = [sync_envs.action_space(i).sample(mask=masks[i]) for i in range(num_envs)]\n",
    "            for j in range(num_envs):\n",
    "                masks[j][actions[j]] = 0\n",
    "            start = time.time()\n",
    "            observation, reward, terminated, truncated, info = sync_envs.step(actions)\n",
    "            end = time.time()\n",
    "            terminated = sum(terminated)\n",
    "        sync_envs.reset()\n",
    "    print(end-start)"
   ]
  },
  {
   "cell_type": "code",
   "execution_count": 166,
   "outputs": [
    {
     "name": "stdout",
     "output_type": "stream",
     "text": [
      "965.3215310573578\n"
     ]
    }
   ],
   "source": [
    "%lprun -f sync_func sync_func(num_envs, num_episodes)"
   ],
   "metadata": {
    "collapsed": false,
    "ExecuteTime": {
     "end_time": "2023-11-28T20:28:19.295956600Z",
     "start_time": "2023-11-28T14:55:59.042793800Z"
    }
   }
  },
  {
   "cell_type": "code",
   "execution_count": 167,
   "outputs": [],
   "source": [
    "def async_func(num_envs, num_episodes):\n",
    "    async_envs = GraphAsyncVectorEnv([make_env_fn(i) for i in range(num_envs)])\n",
    "    for i in range(num_envs):\n",
    "        async_envs.action_space(i).seed(i)\n",
    "    if __name__ == '__main__':\n",
    "        for i in range(num_episodes):\n",
    "            terminated = False\n",
    "            num_nodes = [async_envs.num_nodes(i) for i in range(num_envs)]\n",
    "            masks = [np.ones(nodes, dtype=np.int8) for nodes in num_nodes]\n",
    "            while not terminated:\n",
    "                actions = [async_envs.action_space(i).sample(mask=masks[i]) for i in range(num_envs)]\n",
    "                for j in range(num_envs):\n",
    "                    masks[j][actions[j]] = 0\n",
    "                start = time.time()\n",
    "                observation, reward, terminated, truncated, info = async_envs.step(actions)\n",
    "                end = time.time()\n",
    "                terminated = sum(terminated)\n",
    "            async_envs.reset()\n",
    "        print(end-start)"
   ],
   "metadata": {
    "collapsed": false,
    "ExecuteTime": {
     "end_time": "2023-11-28T20:28:19.625033600Z",
     "start_time": "2023-11-28T20:28:18.187195100Z"
    }
   }
  },
  {
   "cell_type": "code",
   "execution_count": null,
   "outputs": [],
   "source": [
    "%lprun -f async_func async_func(num_envs, num_episodes)"
   ],
   "metadata": {
    "collapsed": false,
    "is_executing": true,
    "ExecuteTime": {
     "start_time": "2023-11-28T20:28:18.901211200Z"
    }
   }
  },
  {
   "cell_type": "code",
   "execution_count": null,
   "outputs": [],
   "source": [
    "async_envs = GraphAsyncVectorEnv2([make_env_fn(i) for i in range(num_envs)])\n",
    "for i in range(num_envs):\n",
    "    async_envs.action_space(i).seed(i)\n",
    "if __name__ == '__main__':\n",
    "    for i in range(num_episodes):\n",
    "        terminated = False\n",
    "        num_nodes = [async_envs.num_nodes(i) for i in range(num_envs)]\n",
    "        masks = [np.ones(nodes, dtype=np.int8) for nodes in num_nodes]\n",
    "        while not terminated:\n",
    "            actions = [async_envs.action_space(i).sample(mask=masks[i]) for i in range(num_envs)]\n",
    "            for j in range(num_envs):\n",
    "                masks[j][actions[j]] = 0\n",
    "            observation, reward, terminated, truncated, info = async_envs.step(actions)\n",
    "            terminated = sum(terminated)\n",
    "        async_envs.reset()"
   ],
   "metadata": {
    "collapsed": false,
    "is_executing": true
   }
  },
  {
   "cell_type": "code",
   "execution_count": 71,
   "outputs": [],
   "source": [],
   "metadata": {
    "collapsed": false,
    "ExecuteTime": {
     "end_time": "2023-11-28T11:55:10.533946700Z",
     "start_time": "2023-11-28T11:55:10.491805600Z"
    }
   }
  }
 ],
 "metadata": {
  "kernelspec": {
   "display_name": "Python 3",
   "language": "python",
   "name": "python3"
  },
  "language_info": {
   "codemirror_mode": {
    "name": "ipython",
    "version": 2
   },
   "file_extension": ".py",
   "mimetype": "text/x-python",
   "name": "python",
   "nbconvert_exporter": "python",
   "pygments_lexer": "ipython2",
   "version": "2.7.6"
  }
 },
 "nbformat": 4,
 "nbformat_minor": 0
}
