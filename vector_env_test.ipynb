{
 "cells": [
  {
   "cell_type": "code",
   "execution_count": 1,
   "outputs": [],
   "source": [
    "%load_ext autoreload\n",
    "%autoreload 2"
   ],
   "metadata": {
    "collapsed": false,
    "ExecuteTime": {
     "end_time": "2023-11-23T14:59:12.114971400Z",
     "start_time": "2023-11-23T14:59:12.043697600Z"
    }
   }
  },
  {
   "cell_type": "code",
   "execution_count": 2,
   "outputs": [],
   "source": [
    "from envs.GraphEnv.impnode import ImpnodeEnv\n",
    "from envs.sync_vector_env import GraphSyncVectorEnv\n",
    "from envs.async_vector_env import GraphAsyncVectorEnv\n",
    "from envs.async_vector_env2 import GraphAsyncVectorEnv2\n",
    "import  numpy as np\n",
    "import time"
   ],
   "metadata": {
    "collapsed": false,
    "ExecuteTime": {
     "end_time": "2023-11-23T14:59:13.260454100Z",
     "start_time": "2023-11-23T14:59:12.247448500Z"
    }
   }
  },
  {
   "cell_type": "code",
   "execution_count": 3,
   "outputs": [],
   "source": [
    "def make_env_fn():\n",
    "    env = ImpnodeEnv(ba_nodes = 20, ba_edges = 5, max_removed_nodes = 10)\n",
    "    return env\n",
    "\n",
    "num_envs = 1000\n",
    "num_episodes = 1"
   ],
   "metadata": {
    "collapsed": false,
    "ExecuteTime": {
     "end_time": "2023-11-23T14:59:13.353640200Z",
     "start_time": "2023-11-23T14:59:13.264447500Z"
    }
   }
  },
  {
   "cell_type": "code",
   "execution_count": 4,
   "metadata": {
    "collapsed": true,
    "ExecuteTime": {
     "end_time": "2023-11-23T14:59:23.385652700Z",
     "start_time": "2023-11-23T14:59:13.358643400Z"
    }
   },
   "outputs": [
    {
     "name": "stdout",
     "output_type": "stream",
     "text": [
      "6.72080397605896\n"
     ]
    }
   ],
   "source": [
    "sync_envs = GraphSyncVectorEnv([make_env_fn() for _ in range(num_envs)])\n",
    "for i in range(num_envs):\n",
    "    sync_envs.action_space(i).seed(i)\n",
    "\n",
    "start = time.time()\n",
    "for i in range(num_episodes):\n",
    "    terminated = False\n",
    "    num_nodes = [sync_envs.num_nodes(i) for i in range(num_envs)]\n",
    "    masks = [np.ones(nodes, dtype=np.int8) for nodes in num_nodes]\n",
    "    while not terminated:\n",
    "\n",
    "        actions = [sync_envs.action_space(i).sample(mask=masks[i]) for i in range(num_envs)]\n",
    "        for j in range(num_envs):\n",
    "            masks[j][actions[j]] = 0\n",
    "\n",
    "        observation, reward, terminated, truncated, info = sync_envs.step(actions)\n",
    "        terminated = sum(terminated)\n",
    "\n",
    "    sync_envs.reset()\n",
    "end = time.time()\n",
    "print(end-start)"
   ]
  },
  {
   "cell_type": "code",
   "execution_count": 5,
   "outputs": [
    {
     "name": "stdout",
     "output_type": "stream",
     "text": [
      "7.163771629333496\n"
     ]
    }
   ],
   "source": [
    "async_envs = GraphAsyncVectorEnv([make_env_fn() for _ in range(num_envs)])\n",
    "for i in range(num_envs):\n",
    "    async_envs.action_space(i).seed(i)\n",
    "\n",
    "if __name__ == '__main__':\n",
    "    start = time.time()\n",
    "    for i in range(num_episodes):\n",
    "        terminated = False\n",
    "        num_nodes = [async_envs.num_nodes(i) for i in range(num_envs)]\n",
    "        masks = [np.ones(nodes, dtype=np.int8) for nodes in num_nodes]\n",
    "\n",
    "        while not terminated:\n",
    "\n",
    "            actions = [async_envs.action_space(i).sample(mask=masks[i]) for i in range(num_envs)]\n",
    "            for j in range(num_envs):\n",
    "                masks[j][actions[j]] = 0\n",
    "\n",
    "            observation, reward, terminated, truncated, info = async_envs.step(actions)\n",
    "            terminated = sum(terminated)\n",
    "\n",
    "        async_envs.reset()\n",
    "    end = time.time()\n",
    "    print(end-start)"
   ],
   "metadata": {
    "collapsed": false,
    "ExecuteTime": {
     "end_time": "2023-11-23T14:59:33.925149300Z",
     "start_time": "2023-11-23T14:59:23.390671100Z"
    }
   }
  },
  {
   "cell_type": "code",
   "execution_count": 6,
   "outputs": [
    {
     "name": "stdout",
     "output_type": "stream",
     "text": [
      "7.1653783321380615\n"
     ]
    }
   ],
   "source": [
    "async_envs = GraphAsyncVectorEnv2([make_env_fn() for _ in range(num_envs)])\n",
    "for i in range(num_envs):\n",
    "    async_envs.action_space(i).seed(i)\n",
    "\n",
    "if __name__ == '__main__':\n",
    "    start = time.time()\n",
    "    for i in range(num_episodes):\n",
    "        terminated = False\n",
    "        num_nodes = [async_envs.num_nodes(i) for i in range(num_envs)]\n",
    "        masks = [np.ones(nodes, dtype=np.int8) for nodes in num_nodes]\n",
    "\n",
    "        while not terminated:\n",
    "\n",
    "            actions = [async_envs.action_space(i).sample(mask=masks[i]) for i in range(num_envs)]\n",
    "            for j in range(num_envs):\n",
    "                masks[j][actions[j]] = 0\n",
    "\n",
    "            observation, reward, terminated, truncated, info = async_envs.step(actions)\n",
    "            terminated = sum(terminated)\n",
    "\n",
    "        async_envs.reset()\n",
    "    end = time.time()\n",
    "    print(end-start)"
   ],
   "metadata": {
    "collapsed": false,
    "ExecuteTime": {
     "end_time": "2023-11-23T14:59:44.332257300Z",
     "start_time": "2023-11-23T14:59:33.930148600Z"
    }
   }
  },
  {
   "cell_type": "code",
   "execution_count": null,
   "outputs": [],
   "source": [],
   "metadata": {
    "collapsed": false
   }
  }
 ],
 "metadata": {
  "kernelspec": {
   "display_name": "Python 3",
   "language": "python",
   "name": "python3"
  },
  "language_info": {
   "codemirror_mode": {
    "name": "ipython",
    "version": 2
   },
   "file_extension": ".py",
   "mimetype": "text/x-python",
   "name": "python",
   "nbconvert_exporter": "python",
   "pygments_lexer": "ipython2",
   "version": "2.7.6"
  }
 },
 "nbformat": 4,
 "nbformat_minor": 0
}
