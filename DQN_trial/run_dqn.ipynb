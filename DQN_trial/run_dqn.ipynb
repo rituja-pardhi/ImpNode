{
 "cells": [
  {
   "cell_type": "code",
   "execution_count": 1,
   "outputs": [],
   "source": [
    "import os\n",
    "import gym\n",
    "import numpy as np\n",
    "import pickle\n",
    "from livelossplot import PlotLosses\n",
    "from collections import deque\n",
    "\n",
    "from IPython import display\n",
    "import matplotlib.pyplot as plt\n",
    "%matplotlib inline\n",
    "\n",
    "import torch\n",
    "device = torch.device(\"cuda\" if torch.cuda.is_available() else \"cpu\")"
   ],
   "metadata": {
    "collapsed": false,
    "ExecuteTime": {
     "end_time": "2023-11-29T15:17:23.388490600Z",
     "start_time": "2023-11-29T15:17:19.703086Z"
    }
   }
  },
  {
   "cell_type": "code",
   "execution_count": 2,
   "outputs": [],
   "source": [
    "%load_ext autoreload\n",
    "%autoreload 2"
   ],
   "metadata": {
    "collapsed": false,
    "ExecuteTime": {
     "end_time": "2023-11-29T15:17:23.534525900Z",
     "start_time": "2023-11-29T15:17:23.392491Z"
    }
   }
  },
  {
   "cell_type": "code",
   "execution_count": null,
   "outputs": [],
   "source": [
    "from graph_envs.GraphEnv.impnode import ImpnodeEnv"
   ],
   "metadata": {
    "collapsed": false
   }
  },
  {
   "cell_type": "code",
   "execution_count": 1,
   "outputs": [],
   "source": [
    "import DQN_agent"
   ],
   "metadata": {
    "collapsed": false,
    "ExecuteTime": {
     "end_time": "2023-11-29T15:21:59.008381200Z",
     "start_time": "2023-11-29T15:21:54.864627600Z"
    }
   }
  },
  {
   "cell_type": "code",
   "execution_count": 15,
   "outputs": [],
   "source": [
    "# create an \"image\" that will be used to render the interaction of the agent with the environmet\n",
    "# when render is set to False, return no \"image\"\n",
    "\n",
    "def get_display_screen(env, render):\n",
    "    env.reset()\n",
    "    if not render:\n",
    "        return None\n",
    "    return plt.imshow(env.render(mode='rgb_array'))"
   ],
   "metadata": {
    "collapsed": false,
    "ExecuteTime": {
     "end_time": "2023-11-29T15:14:51.989753100Z",
     "start_time": "2023-11-29T15:14:51.822227400Z"
    }
   }
  },
  {
   "cell_type": "code",
   "execution_count": 16,
   "outputs": [],
   "source": [
    "# update the \"image\" to display the current environment-agent interaction\n",
    "\n",
    "def render_env(env, display_screen):\n",
    "    display_screen.set_data(env.render(mode='rgb_array')) # update the data\n",
    "    display.display(plt.gcf()) # feed current figure to display\n",
    "    display.clear_output(wait=True)"
   ],
   "metadata": {
    "collapsed": false,
    "ExecuteTime": {
     "end_time": "2023-11-29T15:14:53.118852900Z",
     "start_time": "2023-11-29T15:14:52.949040500Z"
    }
   }
  },
  {
   "cell_type": "code",
   "execution_count": 17,
   "outputs": [],
   "source": [
    "# sets the provided seed value for all components with random value generation\n",
    "\n",
    "def set_seeds(env, seed):\n",
    "    os.environ['PYTHONHASHSEED']=str(seed)\n",
    "    np.random.seed(seed)\n",
    "    torch.manual_seed(seed)\n",
    "\n",
    "    #env.seed(seed)\n",
    "    env.action_space.np_random.seed(seed)"
   ],
   "metadata": {
    "collapsed": false,
    "ExecuteTime": {
     "end_time": "2023-11-29T15:14:53.748583400Z",
     "start_time": "2023-11-29T15:14:53.582764900Z"
    }
   }
  },
  {
   "cell_type": "code",
   "execution_count": 18,
   "outputs": [],
   "source": [
    "# to initialize the replay buffer with some random interactions\n",
    "\n",
    "def fill_memory(env, agent):\n",
    "    for _ in range(NUM_MEM_FILL_EPS):\n",
    "        done = False\n",
    "        state, info = env.reset()\n",
    "\n",
    "        while not done:\n",
    "            action = env.action_space.sample() # samples random action\n",
    "            next_state, reward, done, truncated, info = env.step(action)\n",
    "            agent.memory.store(state=state, action=action, next_state=next_state, reward=reward, done=done)"
   ],
   "metadata": {
    "collapsed": false,
    "ExecuteTime": {
     "end_time": "2023-11-29T15:14:55.481458800Z",
     "start_time": "2023-11-29T15:14:55.315416800Z"
    }
   }
  },
  {
   "cell_type": "code",
   "execution_count": 19,
   "outputs": [],
   "source": [
    "# trains the agent and plots the associated moving average rewards and epsilon values in real-time\n",
    "\n",
    "def train_loop(env, agent, display_screen, results_basepath):\n",
    "\n",
    "    liveloss = PlotLosses()\n",
    "    logs = {}\n",
    "\n",
    "    last_100_rewards = deque([], maxlen=100)\n",
    "\n",
    "    reward_history = []\n",
    "    epsilon_history = []\n",
    "\n",
    "    step_cnt = 0\n",
    "    best_score = -np.inf\n",
    "\n",
    "    for ep_cnt in range(NUM_TRAIN_EPS):\n",
    "\n",
    "        logs['train epsilon'] = agent.epsilon # to plot current epsilon value\n",
    "\n",
    "        done = False\n",
    "        state, info = env.reset()\n",
    "\n",
    "        ep_score = 0\n",
    "\n",
    "        while not done:\n",
    "            # if display is available, then render the interaction\n",
    "            if display_screen is not None:\n",
    "                render_env(env=env, display_screen=display_screen)\n",
    "\n",
    "            action = agent.select_action(state)\n",
    "            next_state, reward, done, truncated, info = env.step(action)\n",
    "\n",
    "            agent.memory.store(state=state, action=action, next_state=next_state, reward=reward, done=done)\n",
    "            agent.learn(BATCHSIZE)\n",
    "\n",
    "            if step_cnt % UPDATE_FREQUENCY == 0:\n",
    "                agent.update_target_net()\n",
    "\n",
    "            state = next_state\n",
    "            ep_score += reward\n",
    "            step_cnt += 1\n",
    "\n",
    "        agent.update_epsilon()\n",
    "\n",
    "        last_100_rewards.append(ep_score)\n",
    "        current_avg_score = np.mean(last_100_rewards) # get average of last 100 scores\n",
    "        logs['train avg score'] = current_avg_score\n",
    "\n",
    "        # reward and epsilon history tracked only when running locally, otherwise runs into memory issues with binder\n",
    "\n",
    "        reward_history.append(ep_score)\n",
    "        epsilon_history.append(logs['train epsilon'])\n",
    "\n",
    "        if current_avg_score >= best_score:\n",
    "            agent.save_model('{}/dqn_model'.format(results_basepath))\n",
    "            best_score = current_avg_score\n",
    "\n",
    "        # update the plots in real-time\n",
    "        liveloss.update(logs)\n",
    "        liveloss.send()\n",
    "\n",
    "    # store the reward and epsilon history that was tracked while running locally\n",
    "\n",
    "    with open('{}/train_reward_history.pkl'.format(results_basepath), 'wb') as f:\n",
    "        pickle.dump(reward_history, f)\n",
    "\n",
    "    with open('{}/train_epsilon_history.pkl'.format(results_basepath), 'wb') as f:\n",
    "        pickle.dump(epsilon_history, f)"
   ],
   "metadata": {
    "collapsed": false,
    "ExecuteTime": {
     "end_time": "2023-11-29T15:14:56.503710100Z",
     "start_time": "2023-11-29T15:14:56.326667100Z"
    }
   }
  },
  {
   "cell_type": "code",
   "execution_count": 20,
   "outputs": [],
   "source": [
    "## variables for training the agent\n",
    "\n",
    "ENV_NAME_TRAIN = 'ImpnodeEnv'#'MountainCar-v0' ## tested on: CartPole-v0, MountainCar-v0, LunarLander-v2\n",
    "RENDER_TRAIN = False ## whether to render the interaction while training\n",
    "\n",
    "NUM_TRAIN_EPS = 10 #1000 ## number training episodes to run\n",
    "NUM_MEM_FILL_EPS = 5 #10 ## number of episodes to run to initialize the memory\n",
    "\n",
    "DISCOUNT = 0.99 ## gamma used for computing return\n",
    "BATCHSIZE = 64 ## number of transitions to sample from replay buffer for each learn step\n",
    "MEMORY_CAPACITY = 50 ## size of the memory buffer\n",
    "UPDATE_FREQUENCY = 10 ## number of interactions after which the target buffer is updated\n",
    "\n",
    "EPS_MAX = 1.0 ## initial epsilon value\n",
    "EPS_MIN = 0.8 ## final epsilon value\n",
    "EPS_DECAY = 0.5 ## amount by which epsilon is decayed at each episode\n",
    "\n",
    "LR = 0.1 ## learning rate for the network\n",
    "\n",
    "TRAIN_SEED = 12321"
   ],
   "metadata": {
    "collapsed": false,
    "ExecuteTime": {
     "end_time": "2023-11-29T15:14:57.239892100Z",
     "start_time": "2023-11-29T15:14:57.044842200Z"
    }
   }
  },
  {
   "cell_type": "code",
   "execution_count": 21,
   "outputs": [],
   "source": [
    "# create folder for storing the model and other files\n",
    "results_basepath_train = \"results/{}_epsmax{}_epsmin{}_epsdec{}_batchsize{}_treps{}_memeps{}\".format(\n",
    "                                                                                                ENV_NAME_TRAIN,\n",
    "                                                                                                EPS_MAX,\n",
    "                                                                                                EPS_MIN,\n",
    "                                                                                                EPS_DECAY,\n",
    "                                                                                                BATCHSIZE,\n",
    "                                                                                                NUM_TRAIN_EPS,\n",
    "                                                                                                NUM_MEM_FILL_EPS)\n",
    "os.makedirs(results_basepath_train, exist_ok=True)\n",
    "\n",
    "# create environment and set associated seeds\n",
    "#env_train = gym.make(ENV_NAME_TRAIN)\n",
    "#set_seeds(env_train, TRAIN_SEED)\n",
    "\n",
    "seed = 5545\n",
    "env_train = ImpnodeEnv(8, 2, 3, seed)\n",
    "\n"
   ],
   "metadata": {
    "collapsed": false,
    "ExecuteTime": {
     "end_time": "2023-11-29T15:14:58.778381800Z",
     "start_time": "2023-11-29T15:14:58.241551900Z"
    }
   }
  },
  {
   "cell_type": "code",
   "execution_count": 22,
   "outputs": [
    {
     "ename": "NameError",
     "evalue": "name 'DQNAgent' is not defined",
     "output_type": "error",
     "traceback": [
      "\u001B[1;31m---------------------------------------------------------------------------\u001B[0m",
      "\u001B[1;31mNameError\u001B[0m                                 Traceback (most recent call last)",
      "Cell \u001B[1;32mIn[22], line 2\u001B[0m\n\u001B[0;32m      1\u001B[0m \u001B[38;5;66;03m# create the dqn_agent\u001B[39;00m\n\u001B[1;32m----> 2\u001B[0m dqn_agent_train \u001B[38;5;241m=\u001B[39m \u001B[43mDQNAgent\u001B[49m(device,\n\u001B[0;32m      3\u001B[0m                             env_train\u001B[38;5;241m.\u001B[39mobservation_space\u001B[38;5;241m.\u001B[39mshape[\u001B[38;5;241m0\u001B[39m],\n\u001B[0;32m      4\u001B[0m                             env_train\u001B[38;5;241m.\u001B[39maction_space\u001B[38;5;241m.\u001B[39mn,\n\u001B[0;32m      5\u001B[0m                             discount\u001B[38;5;241m=\u001B[39mDISCOUNT,\n\u001B[0;32m      6\u001B[0m                             eps_max\u001B[38;5;241m=\u001B[39mEPS_MAX,\n\u001B[0;32m      7\u001B[0m                             eps_min\u001B[38;5;241m=\u001B[39mEPS_MIN,\n\u001B[0;32m      8\u001B[0m                             eps_decay\u001B[38;5;241m=\u001B[39mEPS_DECAY,\n\u001B[0;32m      9\u001B[0m                             memory_capacity\u001B[38;5;241m=\u001B[39mMEMORY_CAPACITY,\n\u001B[0;32m     10\u001B[0m                             lr\u001B[38;5;241m=\u001B[39mLR,\n\u001B[0;32m     11\u001B[0m                             train_mode\u001B[38;5;241m=\u001B[39m\u001B[38;5;28;01mTrue\u001B[39;00m)\n\u001B[0;32m     13\u001B[0m \u001B[38;5;66;03m# get screen to display on based on whether rendering is required\u001B[39;00m\n\u001B[0;32m     14\u001B[0m display_screen_train \u001B[38;5;241m=\u001B[39m get_display_screen(env_train, RENDER_TRAIN)\n",
      "\u001B[1;31mNameError\u001B[0m: name 'DQNAgent' is not defined"
     ]
    }
   ],
   "source": [
    "# create the dqn_agent\n",
    "dqn_agent_train = DQN_agent.DQNAgent(device,\n",
    "                                     env_train.observation_space.shape[0],\n",
    "                                     env_train.action_space.n,\n",
    "                                     discount=DISCOUNT,\n",
    "                                     eps_max=EPS_MAX,\n",
    "                                     eps_min=EPS_MIN,\n",
    "                                     eps_decay=EPS_DECAY,\n",
    "                                     memory_capacity=MEMORY_CAPACITY,\n",
    "                                     lr=LR,\n",
    "                                     train_mode=True)\n",
    "\n",
    "# get screen to display on based on whether rendering is required\n",
    "display_screen_train = get_display_screen(env_train, RENDER_TRAIN)"
   ],
   "metadata": {
    "collapsed": false,
    "ExecuteTime": {
     "end_time": "2023-11-29T15:14:59.711879Z",
     "start_time": "2023-11-29T15:14:59.521835500Z"
    }
   }
  },
  {
   "cell_type": "code",
   "execution_count": 299,
   "outputs": [
    {
     "data": {
      "text/plain": "<Figure size 1200x800 with 2 Axes>",
      "image/png": "[encoded data removed]"
     },
     "metadata": {},
     "output_type": "display_data"
    },
    {
     "name": "stdout",
     "output_type": "stream",
     "text": [
      "train avg score\n",
      "\ttrain avg score  \t (min: -215539.000, max: -83942.857, cur: -101809.400)\n",
      "train epsilon\n",
      "\ttrain epsilon    \t (min:    0.800, max:    1.000, cur:    0.800)\n"
     ]
    }
   ],
   "source": [
    "# initialise the memory\n",
    "fill_memory(env_train, dqn_agent_train)\n",
    "\n",
    "# train the agent\n",
    "train_loop(env_train, dqn_agent_train, display_screen_train, results_basepath_train)"
   ],
   "metadata": {
    "collapsed": false
   }
  },
  {
   "cell_type": "code",
   "execution_count": 300,
   "outputs": [],
   "source": [
    "# tests the agent through interactions with the environment and plots the associated rewards in real-time\n",
    "\n",
    "def test_loop(env, agent, display_screen, results_basepath):\n",
    "    liveloss = PlotLosses()\n",
    "    logs = {}\n",
    "\n",
    "    reward_history = []\n",
    "\n",
    "    for ep in range(NUM_TEST_EPS):\n",
    "        ep_score = 0\n",
    "        done = False\n",
    "        state, info = env.reset()\n",
    "        while not done:\n",
    "            # if display is available, render the interaction\n",
    "            if display_screen is not None:\n",
    "                render_env(env=env, display_screen=display_screen)\n",
    "\n",
    "            action = agent.select_action(state)\n",
    "            next_state, reward, done, truncated, _ = env.step(action)\n",
    "            ep_score += reward\n",
    "            state = next_state\n",
    "\n",
    "        # track reward history only while running locally\n",
    "\n",
    "        reward_history.append(ep_score)\n",
    "\n",
    "        # update the plot in real-time\n",
    "        logs['test score'] = ep_score\n",
    "        liveloss.update(logs)\n",
    "        liveloss.send()\n",
    "\n",
    "    # store the reward that was tracked while running locally\n",
    "\n",
    "    with open('{}/test_reward_history_{}.pkl'.format(results_basepath, TEST_SEED), 'wb') as f:\n",
    "        pickle.dump(reward_history, f)"
   ],
   "metadata": {
    "collapsed": false,
    "ExecuteTime": {
     "end_time": "2023-11-29T14:17:52.687594400Z",
     "start_time": "2023-11-29T14:17:52.462544600Z"
    }
   }
  },
  {
   "cell_type": "code",
   "execution_count": 301,
   "outputs": [],
   "source": [
    "## variables for testing the agent\n",
    "\n",
    "# location where the model is stored and the name of the associated environment\n",
    "#RESULTS_BASEPATH_TEST = 'results/CartPole-v0_epsmax1.0_epsmin0.01_epsdec0.995_batchsize64_treps10_memeps5'\n",
    "#ENV_NAME_TEST = 'CartPole-v0'\n",
    "\n",
    "#RESULTS_BASEPATH_TEST = 'pretrained/LunarLander-v2_epsmax1.0_epsmin0.01_epsdec0.995_batchsize64'\n",
    "#ENV_NAME_TEST = 'LunarLander-v2'\n",
    "\n",
    "RESULTS_BASEPATH_TEST = 'pretrained/MountainCar-v0_epsmax1.0_epsmin0.01_epsdec0.995_batchsize64'\n",
    "ENV_NAME_TEST = 'MountainCar-v0'\n",
    "\n",
    "#RESULTS_BASEPATH_TEST = 'pretrained/CartPole-v0_epsmax1.0_epsmin0.01_epsdec0.995_batchsize64'\n",
    "#ENV_NAME_TEST = 'CartPole-v0'\n",
    "\n",
    "RENDER_TEST = False ## whether to render the interaction while testing\n",
    "\n",
    "NUM_TEST_EPS = 10 ## number of test episodes to run\n",
    "\n",
    "TEST_SEED = 456\n",
    "#TEST_SEED = [456, 12, 985234, 123, 3202]"
   ],
   "metadata": {
    "collapsed": false,
    "ExecuteTime": {
     "end_time": "2023-11-29T14:17:55.921306Z",
     "start_time": "2023-11-29T14:17:55.766272900Z"
    }
   }
  },
  {
   "cell_type": "code",
   "execution_count": 302,
   "outputs": [
    {
     "ename": "FileNotFoundError",
     "evalue": "[Errno 2] No such file or directory: 'pretrained/MountainCar-v0_epsmax1.0_epsmin0.01_epsdec0.995_batchsize64/dqn_model'",
     "output_type": "error",
     "traceback": [
      "\u001B[1;31m---------------------------------------------------------------------------\u001B[0m",
      "\u001B[1;31mFileNotFoundError\u001B[0m                         Traceback (most recent call last)",
      "Cell \u001B[1;32mIn[302], line 15\u001B[0m\n\u001B[0;32m      3\u001B[0m \u001B[38;5;66;03m#set_seeds(env_test, TEST_SEED)\u001B[39;00m\n\u001B[0;32m      4\u001B[0m \n\u001B[0;32m      5\u001B[0m \u001B[38;5;66;03m# create the dqn agent with the stored weights\u001B[39;00m\n\u001B[0;32m      6\u001B[0m dqn_agent_test \u001B[38;5;241m=\u001B[39m DQNAgent(device\u001B[38;5;241m=\u001B[39mdevice,\n\u001B[0;32m      7\u001B[0m                           state_size\u001B[38;5;241m=\u001B[39menv_test\u001B[38;5;241m.\u001B[39mobservation_space\u001B[38;5;241m.\u001B[39mshape[\u001B[38;5;241m0\u001B[39m],\n\u001B[0;32m      8\u001B[0m                           action_size\u001B[38;5;241m=\u001B[39menv_test\u001B[38;5;241m.\u001B[39maction_space\u001B[38;5;241m.\u001B[39mn,\n\u001B[1;32m   (...)\u001B[0m\n\u001B[0;32m     13\u001B[0m                           memory_capacity\u001B[38;5;241m=\u001B[39m\u001B[38;5;241m0\u001B[39m,\n\u001B[0;32m     14\u001B[0m                           train_mode\u001B[38;5;241m=\u001B[39m\u001B[38;5;28;01mFalse\u001B[39;00m)\n\u001B[1;32m---> 15\u001B[0m \u001B[43mdqn_agent_test\u001B[49m\u001B[38;5;241;43m.\u001B[39;49m\u001B[43mload_model\u001B[49m\u001B[43m(\u001B[49m\u001B[38;5;124;43m'\u001B[39;49m\u001B[38;5;132;43;01m{}\u001B[39;49;00m\u001B[38;5;124;43m/dqn_model\u001B[39;49m\u001B[38;5;124;43m'\u001B[39;49m\u001B[38;5;241;43m.\u001B[39;49m\u001B[43mformat\u001B[49m\u001B[43m(\u001B[49m\u001B[43mRESULTS_BASEPATH_TEST\u001B[49m\u001B[43m)\u001B[49m\u001B[43m)\u001B[49m\n\u001B[0;32m     17\u001B[0m \u001B[38;5;66;03m# get screen to display on based on whether rendering is required\u001B[39;00m\n\u001B[0;32m     18\u001B[0m display_screen_test \u001B[38;5;241m=\u001B[39m get_display_screen(env_test, RENDER_TEST)\n",
      "File \u001B[1;32m~\\Thesis\\ma-rituja-pardhi\\DQN_trial\\DQN_agent.py:182\u001B[0m, in \u001B[0;36mDQNAgent.load_model\u001B[1;34m(self, filename)\u001B[0m\n\u001B[0;32m    168\u001B[0m \u001B[38;5;28;01mdef\u001B[39;00m \u001B[38;5;21mload_model\u001B[39m(\u001B[38;5;28mself\u001B[39m, filename):\n\u001B[0;32m    169\u001B[0m \u001B[38;5;250m    \u001B[39m\u001B[38;5;124;03m\"\"\"\u001B[39;00m\n\u001B[0;32m    170\u001B[0m \u001B[38;5;124;03m    Function to load model parameters\u001B[39;00m\n\u001B[0;32m    171\u001B[0m \n\u001B[1;32m   (...)\u001B[0m\n\u001B[0;32m    179\u001B[0m \u001B[38;5;124;03m    none\u001B[39;00m\n\u001B[0;32m    180\u001B[0m \u001B[38;5;124;03m    \"\"\"\u001B[39;00m\n\u001B[1;32m--> 182\u001B[0m     \u001B[38;5;28;43mself\u001B[39;49m\u001B[38;5;241;43m.\u001B[39;49m\u001B[43mpolicy_net\u001B[49m\u001B[38;5;241;43m.\u001B[39;49m\u001B[43mload_model\u001B[49m\u001B[43m(\u001B[49m\u001B[43mfilename\u001B[49m\u001B[38;5;241;43m=\u001B[39;49m\u001B[43mfilename\u001B[49m\u001B[43m,\u001B[49m\u001B[43m \u001B[49m\u001B[43mdevice\u001B[49m\u001B[38;5;241;43m=\u001B[39;49m\u001B[38;5;28;43mself\u001B[39;49m\u001B[38;5;241;43m.\u001B[39;49m\u001B[43mdevice\u001B[49m\u001B[43m)\u001B[49m\n",
      "File \u001B[1;32m~\\Thesis\\ma-rituja-pardhi\\DQN_trial\\model.py:63\u001B[0m, in \u001B[0;36mDQNNet.load_model\u001B[1;34m(self, filename, device)\u001B[0m\n\u001B[0;32m     47\u001B[0m \u001B[38;5;250m\u001B[39m\u001B[38;5;124;03m\"\"\"\u001B[39;00m\n\u001B[0;32m     48\u001B[0m \u001B[38;5;124;03mFunction to load model parameters\u001B[39;00m\n\u001B[0;32m     49\u001B[0m \n\u001B[1;32m   (...)\u001B[0m\n\u001B[0;32m     59\u001B[0m \u001B[38;5;124;03mnone\u001B[39;00m\n\u001B[0;32m     60\u001B[0m \u001B[38;5;124;03m\"\"\"\u001B[39;00m\n\u001B[0;32m     62\u001B[0m \u001B[38;5;66;03m# map_location is required to ensure that a model that is trained on GPU can be run even on CPU\u001B[39;00m\n\u001B[1;32m---> 63\u001B[0m \u001B[38;5;28mself\u001B[39m\u001B[38;5;241m.\u001B[39mload_state_dict(\u001B[43mtorch\u001B[49m\u001B[38;5;241;43m.\u001B[39;49m\u001B[43mload\u001B[49m\u001B[43m(\u001B[49m\u001B[43mfilename\u001B[49m\u001B[43m,\u001B[49m\u001B[43m \u001B[49m\u001B[43mmap_location\u001B[49m\u001B[38;5;241;43m=\u001B[39;49m\u001B[43mdevice\u001B[49m\u001B[43m)\u001B[49m)\n",
      "File \u001B[1;32m~\\.conda\\envs\\thesis-env\\lib\\site-packages\\torch\\serialization.py:986\u001B[0m, in \u001B[0;36mload\u001B[1;34m(f, map_location, pickle_module, weights_only, mmap, **pickle_load_args)\u001B[0m\n\u001B[0;32m    983\u001B[0m \u001B[38;5;28;01mif\u001B[39;00m \u001B[38;5;124m'\u001B[39m\u001B[38;5;124mencoding\u001B[39m\u001B[38;5;124m'\u001B[39m \u001B[38;5;129;01mnot\u001B[39;00m \u001B[38;5;129;01min\u001B[39;00m pickle_load_args\u001B[38;5;241m.\u001B[39mkeys():\n\u001B[0;32m    984\u001B[0m     pickle_load_args[\u001B[38;5;124m'\u001B[39m\u001B[38;5;124mencoding\u001B[39m\u001B[38;5;124m'\u001B[39m] \u001B[38;5;241m=\u001B[39m \u001B[38;5;124m'\u001B[39m\u001B[38;5;124mutf-8\u001B[39m\u001B[38;5;124m'\u001B[39m\n\u001B[1;32m--> 986\u001B[0m \u001B[38;5;28;01mwith\u001B[39;00m \u001B[43m_open_file_like\u001B[49m\u001B[43m(\u001B[49m\u001B[43mf\u001B[49m\u001B[43m,\u001B[49m\u001B[43m \u001B[49m\u001B[38;5;124;43m'\u001B[39;49m\u001B[38;5;124;43mrb\u001B[39;49m\u001B[38;5;124;43m'\u001B[39;49m\u001B[43m)\u001B[49m \u001B[38;5;28;01mas\u001B[39;00m opened_file:\n\u001B[0;32m    987\u001B[0m     \u001B[38;5;28;01mif\u001B[39;00m _is_zipfile(opened_file):\n\u001B[0;32m    988\u001B[0m         \u001B[38;5;66;03m# The zipfile reader is going to advance the current file position.\u001B[39;00m\n\u001B[0;32m    989\u001B[0m         \u001B[38;5;66;03m# If we want to actually tail call to torch.jit.load, we need to\u001B[39;00m\n\u001B[0;32m    990\u001B[0m         \u001B[38;5;66;03m# reset back to the original position.\u001B[39;00m\n\u001B[0;32m    991\u001B[0m         orig_position \u001B[38;5;241m=\u001B[39m opened_file\u001B[38;5;241m.\u001B[39mtell()\n",
      "File \u001B[1;32m~\\.conda\\envs\\thesis-env\\lib\\site-packages\\torch\\serialization.py:435\u001B[0m, in \u001B[0;36m_open_file_like\u001B[1;34m(name_or_buffer, mode)\u001B[0m\n\u001B[0;32m    433\u001B[0m \u001B[38;5;28;01mdef\u001B[39;00m \u001B[38;5;21m_open_file_like\u001B[39m(name_or_buffer, mode):\n\u001B[0;32m    434\u001B[0m     \u001B[38;5;28;01mif\u001B[39;00m _is_path(name_or_buffer):\n\u001B[1;32m--> 435\u001B[0m         \u001B[38;5;28;01mreturn\u001B[39;00m \u001B[43m_open_file\u001B[49m\u001B[43m(\u001B[49m\u001B[43mname_or_buffer\u001B[49m\u001B[43m,\u001B[49m\u001B[43m \u001B[49m\u001B[43mmode\u001B[49m\u001B[43m)\u001B[49m\n\u001B[0;32m    436\u001B[0m     \u001B[38;5;28;01melse\u001B[39;00m:\n\u001B[0;32m    437\u001B[0m         \u001B[38;5;28;01mif\u001B[39;00m \u001B[38;5;124m'\u001B[39m\u001B[38;5;124mw\u001B[39m\u001B[38;5;124m'\u001B[39m \u001B[38;5;129;01min\u001B[39;00m mode:\n",
      "File \u001B[1;32m~\\.conda\\envs\\thesis-env\\lib\\site-packages\\torch\\serialization.py:416\u001B[0m, in \u001B[0;36m_open_file.__init__\u001B[1;34m(self, name, mode)\u001B[0m\n\u001B[0;32m    415\u001B[0m \u001B[38;5;28;01mdef\u001B[39;00m \u001B[38;5;21m__init__\u001B[39m(\u001B[38;5;28mself\u001B[39m, name, mode):\n\u001B[1;32m--> 416\u001B[0m     \u001B[38;5;28msuper\u001B[39m()\u001B[38;5;241m.\u001B[39m\u001B[38;5;21m__init__\u001B[39m(\u001B[38;5;28;43mopen\u001B[39;49m\u001B[43m(\u001B[49m\u001B[43mname\u001B[49m\u001B[43m,\u001B[49m\u001B[43m \u001B[49m\u001B[43mmode\u001B[49m\u001B[43m)\u001B[49m)\n",
      "\u001B[1;31mFileNotFoundError\u001B[0m: [Errno 2] No such file or directory: 'pretrained/MountainCar-v0_epsmax1.0_epsmin0.01_epsdec0.995_batchsize64/dqn_model'"
     ]
    }
   ],
   "source": [
    "# create test environment and set associated seeds\n",
    "env_test = gym.make(ENV_NAME_TEST)\n",
    "#set_seeds(env_test, TEST_SEED)\n",
    "\n",
    "# create the dqn agent with the stored weights\n",
    "dqn_agent_test = DQNAgent(device=device,\n",
    "                          state_size=env_test.observation_space.shape[0],\n",
    "                          action_size=env_test.action_space.n,\n",
    "                          discount=0.0,\n",
    "                          eps_max=0.0,\n",
    "                          eps_min=0.0,\n",
    "                          eps_decay=0.0,\n",
    "                          memory_capacity=0,\n",
    "                          train_mode=False)\n",
    "dqn_agent_test.load_model('{}/dqn_model'.format(RESULTS_BASEPATH_TEST))\n",
    "\n",
    "# get screen to display on based on whether rendering is required\n",
    "display_screen_test = get_display_screen(env_test, RENDER_TEST)"
   ],
   "metadata": {
    "collapsed": false,
    "ExecuteTime": {
     "end_time": "2023-11-29T14:18:02.451744500Z",
     "start_time": "2023-11-29T14:18:02.234698300Z"
    }
   }
  },
  {
   "cell_type": "code",
   "execution_count": null,
   "outputs": [],
   "source": [
    "# test the agent\n",
    "\n",
    "test_loop(env=env_test,\n",
    "          agent=dqn_agent_test,\n",
    "          display_screen=display_screen_test,\n",
    "          results_basepath=RESULTS_BASEPATH_TEST)"
   ],
   "metadata": {
    "collapsed": false
   }
  },
  {
   "cell_type": "code",
   "execution_count": null,
   "outputs": [],
   "source": [
    "# testing the rendering of the environment with a single episode as it is extremely slow\n",
    "\n",
    "display_screen_render = get_display_screen(env_test, True)\n",
    "NUM_TEST_EPS = 1\n",
    "\n",
    "test_loop(env=env_test,\n",
    "          agent=dqn_agent_test,\n",
    "          display_screen=display_screen_render,\n",
    "          results_basepath=RESULTS_BASEPATH_TEST)"
   ],
   "metadata": {
    "collapsed": false
   }
  }
 ],
 "metadata": {
  "kernelspec": {
   "display_name": "Python 3",
   "language": "python",
   "name": "python3"
  },
  "language_info": {
   "codemirror_mode": {
    "name": "ipython",
    "version": 2
   },
   "file_extension": ".py",
   "mimetype": "text/x-python",
   "name": "python",
   "nbconvert_exporter": "python",
   "pygments_lexer": "ipython2",
   "version": "2.7.6"
  }
 },
 "nbformat": 4,
 "nbformat_minor": 0
}
