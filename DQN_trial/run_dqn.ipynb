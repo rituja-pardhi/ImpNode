{
 "cells": [
  {
   "cell_type": "code",
   "execution_count": 1,
   "outputs": [],
   "source": [
    "import os\n",
    "import gym\n",
    "import numpy as np\n",
    "import pickle\n",
    "from livelossplot import PlotLosses\n",
    "from collections import deque\n",
    "\n",
    "from IPython import display\n",
    "import matplotlib.pyplot as plt\n",
    "%matplotlib inline\n",
    "\n",
    "import torch\n",
    "device = torch.device(\"cuda\" if torch.cuda.is_available() else \"cpu\")"
   ],
   "metadata": {
    "collapsed": false,
    "ExecuteTime": {
     "end_time": "2023-12-11T15:31:53.579214100Z",
     "start_time": "2023-12-11T15:31:50.665423900Z"
    }
   }
  },
  {
   "cell_type": "code",
   "execution_count": 2,
   "outputs": [],
   "source": [
    "%load_ext autoreload\n",
    "%autoreload 2"
   ],
   "metadata": {
    "collapsed": false,
    "ExecuteTime": {
     "end_time": "2023-12-11T15:31:53.717499300Z",
     "start_time": "2023-12-11T15:31:53.575213500Z"
    }
   }
  },
  {
   "cell_type": "code",
   "execution_count": 3,
   "outputs": [],
   "source": [
    "from envs.GraphEnv.impnode import ImpnodeEnv"
   ],
   "metadata": {
    "collapsed": false,
    "ExecuteTime": {
     "end_time": "2023-12-11T15:31:54.200297100Z",
     "start_time": "2023-12-11T15:31:53.717499300Z"
    }
   }
  },
  {
   "cell_type": "code",
   "execution_count": 4,
   "outputs": [],
   "source": [
    "import DQN_agent"
   ],
   "metadata": {
    "collapsed": false,
    "ExecuteTime": {
     "end_time": "2023-12-11T15:31:55.291475Z",
     "start_time": "2023-12-11T15:31:54.196290800Z"
    }
   }
  },
  {
   "cell_type": "code",
   "execution_count": 5,
   "outputs": [],
   "source": [
    "# create an \"image\" that will be used to render the interaction of the agent with the environmet\n",
    "# when render is set to False, return no \"image\"\n",
    "\n",
    "def get_display_screen(env, render):\n",
    "    env.reset()\n",
    "    if not render:\n",
    "        return None\n",
    "    return plt.imshow(env.render(mode='rgb_array'))"
   ],
   "metadata": {
    "collapsed": false,
    "ExecuteTime": {
     "end_time": "2023-12-11T15:31:55.494566900Z",
     "start_time": "2023-12-11T15:31:55.291475Z"
    }
   }
  },
  {
   "cell_type": "code",
   "execution_count": 6,
   "outputs": [],
   "source": [
    "# update the \"image\" to display the current environment-agent interaction\n",
    "\n",
    "def render_env(env, display_screen):\n",
    "    display_screen.set_data(env.render(mode='rgb_array')) # update the data\n",
    "    display.display(plt.gcf()) # feed current figure to display\n",
    "    display.clear_output(wait=True)"
   ],
   "metadata": {
    "collapsed": false,
    "ExecuteTime": {
     "end_time": "2023-12-11T15:31:55.702597500Z",
     "start_time": "2023-12-11T15:31:55.494566900Z"
    }
   }
  },
  {
   "cell_type": "code",
   "execution_count": 7,
   "outputs": [],
   "source": [
    "# sets the provided seed value for all components with random value generation\n",
    "\n",
    "def set_seeds(env, seed):\n",
    "    os.environ['PYTHONHASHSEED']=str(seed)\n",
    "    np.random.seed(seed)\n",
    "    torch.manual_seed(seed)\n",
    "\n",
    "    #env.seed(seed)\n",
    "    env.action_space.np_random.seed(seed)"
   ],
   "metadata": {
    "collapsed": false,
    "ExecuteTime": {
     "end_time": "2023-12-11T15:31:55.906652200Z",
     "start_time": "2023-12-11T15:31:55.702597500Z"
    }
   }
  },
  {
   "cell_type": "code",
   "execution_count": 8,
   "outputs": [],
   "source": [
    "# to initialize the replay buffer with some random interactions\n",
    "\n",
    "def fill_memory(env, agent):\n",
    "    for _ in range(NUM_MEM_FILL_EPS):\n",
    "        done = False\n",
    "        state, info = env.reset()\n",
    "\n",
    "        while not done:\n",
    "            print(env.update_mask())\n",
    "            action = env.action_space.sample(mask=env.update_mask()) # samples random action\n",
    "            next_state, reward, done, truncated, info = env.step(action)\n",
    "            agent.memory.store(state=state, action=action, next_state=next_state, reward=reward, done=done)"
   ],
   "metadata": {
    "collapsed": false,
    "ExecuteTime": {
     "end_time": "2023-12-11T15:31:56.129694500Z",
     "start_time": "2023-12-11T15:31:55.909658900Z"
    }
   }
  },
  {
   "cell_type": "code",
   "execution_count": 9,
   "outputs": [],
   "source": [
    "# trains the agent and plots the associated moving average rewards and epsilon values in real-time\n",
    "\n",
    "def train_loop(env, agent, display_screen, results_basepath):\n",
    "\n",
    "    liveloss = PlotLosses()\n",
    "    logs = {}\n",
    "\n",
    "    last_100_rewards = deque([], maxlen=100)\n",
    "\n",
    "    reward_history = []\n",
    "    epsilon_history = []\n",
    "\n",
    "    step_cnt = 0\n",
    "    best_score = -np.inf\n",
    "\n",
    "    for ep_cnt in range(NUM_TRAIN_EPS):\n",
    "\n",
    "        logs['train epsilon'] = agent.epsilon # to plot current epsilon value\n",
    "\n",
    "        done = False\n",
    "        state, info = env.reset()\n",
    "        print(state.nodes)\n",
    "\n",
    "        ep_score = 0\n",
    "\n",
    "        while not done:\n",
    "            # if display is available, then render the interaction\n",
    "            if display_screen is not None:\n",
    "                render_env(env=env, display_screen=display_screen)\n",
    "\n",
    "            action = agent.select_action(state)\n",
    "            print(action)\n",
    "            next_state, reward, done, truncated, info = env.step(action)\n",
    "            print(next_state.nodes)\n",
    "\n",
    "            agent.memory.store(state=state, action=action, next_state=next_state, reward=reward, done=done)\n",
    "            agent.learn(BATCHSIZE)\n",
    "\n",
    "            if step_cnt % UPDATE_FREQUENCY == 0:\n",
    "                agent.update_target_net()\n",
    "\n",
    "            state = next_state\n",
    "            ep_score += reward\n",
    "            step_cnt += 1\n",
    "\n",
    "        agent.update_epsilon()\n",
    "\n",
    "        last_100_rewards.append(ep_score)\n",
    "        current_avg_score = np.mean(last_100_rewards) # get average of last 100 scores\n",
    "        logs['train avg score'] = current_avg_score\n",
    "\n",
    "        # reward and epsilon history tracked only when running locally, otherwise runs into memory issues with binder\n",
    "\n",
    "        reward_history.append(ep_score)\n",
    "        epsilon_history.append(logs['train epsilon'])\n",
    "\n",
    "        if current_avg_score >= best_score:\n",
    "            agent.save_model('{}/dqn_model'.format(results_basepath))\n",
    "            best_score = current_avg_score\n",
    "\n",
    "        # update the plots in real-time\n",
    "        liveloss.update(logs)\n",
    "        liveloss.send()\n",
    "\n",
    "    # store the reward and epsilon history that was tracked while running locally\n",
    "\n",
    "    with open('{}/train_reward_history.pkl'.format(results_basepath), 'wb') as f:\n",
    "        pickle.dump(reward_history, f)\n",
    "\n",
    "    with open('{}/train_epsilon_history.pkl'.format(results_basepath), 'wb') as f:\n",
    "        pickle.dump(epsilon_history, f)"
   ],
   "metadata": {
    "collapsed": false,
    "ExecuteTime": {
     "end_time": "2023-12-11T15:31:56.350007800Z",
     "start_time": "2023-12-11T15:31:56.128693400Z"
    }
   }
  },
  {
   "cell_type": "code",
   "execution_count": 10,
   "outputs": [],
   "source": [
    "## variables for training the agent\n",
    "\n",
    "ENV_NAME_TRAIN = 'ImpnodeEnv'#'MountainCar-v0' ## tested on: CartPole-v0, MountainCar-v0, LunarLander-v2\n",
    "RENDER_TRAIN = False ## whether to render the interaction while training\n",
    "\n",
    "NUM_TRAIN_EPS = 1000 #1000 ## number training episodes to run\n",
    "NUM_MEM_FILL_EPS = 10 #10 ## number of episodes to run to initialize the memory\n",
    "\n",
    "DISCOUNT = 0.99 ## gamma used for computing return\n",
    "BATCHSIZE = 64 ## number of transitions to sample from replay buffer for each learn step\n",
    "MEMORY_CAPACITY = 64 ## size of the memory buffer\n",
    "UPDATE_FREQUENCY = 10 ## number of interactions after which the target buffer is updated\n",
    "\n",
    "EPS_MAX = 1.0 ## initial epsilon value\n",
    "EPS_MIN = 0.1 ## final epsilon value\n",
    "EPS_DECAY = 0.001 ## amount by which epsilon is decayed at each episode\n",
    "\n",
    "LR = 0.01 ## learning rate for the network\n",
    "\n",
    "TRAIN_SEED = 12321"
   ],
   "metadata": {
    "collapsed": false,
    "ExecuteTime": {
     "end_time": "2023-12-11T15:31:56.555241900Z",
     "start_time": "2023-12-11T15:31:56.352Z"
    }
   }
  },
  {
   "cell_type": "code",
   "execution_count": 11,
   "outputs": [],
   "source": [
    "# create folder for storing the model and other files\n",
    "results_basepath_train = \"results/{}_epsmax{}_epsmin{}_epsdec{}_batchsize{}_treps{}_memeps{}\".format(\n",
    "                                                                                                ENV_NAME_TRAIN,\n",
    "                                                                                                EPS_MAX,\n",
    "                                                                                                EPS_MIN,\n",
    "                                                                                                EPS_DECAY,\n",
    "                                                                                                BATCHSIZE,\n",
    "                                                                                                NUM_TRAIN_EPS,\n",
    "                                                                                                NUM_MEM_FILL_EPS)\n",
    "os.makedirs(results_basepath_train, exist_ok=True)\n",
    "\n",
    "# create environment and set associated seeds\n",
    "#env_train = gym.make(ENV_NAME_TRAIN)\n",
    "#set_seeds(env_train, TRAIN_SEED)\n",
    "\n",
    "seed = 5548\n",
    "env_train = ImpnodeEnv(8, 2, 3, seed)\n",
    "\n"
   ],
   "metadata": {
    "collapsed": false,
    "ExecuteTime": {
     "end_time": "2023-12-11T15:31:56.763173800Z",
     "start_time": "2023-12-11T15:31:56.557243300Z"
    }
   }
  },
  {
   "cell_type": "code",
   "execution_count": 12,
   "outputs": [],
   "source": [
    "# create the dqn_agent\n",
    "dqn_agent_train = DQN_agent.DQNAgent(device,\n",
    "                                     #env_train.observation_space.shape[0],\n",
    "                                     5,\n",
    "                                     env_train.action_space.n,\n",
    "                                     discount=DISCOUNT,\n",
    "                                     eps_max=EPS_MAX,\n",
    "                                     eps_min=EPS_MIN,\n",
    "                                     eps_decay=EPS_DECAY,\n",
    "                                     memory_capacity=MEMORY_CAPACITY,\n",
    "                                     lr=LR,\n",
    "                                     train_mode=True)\n",
    "\n",
    "# get screen to display on based on whether rendering is required\n",
    "display_screen_train = get_display_screen(env_train, RENDER_TRAIN)"
   ],
   "metadata": {
    "collapsed": false,
    "ExecuteTime": {
     "end_time": "2023-12-11T15:31:56.970227600Z",
     "start_time": "2023-12-11T15:31:56.765167500Z"
    }
   }
  },
  {
   "cell_type": "code",
   "execution_count": 13,
   "outputs": [
    {
     "data": {
      "text/plain": "<Figure size 1200x800 with 2 Axes>",
      "image/png": "[encoded data removed]"
     },
     "metadata": {},
     "output_type": "display_data"
    },
    {
     "name": "stdout",
     "output_type": "stream",
     "text": [
      "train avg score\n",
      "\ttrain avg score  \t (min:    0.583, max:    0.643, cur:    0.594)\n",
      "train epsilon\n",
      "\ttrain epsilon    \t (min:    0.100, max:    1.000, cur:    0.100)\n",
      "[0, 1, 2, 3, 4, 5, 6, 7]\n",
      "torch.Size([8, 1])\n",
      "6\n",
      "[0, 1, 2, 3, 4, 5, 6, 7]\n",
      "[11, 0, 27, 54, 18, 15, 36, 50, 58, 19, 63, 45, 12, 52, 7, 6, 49, 30, 17, 22, 23, 13, 14, 33, 3, 39, 32, 9, 47, 61, 25, 62, 2, 8, 46, 42, 21, 40, 56, 34, 60, 16, 37, 28, 43, 35, 10, 24, 44, 5, 1, 57, 31, 29, 4, 26, 41, 59, 38, 20, 55, 51, 53, 48]\n"
     ]
    },
    {
     "ename": "AttributeError",
     "evalue": "'list' object has no attribute 'nodes'",
     "output_type": "error",
     "traceback": [
      "\u001B[1;31m---------------------------------------------------------------------------\u001B[0m",
      "\u001B[1;31mAttributeError\u001B[0m                            Traceback (most recent call last)",
      "Cell \u001B[1;32mIn[13], line 5\u001B[0m\n\u001B[0;32m      2\u001B[0m fill_memory(env_train, dqn_agent_train)\n\u001B[0;32m      4\u001B[0m \u001B[38;5;66;03m# train the agent\u001B[39;00m\n\u001B[1;32m----> 5\u001B[0m \u001B[43mtrain_loop\u001B[49m\u001B[43m(\u001B[49m\u001B[43menv_train\u001B[49m\u001B[43m,\u001B[49m\u001B[43m \u001B[49m\u001B[43mdqn_agent_train\u001B[49m\u001B[43m,\u001B[49m\u001B[43m \u001B[49m\u001B[43mdisplay_screen_train\u001B[49m\u001B[43m,\u001B[49m\u001B[43m \u001B[49m\u001B[43mresults_basepath_train\u001B[49m\u001B[43m)\u001B[49m\n",
      "Cell \u001B[1;32mIn[9], line 37\u001B[0m, in \u001B[0;36mtrain_loop\u001B[1;34m(env, agent, display_screen, results_basepath)\u001B[0m\n\u001B[0;32m     34\u001B[0m \u001B[38;5;28mprint\u001B[39m(next_state\u001B[38;5;241m.\u001B[39mnodes)\n\u001B[0;32m     36\u001B[0m agent\u001B[38;5;241m.\u001B[39mmemory\u001B[38;5;241m.\u001B[39mstore(state\u001B[38;5;241m=\u001B[39mstate, action\u001B[38;5;241m=\u001B[39maction, next_state\u001B[38;5;241m=\u001B[39mnext_state, reward\u001B[38;5;241m=\u001B[39mreward, done\u001B[38;5;241m=\u001B[39mdone)\n\u001B[1;32m---> 37\u001B[0m \u001B[43magent\u001B[49m\u001B[38;5;241;43m.\u001B[39;49m\u001B[43mlearn\u001B[49m\u001B[43m(\u001B[49m\u001B[43mBATCHSIZE\u001B[49m\u001B[43m)\u001B[49m\n\u001B[0;32m     39\u001B[0m \u001B[38;5;28;01mif\u001B[39;00m step_cnt \u001B[38;5;241m%\u001B[39m UPDATE_FREQUENCY \u001B[38;5;241m==\u001B[39m \u001B[38;5;241m0\u001B[39m:\n\u001B[0;32m     40\u001B[0m     agent\u001B[38;5;241m.\u001B[39mupdate_target_net()\n",
      "File \u001B[1;32m~\\Thesis\\ma-rituja-pardhi\\DQN_trial\\DQN_agent.py:136\u001B[0m, in \u001B[0;36mDQNAgent.learn\u001B[1;34m(self, batchsize)\u001B[0m\n\u001B[0;32m    131\u001B[0m states, actions, next_states, rewards, dones \u001B[38;5;241m=\u001B[39m \u001B[38;5;28mself\u001B[39m\u001B[38;5;241m.\u001B[39mmemory\u001B[38;5;241m.\u001B[39msample(batchsize, \u001B[38;5;28mself\u001B[39m\u001B[38;5;241m.\u001B[39mdevice)\n\u001B[0;32m    133\u001B[0m \u001B[38;5;66;03m# get q values of the actions that were taken, i.e calculate qpred;\u001B[39;00m\n\u001B[0;32m    134\u001B[0m \u001B[38;5;66;03m# actions vector has to be explicitly reshaped to nx1-vector\u001B[39;00m\n\u001B[1;32m--> 136\u001B[0m q_pred \u001B[38;5;241m=\u001B[39m \u001B[38;5;28;43mself\u001B[39;49m\u001B[38;5;241;43m.\u001B[39;49m\u001B[43mpolicy_net\u001B[49m\u001B[38;5;241;43m.\u001B[39;49m\u001B[43mforward\u001B[49m\u001B[43m(\u001B[49m\u001B[43mstates\u001B[49m\u001B[43m)\u001B[49m\n\u001B[0;32m    138\u001B[0m q_pred \u001B[38;5;241m=\u001B[39m torch\u001B[38;5;241m.\u001B[39mgather(q_pred, \u001B[38;5;241m1\u001B[39m, actions\u001B[38;5;241m.\u001B[39mview(\u001B[38;5;241m-\u001B[39m\u001B[38;5;241m1\u001B[39m, \u001B[38;5;241m1\u001B[39m)\u001B[38;5;241m.\u001B[39mlong())\n\u001B[0;32m    140\u001B[0m \u001B[38;5;66;03m# calculate target q-values, such that yj = rj + q(s', a'), but if current state is a terminal state, then yj = rj\u001B[39;00m\n",
      "File \u001B[1;32m~\\Thesis\\ma-rituja-pardhi\\DQN_trial\\model.py:45\u001B[0m, in \u001B[0;36mDQNNet.forward\u001B[1;34m(self, graph)\u001B[0m\n\u001B[0;32m     44\u001B[0m \u001B[38;5;28;01mdef\u001B[39;00m \u001B[38;5;21mforward\u001B[39m(\u001B[38;5;28mself\u001B[39m, graph):\n\u001B[1;32m---> 45\u001B[0m     x, edge_index \u001B[38;5;241m=\u001B[39m \u001B[38;5;28;43mself\u001B[39;49m\u001B[38;5;241;43m.\u001B[39;49m\u001B[43mprocess_graph\u001B[49m\u001B[43m(\u001B[49m\u001B[43mgraph\u001B[49m\u001B[43m)\u001B[49m\n\u001B[0;32m     47\u001B[0m     x \u001B[38;5;241m=\u001B[39m F\u001B[38;5;241m.\u001B[39mrelu(\u001B[38;5;28mself\u001B[39m\u001B[38;5;241m.\u001B[39mlinear1(x))\n\u001B[0;32m     48\u001B[0m     x \u001B[38;5;241m=\u001B[39m x \u001B[38;5;241m/\u001B[39m x\u001B[38;5;241m.\u001B[39mnorm(dim\u001B[38;5;241m=\u001B[39m\u001B[38;5;241m-\u001B[39m\u001B[38;5;241m1\u001B[39m, keepdim\u001B[38;5;241m=\u001B[39m\u001B[38;5;28;01mTrue\u001B[39;00m)\n",
      "File \u001B[1;32m~\\Thesis\\ma-rituja-pardhi\\DQN_trial\\model.py:98\u001B[0m, in \u001B[0;36mDQNNet.process_graph\u001B[1;34m(self, graph)\u001B[0m\n\u001B[0;32m     97\u001B[0m \u001B[38;5;28;01mdef\u001B[39;00m \u001B[38;5;21mprocess_graph\u001B[39m(\u001B[38;5;28mself\u001B[39m, graph):\n\u001B[1;32m---> 98\u001B[0m     x \u001B[38;5;241m=\u001B[39m torch\u001B[38;5;241m.\u001B[39mTensor(\u001B[38;5;28mlist\u001B[39m(\u001B[43mnx\u001B[49m\u001B[38;5;241;43m.\u001B[39;49m\u001B[43mget_node_attributes\u001B[49m\u001B[43m(\u001B[49m\u001B[43mgraph\u001B[49m\u001B[43m,\u001B[49m\u001B[43m \u001B[49m\u001B[38;5;124;43m\"\u001B[39;49m\u001B[38;5;124;43mfeatures\u001B[39;49m\u001B[38;5;124;43m\"\u001B[39;49m\u001B[43m)\u001B[49m\u001B[38;5;241m.\u001B[39mvalues()))\n\u001B[0;32m     99\u001B[0m     edge_index \u001B[38;5;241m=\u001B[39m torch\u001B[38;5;241m.\u001B[39mTensor([\u001B[38;5;28mlist\u001B[39m(e) \u001B[38;5;28;01mfor\u001B[39;00m e \u001B[38;5;129;01min\u001B[39;00m graph\u001B[38;5;241m.\u001B[39medges])\u001B[38;5;241m.\u001B[39mlong()\u001B[38;5;241m.\u001B[39mT\n\u001B[0;32m    100\u001B[0m     \u001B[38;5;28;01mreturn\u001B[39;00m x, edge_index\n",
      "File \u001B[1;32m~\\.conda\\envs\\thesis-env\\lib\\site-packages\\networkx\\classes\\function.py:677\u001B[0m, in \u001B[0;36mget_node_attributes\u001B[1;34m(G, name)\u001B[0m\n\u001B[0;32m    655\u001B[0m \u001B[38;5;28;01mdef\u001B[39;00m \u001B[38;5;21mget_node_attributes\u001B[39m(G, name):\n\u001B[0;32m    656\u001B[0m \u001B[38;5;250m    \u001B[39m\u001B[38;5;124;03m\"\"\"Get node attributes from graph\u001B[39;00m\n\u001B[0;32m    657\u001B[0m \n\u001B[0;32m    658\u001B[0m \u001B[38;5;124;03m    Parameters\u001B[39;00m\n\u001B[1;32m   (...)\u001B[0m\n\u001B[0;32m    675\u001B[0m \u001B[38;5;124;03m    'red'\u001B[39;00m\n\u001B[0;32m    676\u001B[0m \u001B[38;5;124;03m    \"\"\"\u001B[39;00m\n\u001B[1;32m--> 677\u001B[0m     \u001B[38;5;28;01mreturn\u001B[39;00m {n: d[name] \u001B[38;5;28;01mfor\u001B[39;00m n, d \u001B[38;5;129;01min\u001B[39;00m \u001B[43mG\u001B[49m\u001B[38;5;241;43m.\u001B[39;49m\u001B[43mnodes\u001B[49m\u001B[38;5;241m.\u001B[39mitems() \u001B[38;5;28;01mif\u001B[39;00m name \u001B[38;5;129;01min\u001B[39;00m d}\n",
      "\u001B[1;31mAttributeError\u001B[0m: 'list' object has no attribute 'nodes'"
     ]
    }
   ],
   "source": [
    "# initialise the memory\n",
    "fill_memory(env_train, dqn_agent_train)\n",
    "\n",
    "# train the agent\n",
    "train_loop(env_train, dqn_agent_train, display_screen_train, results_basepath_train)"
   ],
   "metadata": {
    "collapsed": false
   }
  },
  {
   "cell_type": "code",
   "execution_count": null,
   "outputs": [],
   "source": [
    "# tests the agent through interactions with the environment and plots the associated rewards in real-time\n",
    "\n",
    "def test_loop(env, agent, display_screen, results_basepath):\n",
    "    liveloss = PlotLosses()\n",
    "    logs = {}\n",
    "\n",
    "    reward_history = []\n",
    "\n",
    "    for ep in range(NUM_TEST_EPS):\n",
    "        ep_score = 0\n",
    "        done = False\n",
    "        state, info = env.reset()\n",
    "        while not done:\n",
    "            # if display is available, render the interaction\n",
    "            if display_screen is not None:\n",
    "                render_env(env=env, display_screen=display_screen)\n",
    "\n",
    "            action = agent.select_action(state)\n",
    "            next_state, reward, done, truncated, _ = env.step(action)\n",
    "            ep_score += reward\n",
    "            state = next_state\n",
    "\n",
    "        # track reward history only while running locally\n",
    "\n",
    "        reward_history.append(ep_score)\n",
    "\n",
    "        # update the plot in real-time\n",
    "        logs['test score'] = ep_score\n",
    "        liveloss.update(logs)\n",
    "        liveloss.send()\n",
    "\n",
    "    # store the reward that was tracked while running locally\n",
    "\n",
    "    with open('{}/test_reward_history_{}.pkl'.format(results_basepath, TEST_SEED), 'wb') as f:\n",
    "        pickle.dump(reward_history, f)"
   ],
   "metadata": {
    "collapsed": false
   }
  },
  {
   "cell_type": "code",
   "execution_count": null,
   "outputs": [],
   "source": [
    "## variables for testing the agent\n",
    "\n",
    "# location where the model is stored and the name of the associated environment\n",
    "#RESULTS_BASEPATH_TEST = 'results/CartPole-v0_epsmax1.0_epsmin0.01_epsdec0.995_batchsize64_treps10_memeps5'\n",
    "#ENV_NAME_TEST = 'CartPole-v0'\n",
    "\n",
    "#RESULTS_BASEPATH_TEST = 'pretrained/LunarLander-v2_epsmax1.0_epsmin0.01_epsdec0.995_batchsize64'\n",
    "#ENV_NAME_TEST = 'LunarLander-v2'\n",
    "\n",
    "RESULTS_BASEPATH_TEST = 'results/ImpnodeEnv_epsmax1.0_epsmin0.8_epsdec0.5_batchsize64_treps10_memeps5'\n",
    "ENV_NAME_TEST = 'ImpnodeEnv'\n",
    "\n",
    "#RESULTS_BASEPATH_TEST = 'pretrained/CartPole-v0_epsmax1.0_epsmin0.01_epsdec0.995_batchsize64'\n",
    "#ENV_NAME_TEST = 'CartPole-v0'\n",
    "\n",
    "RENDER_TEST = False ## whether to render the interaction while testing\n",
    "\n",
    "NUM_TEST_EPS = 10 ## number of test episodes to run\n",
    "\n",
    "TEST_SEED = 456\n",
    "#TEST_SEED = [456, 12, 985234, 123, 3202]"
   ],
   "metadata": {
    "collapsed": false
   }
  },
  {
   "cell_type": "code",
   "execution_count": null,
   "outputs": [],
   "source": [
    "# create test environment and set associated seeds\n",
    "#env_test = gym.make(ENV_NAME_TEST)\n",
    "#set_seeds(env_test, TEST_SEED)\n",
    "\n",
    "seed = 5542\n",
    "env_test = ImpnodeEnv(8, 2, 3, seed)\n",
    "\n",
    "# create the dqn agent with the stored weights\n",
    "dqn_agent_test = DQN_agent.DQNAgent(device=device,\n",
    "                          state_size=5,#env_test.observation_space.shape[0],\n",
    "                          action_size=env_test.action_space.n,\n",
    "                          discount=0.0,\n",
    "                          eps_max=0.0,\n",
    "                          eps_min=0.0,\n",
    "                          eps_decay=0.0,\n",
    "                          memory_capacity=0,\n",
    "                          train_mode=False)\n",
    "dqn_agent_test.load_model('{}/dqn_model'.format(RESULTS_BASEPATH_TEST))\n",
    "\n",
    "# get screen to display on based on whether rendering is required\n",
    "display_screen_test = get_display_screen(env_test, RENDER_TEST)"
   ],
   "metadata": {
    "collapsed": false
   }
  },
  {
   "cell_type": "code",
   "execution_count": null,
   "outputs": [],
   "source": [
    "# test the agent\n",
    "\n",
    "test_loop(env=env_test,\n",
    "          agent=dqn_agent_test,\n",
    "          display_screen=display_screen_test,\n",
    "          results_basepath=RESULTS_BASEPATH_TEST)"
   ],
   "metadata": {
    "collapsed": false
   }
  },
  {
   "cell_type": "code",
   "execution_count": null,
   "outputs": [],
   "source": [
    "# testing the rendering of the environment with a single episode as it is extremely slow\n",
    "\n",
    "display_screen_render = get_display_screen(env_test, False)\n",
    "NUM_TEST_EPS = 1\n",
    "\n",
    "test_loop(env=env_test,\n",
    "          agent=dqn_agent_test,\n",
    "          display_screen=display_screen_render,\n",
    "          results_basepath=RESULTS_BASEPATH_TEST)"
   ],
   "metadata": {
    "collapsed": false
   }
  },
  {
   "cell_type": "code",
   "execution_count": null,
   "outputs": [],
   "source": [],
   "metadata": {
    "collapsed": false
   }
  }
 ],
 "metadata": {
  "kernelspec": {
   "display_name": "Python 3",
   "language": "python",
   "name": "python3"
  },
  "language_info": {
   "codemirror_mode": {
    "name": "ipython",
    "version": 2
   },
   "file_extension": ".py",
   "mimetype": "text/x-python",
   "name": "python",
   "nbconvert_exporter": "python",
   "pygments_lexer": "ipython2",
   "version": "2.7.6"
  }
 },
 "nbformat": 4,
 "nbformat_minor": 0
}
