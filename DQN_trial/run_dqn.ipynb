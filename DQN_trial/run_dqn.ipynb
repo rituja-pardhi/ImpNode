{
 "cells": [
  {
   "cell_type": "code",
   "execution_count": 1,
   "outputs": [
    {
     "name": "stdout",
     "output_type": "stream",
     "text": [
      "cpu\n"
     ]
    }
   ],
   "source": [
    "import os\n",
    "import gym\n",
    "import numpy as np\n",
    "import pickle\n",
    "from livelossplot import PlotLosses\n",
    "from collections import deque\n",
    "\n",
    "from IPython import display\n",
    "import matplotlib.pyplot as plt\n",
    "%matplotlib inline\n",
    "from pathlib import Path\n",
    "import random\n",
    "import torch\n",
    "device = torch.device(\"cuda\" if torch.cuda.is_available() else \"cpu\")\n",
    "print(device)"
   ],
   "metadata": {
    "collapsed": false,
    "ExecuteTime": {
     "end_time": "2024-01-23T07:15:52.863818100Z",
     "start_time": "2024-01-23T07:15:44.449024800Z"
    }
   }
  },
  {
   "cell_type": "code",
   "execution_count": 2,
   "outputs": [],
   "source": [
    "%load_ext autoreload\n",
    "%autoreload 2"
   ],
   "metadata": {
    "collapsed": false,
    "ExecuteTime": {
     "end_time": "2024-01-23T07:15:53.261743200Z",
     "start_time": "2024-01-23T07:15:52.864818400Z"
    }
   }
  },
  {
   "cell_type": "code",
   "execution_count": 3,
   "outputs": [],
   "source": [
    "from envs.GraphEnv.impnode import ImpnodeEnv\n",
    "import DQN_agent"
   ],
   "metadata": {
    "collapsed": false,
    "ExecuteTime": {
     "end_time": "2024-01-23T07:15:57.572923400Z",
     "start_time": "2024-01-23T07:15:53.262743300Z"
    }
   }
  },
  {
   "cell_type": "code",
   "execution_count": 4,
   "outputs": [],
   "source": [
    "from pytorchtools import EarlyStopping"
   ],
   "metadata": {
    "collapsed": false,
    "ExecuteTime": {
     "end_time": "2024-01-23T07:15:58.064829800Z",
     "start_time": "2024-01-23T07:15:57.575922400Z"
    }
   }
  },
  {
   "cell_type": "code",
   "execution_count": 5,
   "outputs": [],
   "source": [
    "# to initialize the replay buffer with some random interactions\n",
    "\n",
    "def fill_memory(env, agent):\n",
    "    for _ in range(NUM_MEM_FILL_EPS):\n",
    "        N_STEP = 5\n",
    "        state_history, action_history, reward_history = [], [], []\n",
    "        done = False\n",
    "        state, info = env.reset()\n",
    "\n",
    "        while not done:\n",
    "            action = env.action_space.sample(mask=info['node_action_mask']) # samples random action\n",
    "            next_state, reward, done, truncated, info = env.step(action)\n",
    "            state_history.append(state)\n",
    "            action_history.append(action)\n",
    "            reward_history.append(reward)\n",
    "\n",
    "            if len(state_history) >= N_STEP:\n",
    "                n_step_states = state_history[-N_STEP]\n",
    "                n_step_actions = action_history[-N_STEP]\n",
    "                n_step_rewards = reward_history[-N_STEP:]\n",
    "\n",
    "                # Calculate n-step return\n",
    "                n_step_return = sum(reward * (agent.discount ** i) for i, reward in enumerate(n_step_rewards))\n",
    "                agent.memory.store(\n",
    "                    state=n_step_states,\n",
    "                    action=n_step_actions,\n",
    "                    next_state=next_state,\n",
    "                    reward=n_step_return,\n",
    "                    done=done\n",
    "                )\n",
    "            state = next_state\n",
    "            #agent.memory.store(state=state, action=action, next_state=next_state, reward=reward, done=done)"
   ],
   "metadata": {
    "collapsed": false,
    "ExecuteTime": {
     "end_time": "2024-01-23T07:15:58.618723700Z",
     "start_time": "2024-01-23T07:15:58.067830200Z"
    }
   }
  },
  {
   "cell_type": "code",
   "execution_count": 6,
   "outputs": [],
   "source": [
    "# trains the agent and plots the associated moving average rewards and epsilon values in real-time\n",
    "\n",
    "def train_loop(env, agent, results_basepath):\n",
    "\n",
    "    early_stopping = EarlyStopping(patience=20, verbose=True)\n",
    "\n",
    "    liveloss = PlotLosses()\n",
    "    logs = {}\n",
    "\n",
    "    last_100_rewards = deque([], maxlen=50)\n",
    "\n",
    "    reward_history = []\n",
    "    epsilon_history = []\n",
    "\n",
    "    step_cnt = 0\n",
    "    best_score = -np.inf\n",
    "\n",
    "    N_STEP = 5\n",
    "\n",
    "    for ep_cnt in range(NUM_TRAIN_EPS):\n",
    "\n",
    "        #logs['train epsilon'] = agent.epsilon # to plot current epsilon value\n",
    "        state_history, action_history, reward_history = [], [], []\n",
    "        done = False\n",
    "        state, info = env.reset()\n",
    "        ep_score = 0\n",
    "        while not done:\n",
    "            mask = info['node_action_mask']\n",
    "            action = agent.select_action(state, mask)\n",
    "\n",
    "            next_state, reward, done, truncated, info = env.step(action)\n",
    "\n",
    "            state_history.append(state)\n",
    "            action_history.append(action)\n",
    "            reward_history.append(reward)\n",
    "\n",
    "            if len(state_history) >= N_STEP:\n",
    "                n_step_states = state_history[-N_STEP]\n",
    "                n_step_actions = action_history[-N_STEP]\n",
    "                n_step_rewards = reward_history[-N_STEP:]\n",
    "\n",
    "                # Calculate n-step return\n",
    "                n_step_return = sum(reward * (agent.discount ** i) for i, reward in enumerate(n_step_rewards))\n",
    "                agent.memory.store(\n",
    "                    state=n_step_states,\n",
    "                    action=n_step_actions,\n",
    "                    next_state=next_state,\n",
    "                    reward=n_step_return,\n",
    "                    done=done\n",
    "                )\n",
    "                agent.learn(BATCHSIZE)\n",
    "\n",
    "                if step_cnt % UPDATE_FREQUENCY == 0:\n",
    "                    agent.update_target_net()\n",
    "\n",
    "                step_cnt += 1\n",
    "\n",
    "            state = next_state\n",
    "            ep_score += reward\n",
    "            ##########\n",
    "            #agent.memory.store(state=state, action=action, next_state=next_state, reward=reward, done=done)\n",
    "            #agent.learn(BATCHSIZE)\n",
    "\n",
    "            # if step_cnt % UPDATE_FREQUENCY == 0:\n",
    "            #     agent.update_target_net()\n",
    "\n",
    "            # state = next_state\n",
    "            # ep_score += reward\n",
    "            # step_cnt += 1\n",
    "\n",
    "        agent.update_epsilon()\n",
    "\n",
    "        last_100_rewards.append(ep_score)\n",
    "        current_avg_score = np.mean(last_100_rewards) # get average of last 100 scores\n",
    "        logs['train avg score'] = current_avg_score\n",
    "\n",
    "        reward_history.append(ep_score)\n",
    "        epsilon_history.append(agent.epsilon)\n",
    "\n",
    "        if ep_cnt % 300 == 0:\n",
    "            agent.data = True\n",
    "            val_score_history = []\n",
    "            for ep in range(100):\n",
    "                ep_score = 0\n",
    "                done = False\n",
    "                state, info = env.reset(ep)\n",
    "                while not done:\n",
    "                    mask = info['node_action_mask']\n",
    "                    action = agent.select_action(state, mask)\n",
    "                    next_state, reward, done, truncated, _ = env.step(action)\n",
    "                    ep_score += reward\n",
    "                    state = next_state\n",
    "\n",
    "                # track reward history only while running locally\n",
    "\n",
    "                val_score_history.append(ep_score)\n",
    "                agent.data = False\n",
    "            val_score = np.average(val_score_history)\n",
    "\n",
    "            early_stopping(val_score, agent)\n",
    "            logs['val avg score'] = val_score\n",
    "            if early_stopping.early_stop:\n",
    "                print(\"Early stopping\")\n",
    "                break\n",
    "\n",
    "            if val_score >= best_score:\n",
    "                #agent.save_model('{}/dqn_model'.format(results_basepath))\n",
    "                agent.save_model('{}/model.pt'.format(results_basepath))\n",
    "                best_score = val_score\n",
    "\n",
    "        # update the plots in real-time\n",
    "        liveloss.update(logs)\n",
    "        liveloss.send()\n",
    "\n",
    "    # store the reward and epsilon history that was tracked while running locally\n",
    "\n",
    "    with open('{}/train_reward_history.pkl'.format(results_basepath), 'wb') as f:\n",
    "        pickle.dump(reward_history, f)\n",
    "\n",
    "    with open('{}/train_epsilon_history.pkl'.format(results_basepath), 'wb') as f:\n",
    "        pickle.dump(epsilon_history, f)"
   ],
   "metadata": {
    "collapsed": false,
    "ExecuteTime": {
     "end_time": "2024-01-23T07:15:59.990462600Z",
     "start_time": "2024-01-23T07:15:58.636721800Z"
    }
   }
  },
  {
   "cell_type": "code",
   "execution_count": 7,
   "outputs": [],
   "source": [
    "# variables for training the agent\n",
    "\n",
    "NUM_TRAIN_EPS = 10000 #1000 number training episodes to run\n",
    "NUM_MEM_FILL_EPS = 1000 #10 number of episodes to run to initialize the memory\n",
    "\n",
    "DISCOUNT = 0.99 # gamma used for computing return\n",
    "\n",
    "BATCHSIZE = 64 # number of transitions to sample from replay buffer for each learn step\n",
    "MEMORY_CAPACITY = 5000  # size of the memory buffer\n",
    "UPDATE_FREQUENCY = 100 # number of interactions after which the target buffer is updated\n",
    "\n",
    "EPS_MAX = 1.0 # initial epsilon value\n",
    "EPS_MIN = 0.05 # final epsilon value\n",
    "EPS_STEP = 1000 # amount by which epsilon is decayed at each episode\n",
    "\n",
    "LR = 0.0001 # learning rate for the network"
   ],
   "metadata": {
    "collapsed": false,
    "ExecuteTime": {
     "end_time": "2024-01-23T07:16:00.494366Z",
     "start_time": "2024-01-23T07:15:59.991462700Z"
    }
   }
  },
  {
   "cell_type": "code",
   "execution_count": 8,
   "outputs": [],
   "source": [
    "# create folder for storing the model and other files\n",
    "# graph_size, layer_iterations, embedding_dim, NUM_TRAIN_EPS,NUM_MEM_FILL_EPS,DISCOUNT,BATCHSIZE,MEMORY_CAPACITY, UPDATE_FREQUENCY,EPS_MAX,EPS_MIN, EPS_STEP,LR\n",
    "results_basepath_train = \"results/trial_model2\".format(\n",
    "                        NUM_TRAIN_EPS,NUM_MEM_FILL_EPS,DISCOUNT,BATCHSIZE,MEMORY_CAPACITY, UPDATE_FREQUENCY,EPS_MAX,EPS_MIN, EPS_STEP,LR)\n",
    "os.makedirs(results_basepath_train, exist_ok=True)\n",
    "\n",
    "subdir = 'data/30-50'\n",
    "data_path = Path.cwd()/subdir\n",
    "\n",
    "seed = None\n",
    "env_train = ImpnodeEnv(anc='dw_nd', ba_nodes=(15, 25), ba_edges = 4,max_removed_nodes = 10, seed=seed, render_option=False, data= False,data_path=data_path, train_mode=True)\n",
    "\n"
   ],
   "metadata": {
    "collapsed": false,
    "ExecuteTime": {
     "end_time": "2024-01-23T07:16:01.049263100Z",
     "start_time": "2024-01-23T07:16:00.496367200Z"
    }
   }
  },
  {
   "cell_type": "code",
   "execution_count": 9,
   "outputs": [],
   "source": [
    "# create the dqn_agent\n",
    "dqn_agent_train = DQN_agent.DQNAgent(device,\n",
    "                                     #env_train.observation_space.shape[0],\n",
    "                                     5,\n",
    "                                     env_train.action_space.n,\n",
    "                                     discount=DISCOUNT,\n",
    "                                     eps_max=EPS_MAX,\n",
    "                                     eps_min=EPS_MIN,\n",
    "                                     eps_step=EPS_STEP,\n",
    "                                     memory_capacity=MEMORY_CAPACITY,\n",
    "                                     lr=LR,\n",
    "                                     train_mode=True)\n",
    "\n"
   ],
   "metadata": {
    "collapsed": false,
    "ExecuteTime": {
     "end_time": "2024-01-23T07:16:01.619153Z",
     "start_time": "2024-01-23T07:16:01.051263100Z"
    }
   }
  },
  {
   "cell_type": "code",
   "execution_count": null,
   "outputs": [
    {
     "data": {
      "text/plain": "<Figure size 1200x800 with 2 Axes>",
      "image/png": "[encoded data removed]"
     },
     "metadata": {},
     "output_type": "display_data"
    },
    {
     "name": "stdout",
     "output_type": "stream",
     "text": [
      "train avg score\n",
      "\ttrain avg score  \t (min:   -0.242, max:   -0.192, cur:   -0.219)\n",
      "val avg score\n",
      "\tval avg score    \t (min:   -0.230, max:   -0.230, cur:   -0.230)\n"
     ]
    }
   ],
   "source": [
    "# initialise the memory\n",
    "fill_memory(env_train, dqn_agent_train)\n",
    "\n",
    "# train the agent\n",
    "train_loop(env_train, dqn_agent_train, results_basepath_train)\n"
   ],
   "metadata": {
    "collapsed": false,
    "is_executing": true
   }
  },
  {
   "cell_type": "code",
   "execution_count": null,
   "outputs": [],
   "source": [
    "dqn_agent_train.policy_net.dense2.weight"
   ],
   "metadata": {
    "collapsed": false,
    "is_executing": true
   }
  },
  {
   "cell_type": "code",
   "execution_count": null,
   "outputs": [],
   "source": [
    "# tests the agent through interactions with the environment and plots the associated rewards in real-time\n",
    "\n",
    "def test_loop(env, agent, results_basepath):\n",
    "    liveloss = PlotLosses()\n",
    "    logs = {}\n",
    "\n",
    "    reward_history = []\n",
    "    actions = []\n",
    "    for ep in range(NUM_TEST_EPS):\n",
    "        ep_score = 0\n",
    "        done = False\n",
    "        state, info = env.reset(ep)\n",
    "        while not done:\n",
    "            mask = info['node_actio n_mask']\n",
    "            action = agent.select_action(state, mask)\n",
    "            actions.append(action)\n",
    "            print(action)\n",
    "            next_state, reward, done, truncated, _ = env.step(action)\n",
    "            ep_score += reward\n",
    "            state = next_state\n",
    "\n",
    "        # track reward history only while running locally\n",
    "\n",
    "            reward_history.append(reward)\n",
    "\n",
    "        # update the plot in real-time\n",
    "            logs['test score'] = reward\n",
    "            liveloss.update(logs)\n",
    "            liveloss.send()\n",
    "    return actions\n",
    "\n",
    "    # store the reward that was tracked while running locally\n",
    "\n",
    "    with open('{}/test_reward_history.pkl'.format(results_basepath), 'wb') as f:\n",
    "        pickle.dump(reward_history, f)"
   ],
   "metadata": {
    "collapsed": false,
    "is_executing": true
   }
  },
  {
   "cell_type": "code",
   "execution_count": null,
   "outputs": [],
   "source": [
    "# variables for testing the agent\n",
    "# location where the model is stored and the name of the associated environment\n",
    "\n",
    "RESULTS_BASEPATH_TEST = 'results/new_30-50_traineps50000_epsmax1.0_epsmin0.05_epsstep10000_batchsize64_treps50000_memeps1000_memcap500000_gseedFalse'\n",
    "\n",
    "NUM_TEST_EPS = 1 # number of test episodes to run"
   ],
   "metadata": {
    "collapsed": false,
    "is_executing": true
   }
  },
  {
   "cell_type": "code",
   "execution_count": null,
   "outputs": [],
   "source": [
    "# create test environment and set associated seed\n",
    "\n",
    "seed = 1\n",
    "env_test = ImpnodeEnv(ba_nodes=random.randint(15, 25) * 2 ,ba_edges = 4,max_removed_nodes = 3, seed=seed, render_option=False, data=False, train_mode=False)\n",
    "\n",
    "# create the dqn agent with the stored weights\n",
    "dqn_agent_test = DQN_agent.DQNAgent(device=device,\n",
    "                          state_size=5,#env_test.observation_space.shape[0],\n",
    "                          action_size=env_test.action_space.n,\n",
    "                          discount=0.0,\n",
    "                          eps_max=0.0,\n",
    "                          eps_min=0.0,\n",
    "                          eps_step=0.0,\n",
    "                          memory_capacity=0,\n",
    "                          lr=0,\n",
    "                          train_mode=False)\n",
    "dqn_agent_test.load_model('{}/dqn_model'.format(RESULTS_BASEPATH_TEST))\n",
    "\n"
   ],
   "metadata": {
    "collapsed": false,
    "is_executing": true
   }
  },
  {
   "cell_type": "code",
   "execution_count": null,
   "outputs": [],
   "source": [
    "# test the agent\n",
    "actions = test_loop(env=env_test,\n",
    "          agent=dqn_agent_test,\n",
    "          results_basepath=RESULTS_BASEPATH_TEST)"
   ],
   "metadata": {
    "collapsed": false,
    "is_executing": true
   }
  },
  {
   "cell_type": "code",
   "execution_count": null,
   "outputs": [],
   "source": [
    "actions"
   ],
   "metadata": {
    "collapsed": false,
    "is_executing": true
   }
  },
  {
   "cell_type": "code",
   "execution_count": null,
   "outputs": [],
   "source": [],
   "metadata": {
    "collapsed": false,
    "is_executing": true
   }
  }
 ],
 "metadata": {
  "kernelspec": {
   "display_name": "Python 3",
   "language": "python",
   "name": "python3"
  },
  "language_info": {
   "codemirror_mode": {
    "name": "ipython",
    "version": 2
   },
   "file_extension": ".py",
   "mimetype": "text/x-python",
   "name": "python",
   "nbconvert_exporter": "python",
   "pygments_lexer": "ipython2",
   "version": "2.7.6"
  }
 },
 "nbformat": 4,
 "nbformat_minor": 0
}
