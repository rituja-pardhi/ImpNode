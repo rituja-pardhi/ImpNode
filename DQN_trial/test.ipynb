{
 "cells": [
  {
   "cell_type": "code",
   "execution_count": 122,
   "metadata": {
    "collapsed": true,
    "ExecuteTime": {
     "end_time": "2024-01-09T14:54:02.129197400Z",
     "start_time": "2024-01-09T14:54:01.936153100Z"
    }
   },
   "outputs": [
    {
     "name": "stdout",
     "output_type": "stream",
     "text": [
      "The autoreload extension is already loaded. To reload it, use:\n",
      "  %reload_ext autoreload\n"
     ]
    }
   ],
   "source": [
    "import networkx as nx\n",
    "import seaborn as sns\n",
    "from pathlib import Path\n",
    "import torch\n",
    "import DQN_agent\n",
    "from envs.GraphEnv.impnode import ImpnodeEnv\n",
    "from test_and_compare import test_loop, hda\n",
    "import matplotlib.pyplot as plt\n",
    "import  numpy as np\n",
    "%load_ext autoreload\n",
    "%autoreload 2"
   ]
  },
  {
   "cell_type": "code",
   "execution_count": 161,
   "outputs": [],
   "source": [
    "device = torch.device(\"cuda\" if torch.cuda.is_available() else \"cpu\")\n",
    "\n",
    "RESULTS_BASEPATH_TEST = 'results/trial'\n",
    "\n",
    "subdir = 'data/30-50'\n",
    "data_path = Path.cwd()/subdir\n",
    "\n",
    "NUM_TEST_EPS = 100 # number of test episodes to run\n",
    "\n",
    "seed = 2\n",
    "max_removed_nodes = 2\n",
    "env_test = ImpnodeEnv(anc='dw_nd', ba_nodes=(5, 10), ba_edges=4, max_removed_nodes=max_removed_nodes, seed=seed, render_option=False, data=True,\n",
    "                      data_path=data_path,train_mode=False)\n",
    "\n",
    "# create the dqn agent with the stored weights\n",
    "dqn_agent_test = DQN_agent.DQNAgent(device=device,\n",
    "                                    state_size=5,  # env_test.observation_space.shape[0],\n",
    "                                    action_size=env_test.action_space.n,\n",
    "                                    discount=0.0,\n",
    "                                    eps_max=0.0,\n",
    "                                    eps_min=0.0,\n",
    "                                    eps_step=0.0,\n",
    "                                    memory_capacity=0,\n",
    "                                    lr=0,\n",
    "                                    train_mode=False)\n",
    "dqn_agent_test.load_model('{}/dqn_model'.format(RESULTS_BASEPATH_TEST))"
   ],
   "metadata": {
    "collapsed": false,
    "ExecuteTime": {
     "end_time": "2024-01-09T15:33:54.170259500Z",
     "start_time": "2024-01-09T15:33:54.003199700Z"
    }
   }
  },
  {
   "cell_type": "code",
   "execution_count": 162,
   "outputs": [],
   "source": [
    "# test the agent\n",
    "actions, reward_history, ep_score_history = test_loop(env=env_test,\n",
    "                                                        agent=dqn_agent_test,\n",
    "                                                        NUM_TEST_EPS = NUM_TEST_EPS,\n",
    "                                                        results_basepath=RESULTS_BASEPATH_TEST)\n"
   ],
   "metadata": {
    "collapsed": false,
    "ExecuteTime": {
     "end_time": "2024-01-09T15:33:56.322944400Z",
     "start_time": "2024-01-09T15:33:54.203267200Z"
    }
   }
  },
  {
   "cell_type": "code",
   "execution_count": 163,
   "outputs": [
    {
     "data": {
      "text/plain": "0.419219168153113"
     },
     "execution_count": 163,
     "metadata": {},
     "output_type": "execute_result"
    }
   ],
   "source": [
    "hda_actions, hda_reward_history, hda_ep_score_history = hda(NUM_TEST_EPS, max_removed_nodes, data_path)#, remove_node_force=actions)"
   ],
   "metadata": {
    "collapsed": false,
    "ExecuteTime": {
     "end_time": "2024-01-09T15:33:56.512128700Z",
     "start_time": "2024-01-09T15:33:56.323945Z"
    }
   }
  },
  {
   "cell_type": "code",
   "execution_count": 130,
   "outputs": [
    {
     "data": {
      "text/plain": "0.11430924522838387"
     },
     "execution_count": 130,
     "metadata": {},
     "output_type": "execute_result"
    }
   ],
   "source": [
    "rewards = {'reward_history':reward_history, 'HDA_reward_history':hda_reward_history}"
   ],
   "metadata": {
    "collapsed": false,
    "ExecuteTime": {
     "end_time": "2024-01-09T15:18:58.164836500Z",
     "start_time": "2024-01-09T15:18:57.986815400Z"
    }
   }
  },
  {
   "cell_type": "code",
   "execution_count": 110,
   "outputs": [],
   "source": [
    "rewards"
   ],
   "metadata": {
    "collapsed": false,
    "ExecuteTime": {
     "end_time": "2024-01-09T13:54:38.246133600Z",
     "start_time": "2024-01-09T13:54:38.063088500Z"
    }
   }
  },
  {
   "cell_type": "code",
   "execution_count": 111,
   "outputs": [
    {
     "data": {
      "text/plain": "{'0': 0.024193548387096787,\n '1': 0.008064516129032263,\n '2': 0.008064516129032263,\n '3': 0.05241935483870971,\n '4': 0.0766129032258065,\n '5': 0.08870967741935488,\n '6': 0.05241935483870971,\n '7': 0.0645161290322581,\n '8': 0.04032258064516131,\n '9': 0.048387096774193575,\n '10': 0.04032258064516131,\n '11': 0.03225806451612905,\n '12': 0.016129032258064526,\n '13': 0.020161290322580655,\n '14': 0.04032258064516131,\n '15': 0.020161290322580655,\n '16': 0.024193548387096787,\n '17': 0.016129032258064526,\n '18': 0.02822580645161292,\n '19': 0.024193548387096787,\n '20': 0.020161290322580655,\n '21': 0.016129032258064526,\n '22': 0.020161290322580655,\n '23': 0.024193548387096787,\n '24': 0.016129032258064526,\n '25': 0.020161290322580655,\n '26': 0.016129032258064526,\n '27': 0.016129032258064526,\n '28': 0.020161290322580655,\n '29': 0.016129032258064526,\n '30': 0.016129032258064526,\n '31': 0.016129032258064526,\n '32': 0.020161290322580655,\n '33': 0.020161290322580655,\n '34': 0.016129032258064526}"
     },
     "execution_count": 111,
     "metadata": {},
     "output_type": "execute_result"
    }
   ],
   "source": [
    "np.mean(reward_history)"
   ],
   "metadata": {
    "collapsed": false,
    "ExecuteTime": {
     "end_time": "2024-01-09T13:54:40.809392700Z",
     "start_time": "2024-01-09T13:54:40.603344100Z"
    }
   }
  },
  {
   "cell_type": "code",
   "execution_count": 57,
   "outputs": [
    {
     "data": {
      "text/plain": "([0.400497159090909], [0.1660511363636364])"
     },
     "execution_count": 57,
     "metadata": {},
     "output_type": "execute_result"
    }
   ],
   "source": [
    "np.mean(hda_reward_history)"
   ],
   "metadata": {
    "collapsed": false,
    "ExecuteTime": {
     "end_time": "2024-01-09T13:07:00.904091600Z",
     "start_time": "2024-01-09T13:07:00.706159400Z"
    }
   }
  },
  {
   "cell_type": "code",
   "execution_count": 58,
   "outputs": [],
   "source": [
    "g = sns.lineplot(reward_history)\n",
    "#g.set_xticks(range(len(reward_history)))"
   ],
   "metadata": {
    "collapsed": false,
    "ExecuteTime": {
     "end_time": "2024-01-09T13:07:01.735429Z",
     "start_time": "2024-01-09T13:07:01.542195Z"
    }
   }
  },
  {
   "cell_type": "code",
   "execution_count": 59,
   "outputs": [
    {
     "data": {
      "text/plain": "<Axes: >"
     },
     "execution_count": 59,
     "metadata": {},
     "output_type": "execute_result"
    },
    {
     "data": {
      "text/plain": "<Figure size 640x480 with 1 Axes>",
      "image/png": "[encoded data removed]"
     },
     "metadata": {},
     "output_type": "display_data"
    }
   ],
   "source": [
    "sns.lineplot(rewards)"
   ],
   "metadata": {
    "collapsed": false,
    "ExecuteTime": {
     "end_time": "2024-01-09T13:07:03.043864900Z",
     "start_time": "2024-01-09T13:07:02.609744200Z"
    }
   }
  },
  {
   "cell_type": "code",
   "execution_count": 585,
   "outputs": [],
   "source": [],
   "metadata": {
    "collapsed": false,
    "ExecuteTime": {
     "end_time": "2024-01-09T12:30:24.466945200Z",
     "start_time": "2024-01-09T12:30:24.390206800Z"
    }
   }
  }
 ],
 "metadata": {
  "kernelspec": {
   "display_name": "Python 3",
   "language": "python",
   "name": "python3"
  },
  "language_info": {
   "codemirror_mode": {
    "name": "ipython",
    "version": 2
   },
   "file_extension": ".py",
   "mimetype": "text/x-python",
   "name": "python",
   "nbconvert_exporter": "python",
   "pygments_lexer": "ipython2",
   "version": "2.7.6"
  }
 },
 "nbformat": 4,
 "nbformat_minor": 0
}
