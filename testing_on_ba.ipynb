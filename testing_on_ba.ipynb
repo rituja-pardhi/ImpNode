{
 "cells": [
  {
   "cell_type": "code",
   "execution_count": 8,
   "outputs": [
    {
     "name": "stdout",
     "output_type": "stream",
     "text": [
      "The autoreload extension is already loaded. To reload it, use:\n",
      "  %reload_ext autoreload\n"
     ]
    }
   ],
   "source": [
    "import networkx as nx\n",
    "import seaborn as sns\n",
    "from pathlib import Path\n",
    "import torch\n",
    "from DQN import DQN_agent_modular\n",
    "from envs.GraphEnv.impnode import ImpnodeEnv\n",
    "from DQN.train_dqn import train_dqn, fill_memory\n",
    "from DQN.finetune_dqn import finetune_dqn\n",
    "from DQN.test_and_compare import test_loop, hda\n",
    "import matplotlib.pyplot as plt\n",
    "import time\n",
    "import mlflow\n",
    "import  numpy as np\n",
    "%load_ext autoreload\n",
    "%autoreload 2"
   ],
   "metadata": {
    "collapsed": false,
    "ExecuteTime": {
     "end_time": "2024-04-26T09:41:10.631363100Z",
     "start_time": "2024-04-26T09:41:10.441231700Z"
    }
   }
  },
  {
   "cell_type": "code",
   "execution_count": 9,
   "outputs": [],
   "source": [
    "import random\n",
    "seed = 412\n",
    "torch.manual_seed(seed)\n",
    "np.random.seed(seed)\n",
    "random.seed(seed)\n",
    "torch.cuda.manual_seed(seed)\n",
    "torch.cuda.manual_seed_all(seed)\n",
    "torch.use_deterministic_algorithms(True,warn_only=True)\n",
    "torch.backends.cudnn.deterministic = True\n",
    "torch.backends.cudnn.benchmark = False\n"
   ],
   "metadata": {
    "collapsed": false,
    "ExecuteTime": {
     "end_time": "2024-04-26T09:41:10.808947500Z",
     "start_time": "2024-04-26T09:41:10.629321600Z"
    }
   }
  },
  {
   "cell_type": "code",
   "execution_count": 20,
   "outputs": [],
   "source": [
    "device = torch.device(\"cuda\" if torch.cuda.is_available() else \"cpu\")\n",
    "\n",
    "\n",
    "RESULTS_BASEPATH_TEST_ws = 'results/finetune_experiments/cuda_0.001_100000_100_0.99_64_50000_500_1.0_0.05_5000_0.0001_4_2_32_64_1_3_(30, 50)_dw_nd_small-world_20240424134422/11000_model.pt'\n",
    "RESULTS_BASEPATH_TEST_ba = 'results/finetune_experiments/cuda_0.001_100000_100_0.99_64_50000_500_1.0_0.05_5000_0.0001_4_2_32_64_1_3_(30, 50)_dw_nd_barabasi-albert_20240424124037/9000_model.pt'\n",
    "RESULTS_BASEPATH_TEST_er = 'results/finetune_experiments/cuda_0.001_100000_100_0.99_64_50000_500_1.0_0.05_5000_0.0001_4_2_32_64_1_3_(30, 50)_dw_nd_erdos-renyi_20240424134434/20000_model.pt'"
   ],
   "metadata": {
    "collapsed": false,
    "ExecuteTime": {
     "end_time": "2024-04-26T09:52:52.799280100Z",
     "start_time": "2024-04-26T09:52:52.606250500Z"
    }
   }
  },
  {
   "cell_type": "code",
   "outputs": [],
   "source": [
    "dqn_agent_test = DQN_agent_modular.DQNAgent(device=device,\n",
    "                                    alpha=0.001,\n",
    "                                    gnn_depth=4,\n",
    "                                    state_size=2,\n",
    "                                    hidden_size1=32,\n",
    "                                    hidden_size2=64,\n",
    "                                    action_size=1,\n",
    "                                    discount=0.0,\n",
    "                                    eps_max=0.0,\n",
    "                                    eps_min=0.0,\n",
    "                                    eps_step=0.0,\n",
    "                                    memory_capacity=0,\n",
    "                                    lr=0,\n",
    "                                    mode='test')\n",
    "\n",
    "\n"
   ],
   "metadata": {
    "collapsed": false,
    "ExecuteTime": {
     "end_time": "2024-04-26T09:41:11.145504400Z",
     "start_time": "2024-04-26T09:41:10.969989600Z"
    }
   },
   "execution_count": 11
  },
  {
   "cell_type": "code",
   "outputs": [
    {
     "data": {
      "text/plain": "0.35647736994264684"
     },
     "execution_count": 18,
     "metadata": {},
     "output_type": "execute_result"
    }
   ],
   "source": [
    "dqn_agent_test.load_model('{}'.format(RESULTS_BASEPATH_TEST_ba))\n",
    "subdir = 'data/synthetic_small_dataset/BA_val_30_50'\n",
    "data_path = Path.cwd()/subdir\n",
    "\n",
    "NUM_TEST_EPS = 100 # number of test episodes to run\n",
    "\n",
    "env_test_val = ImpnodeEnv(anc='dw_nd', g_type='barabasi-albert', num_nodes=(30, 50), data_path=data_path, mode='test', max_removed_nodes=None)\n",
    "\n",
    "# test the agent\n",
    "actions2, reward_history2, ep_score_history2 = test_loop(env=env_test_val,\n",
    "                                                         agent=dqn_agent_test,\n",
    "                                                         NUM_TEST_EPS = NUM_TEST_EPS)\n",
    "\n",
    "np.mean(ep_score_history2)"
   ],
   "metadata": {
    "collapsed": false,
    "ExecuteTime": {
     "end_time": "2024-04-26T09:50:03.187622600Z",
     "start_time": "2024-04-26T09:49:41.211409500Z"
    }
   },
   "execution_count": 18
  },
  {
   "cell_type": "code",
   "outputs": [
    {
     "data": {
      "text/plain": "0.45324019998790377"
     },
     "execution_count": 21,
     "metadata": {},
     "output_type": "execute_result"
    }
   ],
   "source": [
    "dqn_agent_test.load_model('{}'.format(RESULTS_BASEPATH_TEST_ws))\n",
    "subdir = 'data/synthetic_small_dataset/WS_val_30_50'\n",
    "data_path = Path.cwd()/subdir\n",
    "\n",
    "NUM_TEST_EPS = 100 # number of test episodes to run\n",
    "\n",
    "env_test_val = ImpnodeEnv(anc='dw_nd', g_type='small-world', num_nodes=(30, 50), data_path=data_path, mode='test', max_removed_nodes=None)\n",
    "\n",
    "# test the agent\n",
    "actions2, reward_history2, ep_score_history2 = test_loop(env=env_test_val,\n",
    "                                                         agent=dqn_agent_test,\n",
    "                                                         NUM_TEST_EPS = NUM_TEST_EPS)\n",
    "\n",
    "np.mean(ep_score_history2)"
   ],
   "metadata": {
    "collapsed": false,
    "ExecuteTime": {
     "end_time": "2024-04-26T09:53:17.378656400Z",
     "start_time": "2024-04-26T09:52:55.894546300Z"
    }
   },
   "execution_count": 21
  },
  {
   "cell_type": "code",
   "outputs": [
    {
     "data": {
      "text/plain": "0.3890030404480118"
     },
     "execution_count": 14,
     "metadata": {},
     "output_type": "execute_result"
    }
   ],
   "source": [
    "dqn_agent_test.load_model('{}'.format(RESULTS_BASEPATH_TEST_er))\n",
    "subdir = 'data/synthetic_small_dataset/ER_val_30_50'\n",
    "data_path = Path.cwd()/subdir\n",
    "\n",
    "NUM_TEST_EPS = 100 # number of test episodes to run\n",
    "\n",
    "env_test_val = ImpnodeEnv(anc='dw_nd', g_type='erdos-renyi', num_nodes=(30, 50), data_path=data_path, mode='test', max_removed_nodes=None)\n",
    "\n",
    "# test the agent\n",
    "actions2, reward_history2, ep_score_history2 = test_loop(env=env_test_val,\n",
    "                                                         agent=dqn_agent_test,\n",
    "                                                         NUM_TEST_EPS = NUM_TEST_EPS)\n",
    "\n",
    "np.mean(ep_score_history2)"
   ],
   "metadata": {
    "collapsed": false,
    "ExecuteTime": {
     "end_time": "2024-04-26T09:42:23.931351400Z",
     "start_time": "2024-04-26T09:41:58.404717Z"
    }
   },
   "execution_count": 14
  }
 ],
 "metadata": {
  "kernelspec": {
   "display_name": "Python 3",
   "language": "python",
   "name": "python3"
  },
  "language_info": {
   "codemirror_mode": {
    "name": "ipython",
    "version": 2
   },
   "file_extension": ".py",
   "mimetype": "text/x-python",
   "name": "python",
   "nbconvert_exporter": "python",
   "pygments_lexer": "ipython2",
   "version": "2.7.6"
  }
 },
 "nbformat": 4,
 "nbformat_minor": 0
}
