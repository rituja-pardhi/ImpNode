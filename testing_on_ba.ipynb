{
 "cells": [
  {
   "cell_type": "code",
   "execution_count": 42,
   "outputs": [
    {
     "name": "stdout",
     "output_type": "stream",
     "text": [
      "The autoreload extension is already loaded. To reload it, use:\n",
      "  %reload_ext autoreload\n"
     ]
    }
   ],
   "source": [
    "import networkx as nx\n",
    "import seaborn as sns\n",
    "from pathlib import Path\n",
    "import torch\n",
    "from DQN import DQN_agent_modular\n",
    "from envs.GraphEnv.impnode import ImpnodeEnv\n",
    "from DQN.train_dqn import train_dqn, fill_memory\n",
    "from DQN.finetune_dqn import finetune_dqn\n",
    "from DQN.test_and_compare import test_loop, hda\n",
    "import matplotlib.pyplot as plt\n",
    "import time\n",
    "import mlflow\n",
    "import  numpy as np\n",
    "%load_ext autoreload\n",
    "%autoreload 2"
   ],
   "metadata": {
    "collapsed": false,
    "ExecuteTime": {
     "end_time": "2024-04-22T14:05:44.339635Z",
     "start_time": "2024-04-22T14:05:44.083495400Z"
    }
   }
  },
  {
   "cell_type": "code",
   "execution_count": 43,
   "outputs": [],
   "source": [
    "import random\n",
    "seed = 412\n",
    "torch.manual_seed(seed)\n",
    "np.random.seed(seed)\n",
    "random.seed(seed)\n",
    "torch.cuda.manual_seed(seed)\n",
    "torch.cuda.manual_seed_all(seed)\n",
    "torch.use_deterministic_algorithms(True,warn_only=True)\n",
    "torch.backends.cudnn.deterministic = True\n",
    "torch.backends.cudnn.benchmark = False\n"
   ],
   "metadata": {
    "collapsed": false,
    "ExecuteTime": {
     "end_time": "2024-04-22T14:05:44.500198200Z",
     "start_time": "2024-04-22T14:05:44.316631800Z"
    }
   }
  },
  {
   "cell_type": "code",
   "execution_count": 44,
   "outputs": [],
   "source": [
    "device = torch.device(\"cuda\" if torch.cuda.is_available() else \"cpu\")\n",
    "\n",
    "\n",
    "RESULTS_BASEPATH_TEST1 = 'results/small_experiments_2/cuda_0.001_100000_100_0.99_64_50000_500_1.0_0.05_1000_0.001_4_2_32_64_1_3_(30, 50)_dw_nd_erdos-renyi_20240420111744'\n",
    "\n",
    "model_name = 'model'\n"
   ],
   "metadata": {
    "collapsed": false,
    "ExecuteTime": {
     "end_time": "2024-04-22T14:05:44.674238600Z",
     "start_time": "2024-04-22T14:05:44.501208400Z"
    }
   }
  },
  {
   "cell_type": "code",
   "outputs": [],
   "source": [
    "dqn_agent_test = DQN_agent_modular.DQNAgent(device=device,\n",
    "                                    alpha=0.001,\n",
    "                                    gnn_depth=4,\n",
    "                                    state_size=2,\n",
    "                                    hidden_size1=32,\n",
    "                                    hidden_size2=64,\n",
    "                                    action_size=1,\n",
    "                                    discount=0.0,\n",
    "                                    eps_max=0.0,\n",
    "                                    eps_min=0.0,\n",
    "                                    eps_step=0.0,\n",
    "                                    memory_capacity=0,\n",
    "                                    lr=0,\n",
    "                                    mode='test')\n",
    "\n",
    "dqn_agent_test.load_model('{}/model.pt'.format(RESULTS_BASEPATH_TEST1))\n"
   ],
   "metadata": {
    "collapsed": false,
    "ExecuteTime": {
     "end_time": "2024-04-22T14:05:44.924277Z",
     "start_time": "2024-04-22T14:05:44.675239300Z"
    }
   },
   "execution_count": 45
  },
  {
   "cell_type": "code",
   "outputs": [
    {
     "data": {
      "text/plain": "0.37989561381547216"
     },
     "execution_count": 46,
     "metadata": {},
     "output_type": "execute_result"
    }
   ],
   "source": [
    "subdir = 'data/synthetic_small_dataset/ER_val_30_50'\n",
    "data_path = Path.cwd()/subdir\n",
    "\n",
    "NUM_TEST_EPS = 10 # number of test episodes to run\n",
    "\n",
    "env_test_val = ImpnodeEnv(anc='dw_nd', g_type='erdos-renyi', num_nodes=(30, 50), data_path=data_path, mode='test', max_removed_nodes=None)\n",
    "\n",
    "# test the agent\n",
    "actions2, reward_history2, ep_score_history2 = test_loop(env=env_test_val,\n",
    "                                                         agent=dqn_agent_test,\n",
    "                                                         NUM_TEST_EPS = NUM_TEST_EPS)\n",
    "\n",
    "#print(f'avg finder anc %.4f' %(np.mean(ep_score_history2)))\n",
    "#sns.boxplot(ep_score_history2)\n",
    "np.mean(ep_score_history2)"
   ],
   "metadata": {
    "collapsed": false,
    "ExecuteTime": {
     "end_time": "2024-04-22T14:05:49.461274100Z",
     "start_time": "2024-04-22T14:05:44.927277Z"
    }
   },
   "execution_count": 46
  },
  {
   "cell_type": "markdown",
   "source": [],
   "metadata": {
    "collapsed": false
   }
  },
  {
   "cell_type": "code",
   "outputs": [],
   "source": [],
   "metadata": {
    "collapsed": false,
    "ExecuteTime": {
     "end_time": "2024-04-22T14:05:49.474270500Z",
     "start_time": "2024-04-22T14:05:49.455271300Z"
    }
   },
   "execution_count": 46
  },
  {
   "cell_type": "code",
   "outputs": [],
   "source": [],
   "metadata": {
    "collapsed": false,
    "ExecuteTime": {
     "end_time": "2024-04-22T14:05:49.500271200Z",
     "start_time": "2024-04-22T14:05:49.470274500Z"
    }
   },
   "execution_count": 46
  }
 ],
 "metadata": {
  "kernelspec": {
   "display_name": "Python 3",
   "language": "python",
   "name": "python3"
  },
  "language_info": {
   "codemirror_mode": {
    "name": "ipython",
    "version": 2
   },
   "file_extension": ".py",
   "mimetype": "text/x-python",
   "name": "python",
   "nbconvert_exporter": "python",
   "pygments_lexer": "ipython2",
   "version": "2.7.6"
  }
 },
 "nbformat": 4,
 "nbformat_minor": 0
}
