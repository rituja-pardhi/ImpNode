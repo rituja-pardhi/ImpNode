{
 "cells": [
  {
   "cell_type": "code",
   "execution_count": 51,
   "metadata": {
    "collapsed": true,
    "ExecuteTime": {
     "end_time": "2024-01-07T10:51:00.421472900Z",
     "start_time": "2024-01-07T10:51:00.404473Z"
    }
   },
   "outputs": [],
   "source": [
    "import networkx as nx\n",
    "import matplotlib.pyplot as plt\n",
    "import numpy as np"
   ]
  },
  {
   "cell_type": "code",
   "execution_count": 52,
   "outputs": [],
   "source": [
    "graph = nx.star_graph(4)\n",
    "pos = nx.spring_layout(graph)"
   ],
   "metadata": {
    "collapsed": false,
    "ExecuteTime": {
     "end_time": "2024-01-07T10:51:00.775191Z",
     "start_time": "2024-01-07T10:51:00.747018700Z"
    }
   }
  },
  {
   "cell_type": "code",
   "execution_count": 53,
   "outputs": [
    {
     "data": {
      "text/plain": "<Figure size 300x300 with 1 Axes>",
      "image/png": "[encoded data removed]"
     },
     "metadata": {},
     "output_type": "display_data"
    }
   ],
   "source": [
    "fig, ax = plt.subplots()\n",
    "fig.set_size_inches(3, 3)\n",
    "nx.draw(graph, pos, with_labels=True)\n"
   ],
   "metadata": {
    "collapsed": false,
    "ExecuteTime": {
     "end_time": "2024-01-07T10:51:01.267975Z",
     "start_time": "2024-01-07T10:51:01.170941700Z"
    }
   }
  },
  {
   "cell_type": "code",
   "execution_count": 65,
   "outputs": [],
   "source": [
    "def normalized_degrees(graph):\n",
    "    degrees = dict(graph.degree())\n",
    "    total_degree = sum(degrees.values())\n",
    "\n",
    "    normalized_degrees = {node: degree / total_degree for node, degree in degrees.items()}\n",
    "\n",
    "    return normalized_degrees"
   ],
   "metadata": {
    "collapsed": false,
    "ExecuteTime": {
     "end_time": "2024-01-07T10:54:19.443963400Z",
     "start_time": "2024-01-07T10:54:19.424220400Z"
    }
   }
  },
  {
   "cell_type": "code",
   "execution_count": 66,
   "outputs": [],
   "source": [
    "dw = normalized_degrees(graph)"
   ],
   "metadata": {
    "collapsed": false,
    "ExecuteTime": {
     "end_time": "2024-01-07T10:54:19.670098Z",
     "start_time": "2024-01-07T10:54:19.659084600Z"
    }
   }
  },
  {
   "cell_type": "code",
   "execution_count": 67,
   "outputs": [
    {
     "data": {
      "text/plain": "dict_values([0.5, 0.125, 0.125, 0.125, 0.125])"
     },
     "execution_count": 67,
     "metadata": {},
     "output_type": "execute_result"
    }
   ],
   "source": [
    "dw.values()"
   ],
   "metadata": {
    "collapsed": false,
    "ExecuteTime": {
     "end_time": "2024-01-07T10:54:20.496961Z",
     "start_time": "2024-01-07T10:54:20.467023700Z"
    }
   }
  },
  {
   "cell_type": "code",
   "execution_count": 80,
   "outputs": [],
   "source": [
    "def calculate_cost(degree):\n",
    "    delta = np.random.normal(0, 1)  # Random variable drawn from a normal distribution\n",
    "    median_degree = np.median(list(degree.values()))\n",
    "    err = median_degree*delta\n",
    "    cost = {node: 0.5 *(degree + err) for node, degree in degree.items()}\n",
    "    return cost"
   ],
   "metadata": {
    "collapsed": false,
    "ExecuteTime": {
     "end_time": "2024-01-07T10:58:06.221923800Z",
     "start_time": "2024-01-07T10:58:06.197458800Z"
    }
   }
  },
  {
   "cell_type": "code",
   "execution_count": 81,
   "outputs": [
    {
     "data": {
      "text/plain": "{0: 0.2825425598887716,\n 1: 0.09504255988877157,\n 2: 0.09504255988877157,\n 3: 0.09504255988877157,\n 4: 0.09504255988877157}"
     },
     "execution_count": 81,
     "metadata": {},
     "output_type": "execute_result"
    }
   ],
   "source": [
    "calculate_cost(dw)"
   ],
   "metadata": {
    "collapsed": false,
    "ExecuteTime": {
     "end_time": "2024-01-07T10:58:06.451567600Z",
     "start_time": "2024-01-07T10:58:06.433564100Z"
    }
   }
  },
  {
   "cell_type": "code",
   "execution_count": null,
   "outputs": [],
   "source": [],
   "metadata": {
    "collapsed": false
   }
  }
 ],
 "metadata": {
  "kernelspec": {
   "display_name": "Python 3",
   "language": "python",
   "name": "python3"
  },
  "language_info": {
   "codemirror_mode": {
    "name": "ipython",
    "version": 2
   },
   "file_extension": ".py",
   "mimetype": "text/x-python",
   "name": "python",
   "nbconvert_exporter": "python",
   "pygments_lexer": "ipython2",
   "version": "2.7.6"
  }
 },
 "nbformat": 4,
 "nbformat_minor": 0
}
