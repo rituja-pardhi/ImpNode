{
 "cells": [
  {
   "cell_type": "code",
   "execution_count": 64,
   "outputs": [
    {
     "name": "stdout",
     "output_type": "stream",
     "text": [
      "The autoreload extension is already loaded. To reload it, use:\n",
      "  %reload_ext autoreload\n"
     ]
    }
   ],
   "source": [
    "%load_ext autoreload\n",
    "%autoreload 2"
   ],
   "metadata": {
    "collapsed": false,
    "ExecuteTime": {
     "end_time": "2023-11-30T09:49:00.285755100Z",
     "start_time": "2023-11-30T09:48:58.350040900Z"
    }
   }
  },
  {
   "cell_type": "code",
   "execution_count": 65,
   "outputs": [
    {
     "name": "stdout",
     "output_type": "stream",
     "text": [
      "The line_profiler extension is already loaded. To reload it, use:\n",
      "  %reload_ext line_profiler\n"
     ]
    }
   ],
   "source": [
    "%load_ext line_profiler"
   ],
   "metadata": {
    "collapsed": false,
    "ExecuteTime": {
     "end_time": "2023-11-30T09:49:00.379767Z",
     "start_time": "2023-11-30T09:49:00.288761500Z"
    }
   }
  },
  {
   "cell_type": "code",
   "execution_count": 66,
   "outputs": [],
   "source": [
    "from call_envs import vector_envs_experiment"
   ],
   "metadata": {
    "collapsed": false,
    "ExecuteTime": {
     "end_time": "2023-11-30T09:49:00.474854300Z",
     "start_time": "2023-11-30T09:49:00.381784900Z"
    }
   }
  },
  {
   "cell_type": "code",
   "execution_count": 67,
   "outputs": [],
   "source": [
    "vector_envs_experiment = vector_envs_experiment(ba_nodes = 30, ba_edges = 10, max_removed_nodes = 1, seed = 5555, num_envs = 5000, num_episodes = 1)"
   ],
   "metadata": {
    "collapsed": false,
    "ExecuteTime": {
     "end_time": "2023-11-30T09:49:01.758923500Z",
     "start_time": "2023-11-30T09:49:01.657286700Z"
    }
   }
  },
  {
   "cell_type": "markdown",
   "source": [
    "normal function call"
   ],
   "metadata": {
    "collapsed": false
   }
  },
  {
   "cell_type": "code",
   "execution_count": 68,
   "outputs": [
    {
     "name": "stdout",
     "output_type": "stream",
     "text": [
      "4.031794548034668\n"
     ]
    }
   ],
   "source": [
    "vector_envs_experiment.sync_func()"
   ],
   "metadata": {
    "collapsed": false,
    "ExecuteTime": {
     "end_time": "2023-11-30T09:49:58.630032900Z",
     "start_time": "2023-11-30T09:49:02.858715900Z"
    }
   }
  },
  {
   "cell_type": "code",
   "execution_count": 69,
   "outputs": [
    {
     "name": "stdout",
     "output_type": "stream",
     "text": [
      "5.596319198608398\n"
     ]
    }
   ],
   "source": [
    "vector_envs_experiment.async_func()"
   ],
   "metadata": {
    "collapsed": false,
    "ExecuteTime": {
     "end_time": "2023-11-30T09:50:53.207789100Z",
     "start_time": "2023-11-30T09:49:58.631034600Z"
    }
   }
  },
  {
   "cell_type": "markdown",
   "source": [
    "prun"
   ],
   "metadata": {
    "collapsed": false
   }
  },
  {
   "cell_type": "code",
   "execution_count": 70,
   "outputs": [
    {
     "name": "stdout",
     "output_type": "stream",
     "text": [
      "9.793015241622925\n",
      " "
     ]
    }
   ],
   "source": [
    "%prun vector_envs_experiment.sync_func()"
   ],
   "metadata": {
    "collapsed": false,
    "ExecuteTime": {
     "end_time": "2023-11-30T09:52:55.569878500Z",
     "start_time": "2023-11-30T09:51:34.378786200Z"
    }
   }
  },
  {
   "cell_type": "code",
   "execution_count": 71,
   "outputs": [
    {
     "name": "stdout",
     "output_type": "stream",
     "text": [
      "5.583629131317139\n",
      " "
     ]
    }
   ],
   "source": [
    "%prun vector_envs_experiment.async_func()"
   ],
   "metadata": {
    "collapsed": false,
    "ExecuteTime": {
     "end_time": "2023-11-30T09:54:16.920796500Z",
     "start_time": "2023-11-30T09:52:55.569878500Z"
    }
   }
  },
  {
   "cell_type": "code",
   "execution_count": null,
   "outputs": [],
   "source": [],
   "metadata": {
    "collapsed": false
   }
  }
 ],
 "metadata": {
  "kernelspec": {
   "display_name": "Python 3",
   "language": "python",
   "name": "python3"
  },
  "language_info": {
   "codemirror_mode": {
    "name": "ipython",
    "version": 2
   },
   "file_extension": ".py",
   "mimetype": "text/x-python",
   "name": "python",
   "nbconvert_exporter": "python",
   "pygments_lexer": "ipython2",
   "version": "2.7.6"
  }
 },
 "nbformat": 4,
 "nbformat_minor": 0
}
