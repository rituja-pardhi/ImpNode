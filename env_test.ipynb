{
 "cells": [
  {
   "cell_type": "code",
   "execution_count": 15,
   "outputs": [
    {
     "name": "stdout",
     "output_type": "stream",
     "text": [
      "The autoreload extension is already loaded. To reload it, use:\n",
      "  %reload_ext autoreload\n"
     ]
    }
   ],
   "source": [
    "%load_ext autoreload\n",
    "%autoreload 2"
   ],
   "metadata": {
    "collapsed": false,
    "ExecuteTime": {
     "end_time": "2023-11-23T10:21:03.360921600Z",
     "start_time": "2023-11-23T10:21:03.270710100Z"
    }
   }
  },
  {
   "cell_type": "code",
   "execution_count": 16,
   "outputs": [],
   "source": [
    "import numpy as np"
   ],
   "metadata": {
    "collapsed": false,
    "ExecuteTime": {
     "end_time": "2023-11-23T10:21:03.657460900Z",
     "start_time": "2023-11-23T10:21:03.567485Z"
    }
   }
  },
  {
   "cell_type": "code",
   "execution_count": 21,
   "outputs": [],
   "source": [
    "from envs.GraphEnv.impnode import ImpnodeEnv\n",
    "\n",
    "env = ImpnodeEnv(8,2,3)"
   ],
   "metadata": {
    "collapsed": false,
    "ExecuteTime": {
     "end_time": "2023-11-23T10:21:18.911411700Z",
     "start_time": "2023-11-23T10:21:18.826738800Z"
    }
   }
  },
  {
   "cell_type": "code",
   "execution_count": 25,
   "outputs": [
    {
     "name": "stdout",
     "output_type": "stream",
     "text": [
      "3\n",
      "False\n",
      "4\n",
      "False\n",
      "6\n",
      "True\n",
      "6\n",
      "False\n",
      "7\n",
      "False\n",
      "3\n",
      "True\n"
     ]
    }
   ],
   "source": [
    "for i in range(2):\n",
    "    terminated = False\n",
    "    #num_nodes = env.num_nodes()\n",
    "    mask = np.ones((env.num_nodes()), dtype=np.int8)\n",
    "    while terminated is False:\n",
    "        action = env.action_space.sample(mask=mask)\n",
    "        print(action)\n",
    "        mask[action] = 0\n",
    "        observation, reward, terminated, truncated, info = env.step(action)\n",
    "        print(terminated)\n",
    "    env.reset()"
   ],
   "metadata": {
    "collapsed": false,
    "ExecuteTime": {
     "end_time": "2023-11-23T10:57:05.648631900Z",
     "start_time": "2023-11-23T10:57:05.531297100Z"
    }
   }
  },
  {
   "cell_type": "code",
   "execution_count": null,
   "outputs": [],
   "source": [],
   "metadata": {
    "collapsed": false
   }
  },
  {
   "cell_type": "code",
   "execution_count": 120,
   "outputs": [],
   "source": [],
   "metadata": {
    "collapsed": false,
    "ExecuteTime": {
     "end_time": "2023-11-16T15:20:59.914139400Z",
     "start_time": "2023-11-16T15:20:59.896127800Z"
    }
   }
  }
 ],
 "metadata": {
  "kernelspec": {
   "display_name": "Python 3",
   "language": "python",
   "name": "python3"
  },
  "language_info": {
   "codemirror_mode": {
    "name": "ipython",
    "version": 2
   },
   "file_extension": ".py",
   "mimetype": "text/x-python",
   "name": "python",
   "nbconvert_exporter": "python",
   "pygments_lexer": "ipython2",
   "version": "2.7.6"
  }
 },
 "nbformat": 4,
 "nbformat_minor": 0
}
