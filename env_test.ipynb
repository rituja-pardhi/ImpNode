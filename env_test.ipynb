{
 "cells": [
  {
   "cell_type": "code",
   "execution_count": 2,
   "outputs": [],
   "source": [
    "%load_ext autoreload\n",
    "%autoreload 2"
   ],
   "metadata": {
    "collapsed": false,
    "ExecuteTime": {
     "end_time": "2023-12-11T09:37:47.829249900Z",
     "start_time": "2023-12-11T09:37:47.639205400Z"
    }
   }
  },
  {
   "cell_type": "code",
   "execution_count": 4,
   "outputs": [],
   "source": [
    "import numpy as np\n",
    "import networkx as nx\n",
    "\n",
    "import torch\n",
    "import torch.nn as nn\n",
    "import torch.nn.functional as F\n",
    "from torch_geometric.nn import MessagePassing"
   ],
   "metadata": {
    "collapsed": false,
    "ExecuteTime": {
     "end_time": "2023-12-11T09:38:07.881235Z",
     "start_time": "2023-12-11T09:38:07.238083900Z"
    }
   }
  },
  {
   "cell_type": "code",
   "execution_count": 36,
   "outputs": [],
   "source": [
    "from envs.GraphEnv.impnode import ImpnodeEnv\n",
    "\n",
    "seed = 5545"
   ],
   "metadata": {
    "collapsed": false,
    "ExecuteTime": {
     "end_time": "2023-12-04T13:26:47.386965300Z",
     "start_time": "2023-12-04T13:26:47.291944200Z"
    }
   }
  },
  {
   "cell_type": "code",
   "execution_count": 37,
   "outputs": [
    {
     "data": {
      "text/plain": "[5545]"
     },
     "execution_count": 37,
     "metadata": {},
     "output_type": "execute_result"
    }
   ],
   "source": [
    "env = ImpnodeEnv(8,2,3,seed)\n",
    "env.action_space.seed(seed)"
   ],
   "metadata": {
    "collapsed": false,
    "ExecuteTime": {
     "end_time": "2023-12-04T13:26:47.999630100Z",
     "start_time": "2023-12-04T13:26:47.894444900Z"
    }
   }
  },
  {
   "cell_type": "code",
   "execution_count": 38,
   "outputs": [
    {
     "name": "stdout",
     "output_type": "stream",
     "text": [
      "[1 1 1 1 1 1 1 1]\n",
      "8\n",
      "8\n",
      "2\n",
      "Graph with 8 nodes and 12 edges\n",
      "[1 1 0 1 1 1 1 1]\n",
      "8\n",
      "8\n",
      "4\n",
      "Graph with 8 nodes and 12 edges\n",
      "[1 1 0 1 0 1 1 1]\n",
      "8\n",
      "8\n",
      "3\n",
      "Graph with 8 nodes and 12 edges\n",
      "[1 1 0 0 0 1 1 1]\n"
     ]
    }
   ],
   "source": [
    "for i in range(1):\n",
    "    terminated = False\n",
    "    #num_nodes = env.num_nodes()\n",
    "    print(env.update_mask())\n",
    "    while terminated is False:\n",
    "        print(env.observation_space.shape[0])\n",
    "        print(env.action_space.n)\n",
    "\n",
    "        action = env.action_space.sample(mask=env.update_mask())\n",
    "        print(action)\n",
    "\n",
    "\n",
    "\n",
    "        observation, reward, terminated, truncated, info = env.step(action)\n",
    "        print(observation)\n",
    "        print(env.update_mask())\n",
    "    env.reset()"
   ],
   "metadata": {
    "collapsed": false,
    "ExecuteTime": {
     "end_time": "2023-12-04T13:26:54.310429500Z",
     "start_time": "2023-12-04T13:26:54.213244600Z"
    }
   }
  },
  {
   "cell_type": "markdown",
   "source": [
    "## torch geometric ##"
   ],
   "metadata": {
    "collapsed": false
   }
  },
  {
   "cell_type": "code",
   "execution_count": 52,
   "outputs": [],
   "source": [
    "graph = nx.barabasi_albert_graph(8,2)\n",
    "nx.set_node_attributes(graph, np.ones(5, dtype=int), 'features')"
   ],
   "metadata": {
    "collapsed": false,
    "ExecuteTime": {
     "end_time": "2023-12-11T09:48:54.594242500Z",
     "start_time": "2023-12-11T09:48:54.454225100Z"
    }
   }
  },
  {
   "cell_type": "code",
   "execution_count": 53,
   "outputs": [],
   "source": [
    "x = torch.Tensor(list(nx.get_node_attributes(graph, \"features\").values()))\n",
    "edge_index = torch.Tensor([list(e) for e in graph.edges]).long().T\n"
   ],
   "metadata": {
    "collapsed": false,
    "ExecuteTime": {
     "end_time": "2023-12-11T09:48:54.866304600Z",
     "start_time": "2023-12-11T09:48:54.723273200Z"
    }
   }
  },
  {
   "cell_type": "code",
   "execution_count": 54,
   "outputs": [
    {
     "data": {
      "text/plain": "tensor([[1., 1., 1., 1., 1.],\n        [1., 1., 1., 1., 1.],\n        [1., 1., 1., 1., 1.],\n        [1., 1., 1., 1., 1.],\n        [1., 1., 1., 1., 1.],\n        [1., 1., 1., 1., 1.],\n        [1., 1., 1., 1., 1.],\n        [1., 1., 1., 1., 1.]])"
     },
     "execution_count": 54,
     "metadata": {},
     "output_type": "execute_result"
    }
   ],
   "source": [
    "x"
   ],
   "metadata": {
    "collapsed": false,
    "ExecuteTime": {
     "end_time": "2023-12-11T09:48:55.135358800Z",
     "start_time": "2023-12-11T09:48:54.979326200Z"
    }
   }
  },
  {
   "cell_type": "code",
   "execution_count": 55,
   "outputs": [
    {
     "data": {
      "text/plain": "torch.Size([2, 12])"
     },
     "execution_count": 55,
     "metadata": {},
     "output_type": "execute_result"
    }
   ],
   "source": [
    "edge_index.shape"
   ],
   "metadata": {
    "collapsed": false,
    "ExecuteTime": {
     "end_time": "2023-12-11T09:48:55.340404100Z",
     "start_time": "2023-12-11T09:48:55.196379700Z"
    }
   }
  },
  {
   "cell_type": "code",
   "execution_count": 56,
   "outputs": [],
   "source": [
    "from torch.nn import Linear, ReLU\n",
    "from torch_geometric.nn import Sequential, GCNConv\n",
    "\n",
    "in_channels = 5\n",
    "out_channels = len(graph.nodes)\n",
    "model = Sequential('x, edge_index', [\n",
    "    (GCNConv(in_channels, 64), 'x, edge_index -> x'),\n",
    "    ReLU(inplace=True),\n",
    "    (GCNConv(64, 64), 'x, edge_index -> x'),\n",
    "    ReLU(inplace=True),\n",
    "    Linear(64, out_channels),\n",
    "])"
   ],
   "metadata": {
    "collapsed": false,
    "ExecuteTime": {
     "end_time": "2023-12-11T09:48:55.640473400Z",
     "start_time": "2023-12-11T09:48:55.475436200Z"
    }
   }
  },
  {
   "cell_type": "code",
   "execution_count": 57,
   "outputs": [],
   "source": [
    "class GCN(torch.nn.Module):\n",
    "    def __init__(self):\n",
    "        super().__init__()\n",
    "        self.model = Sequential('x, edge_index', [\n",
    "                        (GCNConv(5, 64), 'x, edge_index -> x'),\n",
    "                        ReLU(inplace=True),\n",
    "                        (GCNConv(64, 64), 'x, edge_index -> x'),\n",
    "                        ReLU(inplace=True),\n",
    "                        Linear(64, 8),\n",
    "                    ])\n",
    "\n",
    "    def forward(self, x, edge_index):\n",
    "\n",
    "        x = self.model(x, edge_index)\n",
    "\n",
    "        return x"
   ],
   "metadata": {
    "collapsed": false,
    "ExecuteTime": {
     "end_time": "2023-12-11T09:48:56.290172900Z",
     "start_time": "2023-12-11T09:48:56.143136700Z"
    }
   }
  },
  {
   "cell_type": "code",
   "execution_count": 58,
   "outputs": [],
   "source": [
    "model = GCN()"
   ],
   "metadata": {
    "collapsed": false,
    "ExecuteTime": {
     "end_time": "2023-12-11T09:48:56.833800100Z",
     "start_time": "2023-12-11T09:48:56.668766600Z"
    }
   }
  },
  {
   "cell_type": "code",
   "execution_count": 59,
   "outputs": [],
   "source": [
    "out = model(x, edge_index)"
   ],
   "metadata": {
    "collapsed": false,
    "ExecuteTime": {
     "end_time": "2023-12-11T09:48:57.466154300Z",
     "start_time": "2023-12-11T09:48:57.258110800Z"
    }
   }
  },
  {
   "cell_type": "code",
   "execution_count": 60,
   "outputs": [
    {
     "data": {
      "text/plain": "torch.Size([8, 8])"
     },
     "execution_count": 60,
     "metadata": {},
     "output_type": "execute_result"
    }
   ],
   "source": [
    "out.shape"
   ],
   "metadata": {
    "collapsed": false,
    "ExecuteTime": {
     "end_time": "2023-12-11T09:48:57.886249100Z",
     "start_time": "2023-12-11T09:48:57.731214800Z"
    }
   }
  },
  {
   "cell_type": "code",
   "execution_count": 134,
   "outputs": [
    {
     "data": {
      "text/plain": "torch.Size([2, 12])"
     },
     "execution_count": 134,
     "metadata": {},
     "output_type": "execute_result"
    }
   ],
   "source": [
    "edge_index.shape"
   ],
   "metadata": {
    "collapsed": false,
    "ExecuteTime": {
     "end_time": "2023-12-11T12:28:05.875508600Z",
     "start_time": "2023-12-11T12:28:05.684984400Z"
    }
   }
  },
  {
   "cell_type": "code",
   "execution_count": 135,
   "outputs": [],
   "source": [
    "class SumAgg(MessagePassing):\n",
    "    def __init__(self):\n",
    "        super().__init__(aggr='add')\n",
    "\n",
    "    def forward(self, x, edge_index):\n",
    "        out = self.propagate(edge_index, x=x)\n",
    "        return out\n",
    "\n",
    "    def message(self, x_j):\n",
    "        return x_j"
   ],
   "metadata": {
    "collapsed": false,
    "ExecuteTime": {
     "end_time": "2023-12-11T12:28:06.239503200Z",
     "start_time": "2023-12-11T12:28:06.042453200Z"
    }
   }
  },
  {
   "cell_type": "code",
   "execution_count": 136,
   "outputs": [],
   "source": [
    "\n",
    "class CustomGNN(nn.Module):\n",
    "    def __init__(self, in_channels, out_channels, num_layers):\n",
    "        super(CustomGNN, self).__init__()\n",
    "\n",
    "        self.linear1 = nn.Linear(in_channels, out_channels)\n",
    "        self.linear2 = nn.Linear(out_channels, out_channels // 2)\n",
    "        self.linear3 = nn.Linear(out_channels, out_channels // 2)\n",
    "        self.sum_agg = SumAgg()\n",
    "\n",
    "    def forward(self, x, edge_index):\n",
    "\n",
    "        x = F.relu(self.linear1(x))\n",
    "        x = x / x.norm(dim=-1, keepdim=True)\n",
    "\n",
    "        for _ in range(num_layers):\n",
    "\n",
    "            neighbor_messages = self.sum_agg(x,edge_index)\n",
    "\n",
    "            x = F.relu(torch.cat([self.linear2(x),self.linear3(neighbor_messages)], dim=-1))\n",
    "            x = x / x.norm(dim=-1, keepdim=True)\n",
    "\n",
    "        return x\n"
   ],
   "metadata": {
    "collapsed": false,
    "ExecuteTime": {
     "end_time": "2023-12-11T12:28:07.417791Z",
     "start_time": "2023-12-11T12:28:07.216545600Z"
    }
   }
  },
  {
   "cell_type": "code",
   "execution_count": 137,
   "outputs": [],
   "source": [
    "in_channels = 5\n",
    "out_channels = len(graph.nodes)\n",
    "num_layers = 2\n",
    "\n",
    "model = CustomGNN(in_channels, out_channels, num_layers)"
   ],
   "metadata": {
    "collapsed": false,
    "ExecuteTime": {
     "end_time": "2023-12-11T12:28:07.973753300Z",
     "start_time": "2023-12-11T12:28:07.778872500Z"
    }
   }
  },
  {
   "cell_type": "code",
   "execution_count": 138,
   "outputs": [
    {
     "name": "stdout",
     "output_type": "stream",
     "text": [
      "tensor([[0.5332, 0.4966, 0.0000, 0.0000, 0.1524, 0.4732, 0.4710, 0.0000],\n",
      "        [0.5332, 0.4966, 0.0000, 0.0000, 0.1524, 0.4732, 0.4710, 0.0000],\n",
      "        [0.5332, 0.4966, 0.0000, 0.0000, 0.1524, 0.4732, 0.4710, 0.0000],\n",
      "        [0.5332, 0.4966, 0.0000, 0.0000, 0.1524, 0.4732, 0.4710, 0.0000],\n",
      "        [0.5332, 0.4966, 0.0000, 0.0000, 0.1524, 0.4732, 0.4710, 0.0000],\n",
      "        [0.5332, 0.4966, 0.0000, 0.0000, 0.1524, 0.4732, 0.4710, 0.0000],\n",
      "        [0.5332, 0.4966, 0.0000, 0.0000, 0.1524, 0.4732, 0.4710, 0.0000],\n",
      "        [0.5332, 0.4966, 0.0000, 0.0000, 0.1524, 0.4732, 0.4710, 0.0000]],\n",
      "       grad_fn=<DivBackward0>)\n",
      "tensor([[0.0000, 0.0000, 0.0000, 0.0000, 0.0000, 0.0000, 0.0000, 0.0000],\n",
      "        [0.5332, 0.4966, 0.0000, 0.0000, 0.1524, 0.4732, 0.4710, 0.0000],\n",
      "        [0.5332, 0.4966, 0.0000, 0.0000, 0.1524, 0.4732, 0.4710, 0.0000],\n",
      "        [1.0665, 0.9933, 0.0000, 0.0000, 0.3049, 0.9465, 0.9420, 0.0000],\n",
      "        [1.0665, 0.9933, 0.0000, 0.0000, 0.3049, 0.9465, 0.9420, 0.0000],\n",
      "        [1.0665, 0.9933, 0.0000, 0.0000, 0.3049, 0.9465, 0.9420, 0.0000],\n",
      "        [1.0665, 0.9933, 0.0000, 0.0000, 0.3049, 0.9465, 0.9420, 0.0000],\n",
      "        [1.0665, 0.9933, 0.0000, 0.0000, 0.3049, 0.9465, 0.9420, 0.0000]],\n",
      "       grad_fn=<ScatterAddBackward0>)\n",
      "tensor([[0.0000, 0.0000, 0.0000, 0.0000, 0.0000, 0.0000, 0.0000, 0.0000],\n",
      "        [0.0000, 0.7982, 0.0000, 0.3677, 0.0000, 0.1623, 0.4272, 0.1375],\n",
      "        [0.0000, 0.7982, 0.0000, 0.3677, 0.0000, 0.1623, 0.4272, 0.1375],\n",
      "        [0.0000, 1.4362, 0.0000, 0.6616, 0.0000, 0.4801, 0.9224, 0.5377],\n",
      "        [0.0000, 1.2953, 0.0000, 0.5967, 0.0000, 0.5565, 0.9328, 0.6755],\n",
      "        [0.0000, 1.2953, 0.0000, 0.5967, 0.0000, 0.5565, 0.9328, 0.6755],\n",
      "        [0.0000, 1.1351, 0.0000, 0.5229, 0.0000, 0.7121, 1.0008, 0.9383],\n",
      "        [0.0000, 1.2953, 0.0000, 0.5967, 0.0000, 0.5565, 0.9328, 0.6755]],\n",
      "       grad_fn=<ScatterAddBackward0>)\n"
     ]
    }
   ],
   "source": [
    "out = model(x, edge_index)"
   ],
   "metadata": {
    "collapsed": false,
    "ExecuteTime": {
     "end_time": "2023-12-11T12:28:08.459280Z",
     "start_time": "2023-12-11T12:28:08.263897700Z"
    }
   }
  },
  {
   "cell_type": "code",
   "execution_count": 146,
   "outputs": [],
   "source": [
    "graph = nx.barabasi_albert_graph(8,2)\n",
    "nx.set_node_attributes(graph, np.ones(5, dtype=int), 'features')"
   ],
   "metadata": {
    "collapsed": false,
    "ExecuteTime": {
     "end_time": "2023-12-11T15:17:43.253392500Z",
     "start_time": "2023-12-11T15:17:43.063343100Z"
    }
   }
  },
  {
   "cell_type": "code",
   "execution_count": 147,
   "outputs": [
    {
     "data": {
      "text/plain": "EdgeView([(0, 1), (0, 2), (0, 5), (1, 3), (1, 4), (1, 5), (1, 7), (2, 3), (3, 4), (3, 6), (4, 7), (5, 6)])"
     },
     "execution_count": 147,
     "metadata": {},
     "output_type": "execute_result"
    }
   ],
   "source": [
    "graph.edges"
   ],
   "metadata": {
    "collapsed": false,
    "ExecuteTime": {
     "end_time": "2023-12-11T15:17:43.619598500Z",
     "start_time": "2023-12-11T15:17:43.416543200Z"
    }
   }
  },
  {
   "cell_type": "code",
   "execution_count": 148,
   "outputs": [
    {
     "data": {
      "text/plain": "[None, None, None, None, None]"
     },
     "execution_count": 148,
     "metadata": {},
     "output_type": "execute_result"
    }
   ],
   "source": [
    "[graph.remove_edge(*i) for i in graph.edges if i[0] == 1 or i[1] == 1]"
   ],
   "metadata": {
    "collapsed": false,
    "ExecuteTime": {
     "end_time": "2023-12-11T15:17:45.966295Z",
     "start_time": "2023-12-11T15:17:45.769240800Z"
    }
   }
  },
  {
   "cell_type": "code",
   "execution_count": 149,
   "outputs": [
    {
     "data": {
      "text/plain": "EdgeView([(0, 2), (0, 5), (2, 3), (3, 4), (3, 6), (4, 7), (5, 6)])"
     },
     "execution_count": 149,
     "metadata": {},
     "output_type": "execute_result"
    }
   ],
   "source": [
    "graph.edges"
   ],
   "metadata": {
    "collapsed": false,
    "ExecuteTime": {
     "end_time": "2023-12-11T15:17:51.487528900Z",
     "start_time": "2023-12-11T15:17:51.295054300Z"
    }
   }
  },
  {
   "cell_type": "code",
   "execution_count": null,
   "outputs": [],
   "source": [],
   "metadata": {
    "collapsed": false
   }
  }
 ],
 "metadata": {
  "kernelspec": {
   "display_name": "Python 3",
   "language": "python",
   "name": "python3"
  },
  "language_info": {
   "codemirror_mode": {
    "name": "ipython",
    "version": 2
   },
   "file_extension": ".py",
   "mimetype": "text/x-python",
   "name": "python",
   "nbconvert_exporter": "python",
   "pygments_lexer": "ipython2",
   "version": "2.7.6"
  }
 },
 "nbformat": 4,
 "nbformat_minor": 0
}
