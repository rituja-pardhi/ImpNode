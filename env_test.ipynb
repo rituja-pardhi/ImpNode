{
 "cells": [
  {
   "cell_type": "code",
   "execution_count": 2,
   "outputs": [],
   "source": [
    "%load_ext autoreload\n",
    "%autoreload 2"
   ],
   "metadata": {
    "collapsed": false,
    "ExecuteTime": {
     "end_time": "2023-12-26T08:43:31.169182500Z",
     "start_time": "2023-12-26T08:43:31.093170100Z"
    }
   }
  },
  {
   "cell_type": "code",
   "execution_count": 3,
   "outputs": [],
   "source": [
    "import numpy as np\n",
    "import networkx as nx\n",
    "\n",
    "import torch\n",
    "import torch.nn as nn\n",
    "import torch.nn.functional as F\n",
    "from torch_geometric.nn import MessagePassing"
   ],
   "metadata": {
    "collapsed": false,
    "ExecuteTime": {
     "end_time": "2023-12-26T08:43:35.078807400Z",
     "start_time": "2023-12-26T08:43:31.344182200Z"
    }
   }
  },
  {
   "cell_type": "code",
   "execution_count": 71,
   "outputs": [],
   "source": [
    "from envs.GraphEnv.impnode import ImpnodeEnv\n",
    "\n",
    "seed = 5545"
   ],
   "metadata": {
    "collapsed": false,
    "ExecuteTime": {
     "end_time": "2023-12-21T09:45:03.517587400Z",
     "start_time": "2023-12-21T09:45:03.313541Z"
    }
   }
  },
  {
   "cell_type": "code",
   "execution_count": 74,
   "outputs": [],
   "source": [
    "env = ImpnodeEnv(ba_nodes = 8,ba_edges = 2,max_removed_nodes = 3, seed=seed, render_option=False)"
   ],
   "metadata": {
    "collapsed": false,
    "ExecuteTime": {
     "end_time": "2023-12-22T12:48:48.170432100Z",
     "start_time": "2023-12-22T12:48:47.168139100Z"
    }
   }
  },
  {
   "cell_type": "code",
   "execution_count": 75,
   "outputs": [
    {
     "name": "stdout",
     "output_type": "stream",
     "text": [
      "[0, 1, 2, 3, 4, 5, 6, 7]\n",
      "[(0, 1), (0, 2), (0, 4), (0, 5), (0, 6), (1, 3), (2, 3), (2, 6), (2, 7), (3, 4), (4, 5), (5, 7)]\n",
      "[1 1 1 1 1 1 1 1]\n",
      "4 0.0\n",
      "[1 1 1 1 0 1 1 1]\n",
      "7 0.25\n",
      "[1 1 1 1 0 1 1 0]\n",
      "0 0.35714285714285715\n",
      "[0, 1, 2, 3, 4, 5, 6, 7]\n",
      "[(0, 1), (0, 2), (0, 4), (0, 5), (0, 6), (1, 3), (2, 3), (2, 6), (2, 7), (3, 4), (4, 5), (5, 7)]\n",
      "[1 1 1 1 1 1 1 1]\n",
      "4 0.0\n",
      "[1 1 1 1 0 1 1 1]\n",
      "3 0.0\n",
      "[1 1 1 0 0 1 1 1]\n",
      "0 0.25\n"
     ]
    }
   ],
   "source": [
    "for i in range(2):\n",
    "    observation , info = env.reset()\n",
    "    print(observation.nodes)\n",
    "    print(observation.edges)\n",
    "    terminated = False\n",
    "    while terminated is False:\n",
    "        print(info['node_action_mask'])\n",
    "        action = env.action_space.sample(mask=info['node_action_mask'])\n",
    "        observation, reward, terminated, truncated, info = env.step(action)\n",
    "        print(action,reward)\n",
    "    env.reset()"
   ],
   "metadata": {
    "collapsed": false,
    "ExecuteTime": {
     "end_time": "2023-12-22T12:48:48.392896900Z",
     "start_time": "2023-12-22T12:48:48.174422300Z"
    }
   }
  },
  {
   "cell_type": "code",
   "execution_count": 117,
   "outputs": [],
   "source": [
    "import torch\n",
    "import torch.nn as nn"
   ],
   "metadata": {
    "collapsed": false,
    "ExecuteTime": {
     "end_time": "2023-12-22T14:10:48.269298300Z",
     "start_time": "2023-12-22T14:10:48.056162400Z"
    }
   }
  },
  {
   "cell_type": "code",
   "execution_count": 135,
   "outputs": [
    {
     "name": "stdout",
     "output_type": "stream",
     "text": [
      "matrix_np_p_p shape: torch.Size([5, 5, 3, 3])\n",
      "Result shape: torch.Size([5, 3, 1])\n"
     ]
    }
   ],
   "source": [
    "n = 5\n",
    "p = 3\n",
    "\n",
    "# Create random tensors\n",
    "matrix_np_p = torch.rand(n, p)\n",
    "vector_1_p = torch.rand(1, p)\n",
    "\n",
    "# Use broadcasting to perform the multiplication\n",
    "matrix_np_p_p = (matrix_np_p.unsqueeze(2) * vector_1_p.unsqueeze(0).unsqueeze(2)).squeeze(0)\n",
    "y = nn.Linear(p, 1)(matrix_np_p_p)\n",
    "\n",
    "# Print the result and its shape\n",
    "print(\"matrix_np_p_p shape:\", matrix_np_p_p.shape)\n",
    "print(\"Result shape:\", y.squeeze(2).shape)"
   ],
   "metadata": {
    "collapsed": false,
    "ExecuteTime": {
     "end_time": "2023-12-22T14:55:19.482517Z",
     "start_time": "2023-12-22T14:55:19.267749300Z"
    }
   }
  },
  {
   "cell_type": "code",
   "execution_count": 149,
   "outputs": [
    {
     "name": "stdout",
     "output_type": "stream",
     "text": [
      "Shape of tensor1: torch.Size([3, 4, 5])\n",
      "Shape of tensor2: torch.Size([3, 1, 5])\n",
      "Shape of result: torch.Size([3, 3, 4, 5])\n"
     ]
    }
   ],
   "source": [
    "import torch\n",
    "\n",
    "# Example tensors\n",
    "k, n, p = 3, 4, 5\n",
    "tensor1 = torch.rand(k, n, p)\n",
    "tensor2 = torch.rand(k, 1, p)\n",
    "\n",
    "# Broadcasting for element-wise multiplication\n",
    "result = tensor1 * tensor2.unsqueeze(2)\n",
    "\n",
    "# Print the shapes\n",
    "print(\"Shape of tensor1:\", tensor1.shape)\n",
    "print(\"Shape of tensor2:\", tensor2.shape)\n",
    "print(\"Shape of result:\", result.shape)\n"
   ],
   "metadata": {
    "collapsed": false,
    "ExecuteTime": {
     "end_time": "2023-12-22T15:14:40.985463500Z",
     "start_time": "2023-12-22T15:14:40.833703300Z"
    }
   }
  },
  {
   "cell_type": "code",
   "execution_count": 48,
   "outputs": [
    {
     "name": "stdout",
     "output_type": "stream",
     "text": [
      "\n",
      "Result after concatenation:\n",
      "tensor([[1, 2, 3, 7, 8, 9],\n",
      "        [4, 5, 6, 7, 8, 9]])\n"
     ]
    }
   ],
   "source": [
    "import torch\n",
    "\n",
    "# Example tensor\n",
    "tensor = torch.tensor([[1, 2, 3],\n",
    "                       [4, 5, 6],\n",
    "                       [7, 8, 9]])\n",
    "\n",
    "\n",
    "\n",
    "\n",
    "# Concatenate the repeated last row with all rows before it\n",
    "result = torch.cat((tensor[:-1],tensor[-1].repeat(len(tensor) - 1, 1)), dim=1)\n",
    "\n",
    "\n",
    "print(\"\\nResult after concatenation:\")\n",
    "print(result)\n"
   ],
   "metadata": {
    "collapsed": false,
    "ExecuteTime": {
     "end_time": "2023-12-23T09:27:42.440805Z",
     "start_time": "2023-12-23T09:27:42.426006900Z"
    }
   }
  },
  {
   "cell_type": "code",
   "execution_count": 5,
   "outputs": [
    {
     "name": "stdout",
     "output_type": "stream",
     "text": [
      "Pairwise Euclidean Distances:\n",
      "tensor([[ 0.0000,  5.1962, 10.3923],\n",
      "        [ 5.1962,  0.0000,  5.1962],\n",
      "        [10.3923,  5.1962,  0.0000]])\n",
      "tensor([[ 0.0000,  5.1962, 10.3923],\n",
      "        [ 0.0000,  0.0000,  5.1962],\n",
      "        [ 0.0000,  0.0000,  0.0000]])\n"
     ]
    }
   ],
   "source": [
    "import torch\n",
    "\n",
    "# Example row matrix\n",
    "row_matrix = torch.tensor([[1.0, 2.0, 3.0],\n",
    "                          [4.0, 5.0, 6.0],\n",
    "                          [7.0, 8.0, 9.0]])\n",
    "\n",
    "# Compute pairwise Euclidean distances\n",
    "pairwise_distances = torch.cdist(row_matrix, row_matrix)\n",
    "\n",
    "upper_triangular = torch.triu(pairwise_distances, diagonal=1)\n",
    "\n",
    "print(\"Pairwise Euclidean Distances:\")\n",
    "print(pairwise_distances)\n",
    "print(upper_triangular)"
   ],
   "metadata": {
    "collapsed": false,
    "ExecuteTime": {
     "end_time": "2023-12-25T14:27:48.490652700Z",
     "start_time": "2023-12-25T14:27:48.470649800Z"
    }
   }
  },
  {
   "cell_type": "code",
   "execution_count": 6,
   "outputs": [
    {
     "name": "stdout",
     "output_type": "stream",
     "text": [
      "Adjacency Matrix:\n",
      "tensor([[0., 1., 0.],\n",
      "        [1., 0., 1.],\n",
      "        [0., 1., 1.]])\n"
     ]
    }
   ],
   "source": [
    "import torch\n",
    "from torch_geometric.utils import to_dense_adj\n",
    "\n",
    "# Example edge index\n",
    "edge_index = torch.tensor([[0, 1, 1, 2, 2], [1, 0, 2, 1, 2]], dtype=torch.long)\n",
    "\n",
    "# Convert edge index to adjacency matrix\n",
    "adjacency_matrix = to_dense_adj(edge_index).squeeze(0)\n",
    "\n",
    "print(\"Adjacency Matrix:\")\n",
    "print(adjacency_matrix)"
   ],
   "metadata": {
    "collapsed": false,
    "ExecuteTime": {
     "end_time": "2023-12-25T14:27:48.796736200Z",
     "start_time": "2023-12-25T14:27:48.777710200Z"
    }
   }
  },
  {
   "cell_type": "code",
   "execution_count": 8,
   "outputs": [
    {
     "data": {
      "text/plain": "tensor([[0.0000, 5.1962, 0.0000],\n        [5.1962, 0.0000, 5.1962],\n        [0.0000, 5.1962, 0.0000]])"
     },
     "execution_count": 8,
     "metadata": {},
     "output_type": "execute_result"
    }
   ],
   "source": [
    "result2 = torch.mul(adjacency_matrix, pairwise_distances)\n",
    "result2"
   ],
   "metadata": {
    "collapsed": false,
    "ExecuteTime": {
     "end_time": "2023-12-25T14:27:58.617876100Z",
     "start_time": "2023-12-25T14:27:58.604874500Z"
    }
   }
  },
  {
   "cell_type": "code",
   "execution_count": 10,
   "outputs": [
    {
     "data": {
      "text/plain": "tensor(10.3923)"
     },
     "execution_count": 10,
     "metadata": {},
     "output_type": "execute_result"
    }
   ],
   "source": [
    "sum_of_matrix = torch.sum(result2)/2\n",
    "sum_of_matrix"
   ],
   "metadata": {
    "collapsed": false,
    "ExecuteTime": {
     "end_time": "2023-12-25T14:29:18.997726100Z",
     "start_time": "2023-12-25T14:29:18.983722300Z"
    }
   }
  },
  {
   "cell_type": "code",
   "execution_count": null,
   "outputs": [],
   "source": [],
   "metadata": {
    "collapsed": false
   }
  }
 ],
 "metadata": {
  "kernelspec": {
   "display_name": "Python 3",
   "language": "python",
   "name": "python3"
  },
  "language_info": {
   "codemirror_mode": {
    "name": "ipython",
    "version": 2
   },
   "file_extension": ".py",
   "mimetype": "text/x-python",
   "name": "python",
   "nbconvert_exporter": "python",
   "pygments_lexer": "ipython2",
   "version": "2.7.6"
  }
 },
 "nbformat": 4,
 "nbformat_minor": 0
}
