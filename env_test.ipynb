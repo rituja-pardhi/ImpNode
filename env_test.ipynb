{
 "cells": [
  {
   "cell_type": "code",
   "execution_count": 6,
   "outputs": [
    {
     "name": "stdout",
     "output_type": "stream",
     "text": [
      "The autoreload extension is already loaded. To reload it, use:\n",
      "  %reload_ext autoreload\n"
     ]
    }
   ],
   "source": [
    "%load_ext autoreload\n",
    "%autoreload 2"
   ],
   "metadata": {
    "collapsed": false,
    "ExecuteTime": {
     "end_time": "2024-01-09T12:52:00.590762300Z",
     "start_time": "2024-01-09T12:52:00.341686100Z"
    }
   }
  },
  {
   "cell_type": "code",
   "execution_count": 13,
   "outputs": [],
   "source": [
    "import numpy as np\n",
    "import networkx as nx\n",
    "\n",
    "import torch\n",
    "import torch.nn as nn\n",
    "import torch.nn.functional as F\n",
    "from torch_geometric.nn import MessagePassing"
   ],
   "metadata": {
    "collapsed": false,
    "ExecuteTime": {
     "end_time": "2024-01-09T12:52:31.392851300Z",
     "start_time": "2024-01-09T12:52:31.134972500Z"
    }
   }
  },
  {
   "cell_type": "code",
   "execution_count": 20,
   "outputs": [],
   "source": [
    "from envs.GraphEnv.impnode import ImpnodeEnv\n",
    "\n",
    "seed = 5545"
   ],
   "metadata": {
    "collapsed": false,
    "ExecuteTime": {
     "end_time": "2024-01-09T12:52:45.218469400Z",
     "start_time": "2024-01-09T12:52:45.028432400Z"
    }
   }
  },
  {
   "cell_type": "code",
   "execution_count": 21,
   "outputs": [],
   "source": [
    "env = ImpnodeEnv(anc='nd', ba_nodes=(15, 25), ba_edges = 4,max_removed_nodes = 2, seed=seed, render_option=True, data= False,data_path=False, train_mode=True)"
   ],
   "metadata": {
    "collapsed": false,
    "ExecuteTime": {
     "end_time": "2024-01-09T12:52:45.440056100Z",
     "start_time": "2024-01-09T12:52:45.257012200Z"
    }
   }
  },
  {
   "cell_type": "code",
   "execution_count": 22,
   "outputs": [
    {
     "name": "stdout",
     "output_type": "stream",
     "text": [
      "Graph is fully disconnected\n",
      "0.4209517045454545\n"
     ]
    }
   ],
   "source": [
    "for i in range(1):\n",
    "    observation , info = env.reset()\n",
    "    terminated = False\n",
    "    while terminated is False:\n",
    "        action = env.action_space.sample(mask=info['node_action_mask'])\n",
    "        observation, reward, terminated, truncated, info = env.step(action)\n"
   ],
   "metadata": {
    "collapsed": false,
    "ExecuteTime": {
     "end_time": "2024-01-09T12:52:45.784782900Z",
     "start_time": "2024-01-09T12:52:45.531081500Z"
    }
   }
  },
  {
   "cell_type": "code",
   "execution_count": 17,
   "outputs": [],
   "source": [
    "import torch\n",
    "import torch.nn as nn"
   ],
   "metadata": {
    "collapsed": false,
    "ExecuteTime": {
     "end_time": "2024-01-09T12:52:33.863149Z",
     "start_time": "2024-01-09T12:52:33.615037200Z"
    }
   }
  },
  {
   "cell_type": "code",
   "execution_count": 141,
   "outputs": [
    {
     "name": "stdout",
     "output_type": "stream",
     "text": [
      "matrix_np_p_p shape: torch.Size([5, 3, 3])\n",
      "Result shape: torch.Size([5, 3])\n"
     ]
    }
   ],
   "source": [
    "n = 5\n",
    "p = 3\n",
    "\n",
    "# Create random tensors\n",
    "matrix_np_p = torch.rand(n, p)\n",
    "vector_1_p = torch.rand(1, p)\n",
    "\n",
    "# Use broadcasting to perform the multiplication\n",
    "matrix_np_p_p = (matrix_np_p.unsqueeze(2) * vector_1_p.unsqueeze(0).unsqueeze(2)).squeeze(0)\n",
    "y = nn.Linear(p, 1)(matrix_np_p_p)\n",
    "\n",
    "# Print the result and its shape\n",
    "print(\"matrix_np_p_p shape:\", matrix_np_p_p.shape)\n",
    "print(\"Result shape:\", y.squeeze(2).shape)"
   ],
   "metadata": {
    "collapsed": false,
    "ExecuteTime": {
     "end_time": "2024-01-03T14:04:25.988802200Z",
     "start_time": "2024-01-03T14:04:25.799776500Z"
    }
   }
  },
  {
   "cell_type": "code",
   "execution_count": 142,
   "outputs": [
    {
     "name": "stdout",
     "output_type": "stream",
     "text": [
      "Shape of tensor1: torch.Size([3, 4, 5])\n",
      "Shape of tensor2: torch.Size([3, 1, 5])\n",
      "Shape of result: torch.Size([3, 3, 4, 5])\n"
     ]
    }
   ],
   "source": [
    "import torch\n",
    "\n",
    "# Example tensors\n",
    "k, n, p = 3, 4, 5\n",
    "tensor1 = torch.rand(k, n, p)\n",
    "tensor2 = torch.rand(k, 1, p)\n",
    "\n",
    "# Broadcasting for element-wise multiplication\n",
    "result = tensor1 * tensor2.unsqueeze(2)\n",
    "\n",
    "# Print the shapes\n",
    "print(\"Shape of tensor1:\", tensor1.shape)\n",
    "print(\"Shape of tensor2:\", tensor2.shape)\n",
    "print(\"Shape of result:\", result.shape)\n"
   ],
   "metadata": {
    "collapsed": false,
    "ExecuteTime": {
     "end_time": "2024-01-03T14:04:26.195867200Z",
     "start_time": "2024-01-03T14:04:25.991802900Z"
    }
   }
  },
  {
   "cell_type": "code",
   "execution_count": 143,
   "outputs": [
    {
     "name": "stdout",
     "output_type": "stream",
     "text": [
      "\n",
      "Result after concatenation:\n",
      "tensor([[1, 2, 3, 7, 8, 9],\n",
      "        [4, 5, 6, 7, 8, 9]])\n"
     ]
    }
   ],
   "source": [
    "import torch\n",
    "\n",
    "# Example tensor\n",
    "tensor = torch.tensor([[1, 2, 3],\n",
    "                       [4, 5, 6],\n",
    "                       [7, 8, 9]])\n",
    "\n",
    "\n",
    "\n",
    "\n",
    "# Concatenate the repeated last row with all rows before it\n",
    "result = torch.cat((tensor[:-1],tensor[-1].repeat(len(tensor) - 1, 1)), dim=1)\n",
    "\n",
    "\n",
    "print(\"\\nResult after concatenation:\")\n",
    "print(result)\n"
   ],
   "metadata": {
    "collapsed": false,
    "ExecuteTime": {
     "end_time": "2024-01-03T14:04:26.385893400Z",
     "start_time": "2024-01-03T14:04:26.200867100Z"
    }
   }
  },
  {
   "cell_type": "code",
   "execution_count": 144,
   "outputs": [
    {
     "name": "stdout",
     "output_type": "stream",
     "text": [
      "Pairwise Euclidean Distances:\n",
      "tensor([[ 0.0000,  5.1962, 10.3923],\n",
      "        [ 5.1962,  0.0000,  5.1962],\n",
      "        [10.3923,  5.1962,  0.0000]])\n",
      "tensor([[ 0.0000,  5.1962, 10.3923],\n",
      "        [ 0.0000,  0.0000,  5.1962],\n",
      "        [ 0.0000,  0.0000,  0.0000]])\n"
     ]
    }
   ],
   "source": [
    "import torch\n",
    "\n",
    "# Example row matrix\n",
    "row_matrix = torch.tensor([[1.0, 2.0, 3.0],\n",
    "                          [4.0, 5.0, 6.0],\n",
    "                          [7.0, 8.0, 9.0]])\n",
    "\n",
    "# Compute pairwise Euclidean distances\n",
    "pairwise_distances = torch.cdist(row_matrix, row_matrix)\n",
    "\n",
    "upper_triangular = torch.triu(pairwise_distances, diagonal=1)\n",
    "\n",
    "print(\"Pairwise Euclidean Distances:\")\n",
    "print(pairwise_distances)\n",
    "print(upper_triangular)"
   ],
   "metadata": {
    "collapsed": false,
    "ExecuteTime": {
     "end_time": "2024-01-03T14:04:26.613945600Z",
     "start_time": "2024-01-03T14:04:26.376891400Z"
    }
   }
  },
  {
   "cell_type": "code",
   "execution_count": 145,
   "outputs": [
    {
     "name": "stdout",
     "output_type": "stream",
     "text": [
      "Adjacency Matrix:\n",
      "tensor([[0., 1., 0.],\n",
      "        [1., 0., 1.],\n",
      "        [0., 1., 1.]])\n"
     ]
    }
   ],
   "source": [
    "import torch\n",
    "from torch_geometric.utils import to_dense_adj\n",
    "\n",
    "# Example edge index\n",
    "edge_index = torch.tensor([[0, 1, 1, 2, 2], [1, 0, 2, 1, 2]], dtype=torch.long)\n",
    "\n",
    "# Convert edge index to adjacency matrix\n",
    "adjacency_matrix = to_dense_adj(edge_index).squeeze(0)\n",
    "\n",
    "print(\"Adjacency Matrix:\")\n",
    "print(adjacency_matrix)"
   ],
   "metadata": {
    "collapsed": false,
    "ExecuteTime": {
     "end_time": "2024-01-03T14:04:26.852019800Z",
     "start_time": "2024-01-03T14:04:26.611945300Z"
    }
   }
  },
  {
   "cell_type": "code",
   "execution_count": 146,
   "outputs": [
    {
     "data": {
      "text/plain": "tensor([[0.0000, 5.1962, 0.0000],\n        [5.1962, 0.0000, 5.1962],\n        [0.0000, 5.1962, 0.0000]])"
     },
     "execution_count": 146,
     "metadata": {},
     "output_type": "execute_result"
    }
   ],
   "source": [
    "result2 = torch.mul(adjacency_matrix, pairwise_distances)\n",
    "result2"
   ],
   "metadata": {
    "collapsed": false,
    "ExecuteTime": {
     "end_time": "2024-01-03T14:04:27.043062300Z",
     "start_time": "2024-01-03T14:04:26.853001800Z"
    }
   }
  },
  {
   "cell_type": "code",
   "execution_count": 147,
   "outputs": [
    {
     "data": {
      "text/plain": "tensor(10.3923)"
     },
     "execution_count": 147,
     "metadata": {},
     "output_type": "execute_result"
    }
   ],
   "source": [
    "sum_of_matrix = torch.sum(result2)/2\n",
    "sum_of_matrix"
   ],
   "metadata": {
    "collapsed": false,
    "ExecuteTime": {
     "end_time": "2024-01-03T14:04:27.217100900Z",
     "start_time": "2024-01-03T14:04:27.043062300Z"
    }
   }
  },
  {
   "cell_type": "code",
   "execution_count": 148,
   "outputs": [],
   "source": [
    "epsilon_min = 0.05\n",
    "epsilon_step =10\n",
    "epsilon_max = 1\n",
    "epsilon = 1\n",
    "epsilons=[]"
   ],
   "metadata": {
    "collapsed": false,
    "ExecuteTime": {
     "end_time": "2024-01-03T14:04:27.411128200Z",
     "start_time": "2024-01-03T14:04:27.223101400Z"
    }
   }
  },
  {
   "cell_type": "code",
   "execution_count": 149,
   "outputs": [],
   "source": [
    "for i in range(20):\n",
    "    epsilon -= (epsilon_max - epsilon_min) / epsilon_step\n",
    "    epsilon = max(epsilon_min, epsilon)\n",
    "    epsilons.append(epsilon)"
   ],
   "metadata": {
    "collapsed": false,
    "ExecuteTime": {
     "end_time": "2024-01-03T14:04:27.616191400Z",
     "start_time": "2024-01-03T14:04:27.411128200Z"
    }
   }
  },
  {
   "cell_type": "code",
   "execution_count": 150,
   "outputs": [
    {
     "data": {
      "text/plain": "<Axes: >"
     },
     "execution_count": 150,
     "metadata": {},
     "output_type": "execute_result"
    },
    {
     "data": {
      "text/plain": "<Figure size 640x480 with 1 Axes>",
      "image/png": "[encoded data removed]"
     },
     "metadata": {},
     "output_type": "display_data"
    }
   ],
   "source": [
    "import seaborn as sns\n",
    "sns.lineplot(epsilons)"
   ],
   "metadata": {
    "collapsed": false,
    "ExecuteTime": {
     "end_time": "2024-01-03T14:04:28.102285500Z",
     "start_time": "2024-01-03T14:04:27.616191400Z"
    }
   }
  },
  {
   "cell_type": "code",
   "execution_count": 150,
   "outputs": [],
   "source": [],
   "metadata": {
    "collapsed": false,
    "ExecuteTime": {
     "end_time": "2024-01-03T14:04:28.146304800Z",
     "start_time": "2024-01-03T14:04:28.098287100Z"
    }
   }
  }
 ],
 "metadata": {
  "kernelspec": {
   "display_name": "Python 3",
   "language": "python",
   "name": "python3"
  },
  "language_info": {
   "codemirror_mode": {
    "name": "ipython",
    "version": 2
   },
   "file_extension": ".py",
   "mimetype": "text/x-python",
   "name": "python",
   "nbconvert_exporter": "python",
   "pygments_lexer": "ipython2",
   "version": "2.7.6"
  }
 },
 "nbformat": 4,
 "nbformat_minor": 0
}
