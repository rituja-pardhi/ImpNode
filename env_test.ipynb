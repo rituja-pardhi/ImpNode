{
 "cells": [
  {
   "cell_type": "code",
   "execution_count": 5,
   "outputs": [
    {
     "name": "stdout",
     "output_type": "stream",
     "text": [
      "The autoreload extension is already loaded. To reload it, use:\n",
      "  %reload_ext autoreload\n"
     ]
    }
   ],
   "source": [
    "%load_ext autoreload\n",
    "%autoreload 2"
   ],
   "metadata": {
    "collapsed": false,
    "ExecuteTime": {
     "end_time": "2023-11-29T15:18:43.686686700Z",
     "start_time": "2023-11-29T15:18:42.999875Z"
    }
   }
  },
  {
   "cell_type": "code",
   "execution_count": 6,
   "outputs": [],
   "source": [
    "import numpy as np"
   ],
   "metadata": {
    "collapsed": false,
    "ExecuteTime": {
     "end_time": "2023-11-29T15:18:43.799714100Z",
     "start_time": "2023-11-29T15:18:43.697691Z"
    }
   }
  },
  {
   "cell_type": "code",
   "execution_count": 7,
   "outputs": [],
   "source": [
    "from graph_envs.GraphEnv.impnode import ImpnodeEnv\n",
    "\n",
    "seed = 5545"
   ],
   "metadata": {
    "collapsed": false,
    "ExecuteTime": {
     "end_time": "2023-11-29T15:18:43.941746100Z",
     "start_time": "2023-11-29T15:18:43.810714500Z"
    }
   }
  },
  {
   "cell_type": "code",
   "execution_count": 8,
   "outputs": [
    {
     "data": {
      "text/plain": "[5545]"
     },
     "execution_count": 8,
     "metadata": {},
     "output_type": "execute_result"
    }
   ],
   "source": [
    "env = ImpnodeEnv(8,2,3,seed)\n",
    "env.action_space.seed(seed)"
   ],
   "metadata": {
    "collapsed": false,
    "ExecuteTime": {
     "end_time": "2023-11-29T15:18:45.278464100Z",
     "start_time": "2023-11-29T15:18:45.084702800Z"
    }
   }
  },
  {
   "cell_type": "code",
   "execution_count": 9,
   "outputs": [
    {
     "name": "stdout",
     "output_type": "stream",
     "text": [
      "[1 1 1 1 1 1 1 1]\n",
      "8\n",
      "8\n",
      "2\n",
      "[1 1 0 1 1 1 1 1]\n",
      "8\n",
      "8\n",
      "4\n",
      "[1 1 0 1 0 1 1 1]\n",
      "8\n",
      "8\n",
      "3\n",
      "[1 1 0 0 0 1 1 1]\n"
     ]
    }
   ],
   "source": [
    "for i in range(1):\n",
    "    terminated = False\n",
    "    #num_nodes = env.num_nodes()\n",
    "    mask = np.ones((env.num_nodes()), dtype=np.int8)\n",
    "    print(mask)\n",
    "    while terminated is False:\n",
    "        print(env.observation_space.shape[0])\n",
    "        print(env.action_space.n)\n",
    "        action = env.action_space.sample(mask=mask)\n",
    "        print(action)\n",
    "        mask[action] = 0\n",
    "        print(mask)\n",
    "        observation, reward, terminated, truncated, info = env.step(action)\n",
    "    env.reset()"
   ],
   "metadata": {
    "collapsed": false,
    "ExecuteTime": {
     "end_time": "2023-11-29T15:18:45.909648900Z",
     "start_time": "2023-11-29T15:18:45.788621200Z"
    }
   }
  },
  {
   "cell_type": "code",
   "execution_count": 43,
   "outputs": [],
   "source": [],
   "metadata": {
    "collapsed": false,
    "ExecuteTime": {
     "end_time": "2023-11-29T14:52:37.836716100Z",
     "start_time": "2023-11-29T14:52:37.796711300Z"
    }
   }
  },
  {
   "cell_type": "code",
   "execution_count": 120,
   "outputs": [],
   "source": [],
   "metadata": {
    "collapsed": false,
    "ExecuteTime": {
     "end_time": "2023-11-16T15:20:59.914139400Z",
     "start_time": "2023-11-16T15:20:59.896127800Z"
    }
   }
  }
 ],
 "metadata": {
  "kernelspec": {
   "display_name": "Python 3",
   "language": "python",
   "name": "python3"
  },
  "language_info": {
   "codemirror_mode": {
    "name": "ipython",
    "version": 2
   },
   "file_extension": ".py",
   "mimetype": "text/x-python",
   "name": "python",
   "nbconvert_exporter": "python",
   "pygments_lexer": "ipython2",
   "version": "2.7.6"
  }
 },
 "nbformat": 4,
 "nbformat_minor": 0
}
