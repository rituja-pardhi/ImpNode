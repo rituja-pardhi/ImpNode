{
 "cells": [
  {
   "cell_type": "code",
   "execution_count": 69,
   "outputs": [
    {
     "name": "stdout",
     "output_type": "stream",
     "text": [
      "The autoreload extension is already loaded. To reload it, use:\n",
      "  %reload_ext autoreload\n"
     ]
    }
   ],
   "source": [
    "%load_ext autoreload\n",
    "%autoreload 2"
   ],
   "metadata": {
    "collapsed": false,
    "ExecuteTime": {
     "end_time": "2024-04-05T12:17:56.216300200Z",
     "start_time": "2024-04-05T12:17:55.788356200Z"
    }
   }
  },
  {
   "cell_type": "code",
   "execution_count": 70,
   "outputs": [],
   "source": [
    "import numpy as np\n",
    "import networkx as nx\n",
    "\n",
    "import torch\n",
    "import torch.nn as nn\n",
    "import torch.nn.functional as F\n",
    "from torch_geometric.nn import MessagePassing\n",
    "from pathlib import Path"
   ],
   "metadata": {
    "collapsed": false,
    "ExecuteTime": {
     "end_time": "2024-04-05T12:17:56.393498500Z",
     "start_time": "2024-04-05T12:17:56.205807700Z"
    }
   }
  },
  {
   "cell_type": "code",
   "execution_count": 71,
   "outputs": [],
   "source": [
    "from envs.GraphEnv.impnode import ImpnodeEnv\n",
    "\n",
    "seed = 5545"
   ],
   "metadata": {
    "collapsed": false,
    "ExecuteTime": {
     "end_time": "2024-04-05T12:17:56.535338700Z",
     "start_time": "2024-04-05T12:17:56.401500100Z"
    }
   }
  },
  {
   "cell_type": "code",
   "execution_count": 72,
   "outputs": [],
   "source": [
    "env = ImpnodeEnv(anc='dw_nd',g_type='barabasi_albert', num_nodes=(10,15), mode='train')"
   ],
   "metadata": {
    "collapsed": false,
    "ExecuteTime": {
     "end_time": "2024-04-05T12:17:56.862729600Z",
     "start_time": "2024-04-05T12:17:56.703676100Z"
    }
   }
  },
  {
   "cell_type": "code",
   "execution_count": 73,
   "outputs": [
    {
     "name": "stdout",
     "output_type": "stream",
     "text": [
      "0\n",
      "2\n",
      "4\n",
      "9\n",
      "1\n",
      "5\n",
      "8\n",
      "3\n",
      "6\n"
     ]
    }
   ],
   "source": [
    "for i in range(1):\n",
    "    observation , info = env.reset()\n",
    "    terminated = False\n",
    "    while terminated is False:\n",
    "        action = env.action_space.sample(mask=info['node_action_mask'])\n",
    "        observation, reward, terminated, truncated, info = env.step(action)\n",
    "        print(action)"
   ],
   "metadata": {
    "collapsed": false,
    "ExecuteTime": {
     "end_time": "2024-04-05T12:17:57.259186900Z",
     "start_time": "2024-04-05T12:17:57.101422800Z"
    }
   }
  },
  {
   "cell_type": "code",
   "outputs": [],
   "source": [
    "subdir = 'DQN/data/real/Cost'\n",
    "file_name = 'Crime_degree.gml'\n",
    "data_path = Path.cwd()/subdir\n",
    "env_test = ImpnodeEnv(anc='dw_nd',g_type='barabasi_albert', num_nodes=(10,15), mode='train', render=False, data_path=data_path, file_name=file_name)"
   ],
   "metadata": {
    "collapsed": false,
    "ExecuteTime": {
     "end_time": "2024-04-05T12:18:02.314274200Z",
     "start_time": "2024-04-05T12:17:58.357446700Z"
    }
   },
   "execution_count": 74
  },
  {
   "cell_type": "code",
   "outputs": [],
   "source": [
    "actions =[]\n",
    "for i in range(1):\n",
    "    observation , info = env_test.reset()\n",
    "    terminated = False\n",
    "    while terminated is False:\n",
    "        action = env_test.action_space.sample(mask=info['node_action_mask'])\n",
    "        observation, reward, terminated, truncated, info = env_test.step(action)\n",
    "        actions.append(action)"
   ],
   "metadata": {
    "collapsed": false,
    "ExecuteTime": {
     "end_time": "2024-04-05T12:18:13.680692500Z",
     "start_time": "2024-04-05T12:18:02.317992100Z"
    }
   },
   "execution_count": 75
  },
  {
   "cell_type": "code",
   "outputs": [
    {
     "data": {
      "text/plain": "822"
     },
     "execution_count": 76,
     "metadata": {},
     "output_type": "execute_result"
    }
   ],
   "source": [
    "len(actions)"
   ],
   "metadata": {
    "collapsed": false,
    "ExecuteTime": {
     "end_time": "2024-04-05T12:18:13.824206900Z",
     "start_time": "2024-04-05T12:18:13.674696800Z"
    }
   },
   "execution_count": 76
  }
 ],
 "metadata": {
  "kernelspec": {
   "display_name": "Python 3",
   "language": "python",
   "name": "python3"
  },
  "language_info": {
   "codemirror_mode": {
    "name": "ipython",
    "version": 2
   },
   "file_extension": ".py",
   "mimetype": "text/x-python",
   "name": "python",
   "nbconvert_exporter": "python",
   "pygments_lexer": "ipython2",
   "version": "2.7.6"
  }
 },
 "nbformat": 4,
 "nbformat_minor": 0
}
